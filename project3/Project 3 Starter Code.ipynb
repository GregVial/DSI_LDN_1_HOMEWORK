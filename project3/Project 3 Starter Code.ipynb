{
 "cells": [
  {
   "cell_type": "markdown",
   "metadata": {},
   "source": [
    "# Project 3: Liquor Sales + Linear Regression\n",
    "## Grégory Vial\n",
    "## October 30th, 2016"
   ]
  },
  {
   "cell_type": "markdown",
   "metadata": {},
   "source": [
    "# Problem statement\n",
    "The Iowa State legislature is considering changes in the liquor tax rates and wants a report of current liquor sales by county and projections for the rest of the year by store.\n",
    "\n",
    "Ability to predict as precisely as possible future sales also gives the ability to understand what amount of taxes is expected to be collected. Prior to making any public policy change, one must be able to assess its impact, as it spans many stakeholders: consumers, producers, retailers, state department of finance, of heath, as well as various pro and anti alcohol lobbies.\n",
    "\n",
    "In this report we will focus on financial impact of any policy change and leave it to the state tax department to make any decision on this basis.\n",
    "\n",
    "# Goal\n",
    "Based on historical data from 2015 and Q1 2016, predict what the liquor sales will be in each county of Iowa in 2016.\n",
    "\n",
    "\n",
    "# Sucess criteria\n",
    "We will consider our mission successful if we are able to extrapolate Q1 2016 sales to predict the whole 2016 sales based on a model with an accuracy of 80% (percentage of variance explained, or $R^2$)"
   ]
  },
  {
   "cell_type": "markdown",
   "metadata": {},
   "source": [
    "# Getting started\n",
    "\n",
    "Once you've chosen your scenario, download the data from [the Iowa website](https://data.iowa.gov/Economy/Iowa-Liquor-Sales/m3tr-qhgy) in csv format. Start by loading the data with pandas. You may need to parse the date columns appropriately."
   ]
  },
  {
   "cell_type": "code",
   "execution_count": 1,
   "metadata": {
    "collapsed": false
   },
   "outputs": [
    {
     "name": "stderr",
     "output_type": "stream",
     "text": [
      "/home/dsi-student/anaconda2/lib/python2.7/site-packages/IPython/core/interactiveshell.py:2717: DtypeWarning: Columns (3) have mixed types. Specify dtype option on import or set low_memory=False.\n",
      "  interactivity=interactivity, compiler=compiler, result=result)\n"
     ]
    },
    {
     "data": {
      "text/html": [
       "<div>\n",
       "<table border=\"1\" class=\"dataframe\">\n",
       "  <thead>\n",
       "    <tr style=\"text-align: right;\">\n",
       "      <th></th>\n",
       "      <th>Date</th>\n",
       "      <th>Store Number</th>\n",
       "      <th>City</th>\n",
       "      <th>Zip Code</th>\n",
       "      <th>County Number</th>\n",
       "      <th>County</th>\n",
       "      <th>Category</th>\n",
       "      <th>Category Name</th>\n",
       "      <th>Vendor Number</th>\n",
       "      <th>Item Number</th>\n",
       "      <th>Item Description</th>\n",
       "      <th>Bottle Volume (ml)</th>\n",
       "      <th>State Bottle Cost</th>\n",
       "      <th>State Bottle Retail</th>\n",
       "      <th>Bottles Sold</th>\n",
       "      <th>Sale (Dollars)</th>\n",
       "      <th>Volume Sold (Liters)</th>\n",
       "      <th>Volume Sold (Gallons)</th>\n",
       "    </tr>\n",
       "  </thead>\n",
       "  <tbody>\n",
       "    <tr>\n",
       "      <th>0</th>\n",
       "      <td>03/31/2016</td>\n",
       "      <td>5029</td>\n",
       "      <td>DAVENPORT</td>\n",
       "      <td>52806</td>\n",
       "      <td>82.0</td>\n",
       "      <td>Scott</td>\n",
       "      <td>1022100.0</td>\n",
       "      <td>TEQUILA</td>\n",
       "      <td>370</td>\n",
       "      <td>87152</td>\n",
       "      <td>Avion Silver</td>\n",
       "      <td>375</td>\n",
       "      <td>$9.99</td>\n",
       "      <td>$14.99</td>\n",
       "      <td>12</td>\n",
       "      <td>$179.88</td>\n",
       "      <td>4.5</td>\n",
       "      <td>1.19</td>\n",
       "    </tr>\n",
       "    <tr>\n",
       "      <th>1</th>\n",
       "      <td>03/31/2016</td>\n",
       "      <td>5029</td>\n",
       "      <td>DAVENPORT</td>\n",
       "      <td>52806</td>\n",
       "      <td>82.0</td>\n",
       "      <td>Scott</td>\n",
       "      <td>1022100.0</td>\n",
       "      <td>TEQUILA</td>\n",
       "      <td>395</td>\n",
       "      <td>89197</td>\n",
       "      <td>Jose Cuervo Especial Reposado Tequila</td>\n",
       "      <td>1000</td>\n",
       "      <td>$12.50</td>\n",
       "      <td>$18.75</td>\n",
       "      <td>2</td>\n",
       "      <td>$37.50</td>\n",
       "      <td>2.0</td>\n",
       "      <td>0.53</td>\n",
       "    </tr>\n",
       "    <tr>\n",
       "      <th>2</th>\n",
       "      <td>03/31/2016</td>\n",
       "      <td>4959</td>\n",
       "      <td>CEDAR FALLS</td>\n",
       "      <td>50613</td>\n",
       "      <td>7.0</td>\n",
       "      <td>Black Hawk</td>\n",
       "      <td>1071100.0</td>\n",
       "      <td>AMERICAN COCKTAILS</td>\n",
       "      <td>380</td>\n",
       "      <td>63959</td>\n",
       "      <td>Uv Blue Raspberry Lemonade Pet</td>\n",
       "      <td>1750</td>\n",
       "      <td>$5.97</td>\n",
       "      <td>$8.96</td>\n",
       "      <td>6</td>\n",
       "      <td>$53.76</td>\n",
       "      <td>10.5</td>\n",
       "      <td>2.77</td>\n",
       "    </tr>\n",
       "  </tbody>\n",
       "</table>\n",
       "</div>"
      ],
      "text/plain": [
       "         Date  Store Number         City Zip Code  County Number      County  \\\n",
       "0  03/31/2016          5029    DAVENPORT    52806           82.0       Scott   \n",
       "1  03/31/2016          5029    DAVENPORT    52806           82.0       Scott   \n",
       "2  03/31/2016          4959  CEDAR FALLS    50613            7.0  Black Hawk   \n",
       "\n",
       "    Category       Category Name  Vendor Number  Item Number  \\\n",
       "0  1022100.0             TEQUILA            370        87152   \n",
       "1  1022100.0             TEQUILA            395        89197   \n",
       "2  1071100.0  AMERICAN COCKTAILS            380        63959   \n",
       "\n",
       "                        Item Description  Bottle Volume (ml)  \\\n",
       "0                           Avion Silver                 375   \n",
       "1  Jose Cuervo Especial Reposado Tequila                1000   \n",
       "2         Uv Blue Raspberry Lemonade Pet                1750   \n",
       "\n",
       "  State Bottle Cost State Bottle Retail  Bottles Sold Sale (Dollars)  \\\n",
       "0             $9.99              $14.99            12        $179.88   \n",
       "1            $12.50              $18.75             2         $37.50   \n",
       "2             $5.97               $8.96             6         $53.76   \n",
       "\n",
       "   Volume Sold (Liters)  Volume Sold (Gallons)  \n",
       "0                   4.5                   1.19  \n",
       "1                   2.0                   0.53  \n",
       "2                  10.5                   2.77  "
      ]
     },
     "execution_count": 1,
     "metadata": {},
     "output_type": "execute_result"
    }
   ],
   "source": [
    "import pandas as pd\n",
    "import numpy as np\n",
    "\n",
    "## Load the data into a DataFrame\n",
    "df = pd.read_csv(\"Iowa_Liquor_Sales_reduced.csv\")\n",
    "\n",
    "## Look at the data\n",
    "df.head(3)"
   ]
  },
  {
   "cell_type": "code",
   "execution_count": 3,
   "metadata": {
    "collapsed": false
   },
   "outputs": [
    {
     "data": {
      "text/plain": [
       "(2709552, 18)"
      ]
     },
     "execution_count": 3,
     "metadata": {},
     "output_type": "execute_result"
    }
   ],
   "source": [
    "# Check number of rows and columns\n",
    "df.shape"
   ]
  },
  {
   "cell_type": "code",
   "execution_count": 4,
   "metadata": {
    "collapsed": false
   },
   "outputs": [
    {
     "data": {
      "text/plain": [
       "Date                        0\n",
       "Store Number                0\n",
       "Zip Code                    0\n",
       "County Number           10913\n",
       "Category                  779\n",
       "Item Number                 0\n",
       "State Bottle Retail         0\n",
       "Bottles Sold                0\n",
       "Sale (Dollars)              0\n",
       "Volume Sold (Liters)        0\n",
       "dtype: int64"
      ]
     },
     "execution_count": 4,
     "metadata": {},
     "output_type": "execute_result"
    }
   ],
   "source": [
    "## Transform the dates if needed, e.g.\n",
    "df[\"Date\"] = pd.to_datetime(df[\"Date\"])\n",
    "\n",
    "## Remove duplicated columns which information is contained in another field\n",
    "df.drop(['City','County','Category Name','Item Description','Bottle Volume (ml)','Volume Sold (Gallons)'],axis=1,inplace=True)\n",
    "\n",
    "## Remove fields we won't use for the analysis\n",
    "df.drop(['Vendor Number','State Bottle Cost'],axis=1,inplace=True)\n",
    "\n",
    "# Check how many missing values\n",
    "df.apply(lambda x: sum(pd.isnull(x)))"
   ]
  },
  {
   "cell_type": "code",
   "execution_count": 5,
   "metadata": {
    "collapsed": true
   },
   "outputs": [],
   "source": [
    "# Replace bad values\n",
    "df[\"County Number\"].fillna(0,inplace=True)\n",
    "df[\"Category\"].fillna(0,inplace=True)\n",
    "\n",
    "# Convert to appropriate fields to integers\n",
    "df['County Number'] = [int(x) for x in df['County Number']]\n",
    "df['Category'] = [int(x) for x in df['Category']]\n",
    "\n",
    "# Remove $ from certain columns\n",
    "dollar_cols = ['State Bottle Retail','Sale (Dollars)']\n",
    "for col in dollar_cols:\n",
    "    try:\n",
    "        df[col] = [float(x[1:]) for x in df[col]]\n",
    "    except Exception:\n",
    "        print(\"Cannot convert %s\" % col)"
   ]
  },
  {
   "cell_type": "code",
   "execution_count": 6,
   "metadata": {
    "collapsed": false
   },
   "outputs": [
    {
     "data": {
      "text/html": [
       "<div>\n",
       "<table border=\"1\" class=\"dataframe\">\n",
       "  <thead>\n",
       "    <tr style=\"text-align: right;\">\n",
       "      <th></th>\n",
       "      <th>Date</th>\n",
       "      <th>Store Number</th>\n",
       "      <th>Zip Code</th>\n",
       "      <th>County Number</th>\n",
       "      <th>Category</th>\n",
       "      <th>Item Number</th>\n",
       "      <th>State Bottle Retail</th>\n",
       "      <th>Bottles Sold</th>\n",
       "      <th>Sale (Dollars)</th>\n",
       "      <th>Volume Sold (Liters)</th>\n",
       "    </tr>\n",
       "  </thead>\n",
       "  <tbody>\n",
       "    <tr>\n",
       "      <th>0</th>\n",
       "      <td>2016-03-31</td>\n",
       "      <td>5029</td>\n",
       "      <td>52806</td>\n",
       "      <td>82</td>\n",
       "      <td>1022100</td>\n",
       "      <td>87152</td>\n",
       "      <td>14.99</td>\n",
       "      <td>12</td>\n",
       "      <td>179.88</td>\n",
       "      <td>4.5</td>\n",
       "    </tr>\n",
       "    <tr>\n",
       "      <th>1</th>\n",
       "      <td>2016-03-31</td>\n",
       "      <td>5029</td>\n",
       "      <td>52806</td>\n",
       "      <td>82</td>\n",
       "      <td>1022100</td>\n",
       "      <td>89197</td>\n",
       "      <td>18.75</td>\n",
       "      <td>2</td>\n",
       "      <td>37.50</td>\n",
       "      <td>2.0</td>\n",
       "    </tr>\n",
       "    <tr>\n",
       "      <th>2</th>\n",
       "      <td>2016-03-31</td>\n",
       "      <td>4959</td>\n",
       "      <td>50613</td>\n",
       "      <td>7</td>\n",
       "      <td>1071100</td>\n",
       "      <td>63959</td>\n",
       "      <td>8.96</td>\n",
       "      <td>6</td>\n",
       "      <td>53.76</td>\n",
       "      <td>10.5</td>\n",
       "    </tr>\n",
       "    <tr>\n",
       "      <th>3</th>\n",
       "      <td>2016-03-31</td>\n",
       "      <td>2190</td>\n",
       "      <td>50314</td>\n",
       "      <td>77</td>\n",
       "      <td>1031200</td>\n",
       "      <td>40597</td>\n",
       "      <td>3.36</td>\n",
       "      <td>48</td>\n",
       "      <td>161.28</td>\n",
       "      <td>9.6</td>\n",
       "    </tr>\n",
       "    <tr>\n",
       "      <th>4</th>\n",
       "      <td>2016-03-31</td>\n",
       "      <td>5240</td>\n",
       "      <td>52358</td>\n",
       "      <td>0</td>\n",
       "      <td>1081200</td>\n",
       "      <td>73055</td>\n",
       "      <td>18.75</td>\n",
       "      <td>6</td>\n",
       "      <td>112.50</td>\n",
       "      <td>4.5</td>\n",
       "    </tr>\n",
       "  </tbody>\n",
       "</table>\n",
       "</div>"
      ],
      "text/plain": [
       "        Date  Store Number Zip Code  County Number  Category  Item Number  \\\n",
       "0 2016-03-31          5029    52806             82   1022100        87152   \n",
       "1 2016-03-31          5029    52806             82   1022100        89197   \n",
       "2 2016-03-31          4959    50613              7   1071100        63959   \n",
       "3 2016-03-31          2190    50314             77   1031200        40597   \n",
       "4 2016-03-31          5240    52358              0   1081200        73055   \n",
       "\n",
       "   State Bottle Retail  Bottles Sold  Sale (Dollars)  Volume Sold (Liters)  \n",
       "0                14.99            12          179.88                   4.5  \n",
       "1                18.75             2           37.50                   2.0  \n",
       "2                 8.96             6           53.76                  10.5  \n",
       "3                 3.36            48          161.28                   9.6  \n",
       "4                18.75             6          112.50                   4.5  "
      ]
     },
     "execution_count": 6,
     "metadata": {},
     "output_type": "execute_result"
    }
   ],
   "source": [
    "df.head()"
   ]
  },
  {
   "cell_type": "markdown",
   "metadata": {},
   "source": [
    "# Explore the data\n",
    "\n",
    "Perform some exploratory statistical analysis and make some plots, such as histograms of transaction totals, bottles sold, etc."
   ]
  },
  {
   "cell_type": "code",
   "execution_count": 7,
   "metadata": {
    "collapsed": false
   },
   "outputs": [
    {
     "data": {
      "image/png": "[encoded data removed]",
      "text/plain": [
       "<matplotlib.figure.Figure at 0x7fd15d91a750>"
      ]
     },
     "metadata": {},
     "output_type": "display_data"
    },
    {
     "data": {
      "image/png": "[encoded data removed]",
      "text/plain": [
       "<matplotlib.figure.Figure at 0x7fd157fe75d0>"
      ]
     },
     "metadata": {},
     "output_type": "display_data"
    }
   ],
   "source": [
    "import seaborn as sns\n",
    "import matplotlib.pyplot as plt\n",
    "\n",
    "sales_per_store = df.pivot_table(index='Store Number',values=\"Sale (Dollars)\",aggfunc=np.sum)\n",
    "\n",
    "plt.hist(sales_per_store)\n",
    "plt.axvline(np.mean(sales_per_store),color=\"red\")\n",
    "plt.axvline(np.median(sales_per_store),color=\"green\")\n",
    "plt.xlabel(\"Sales (Dollars)\")\n",
    "plt.ylabel(\"Number of selling points\")\n",
    "plt.title(\"Sales per shop\")\n",
    "plt.show()\n",
    "\n",
    "plt.hist(sales_per_store,bins=150)\n",
    "plt.axvline(np.mean(sales_per_store),color=\"red\")\n",
    "plt.axvline(np.median(sales_per_store),color=\"green\")\n",
    "plt.xlim((0,1000000))\n",
    "plt.xlabel(\"Sales (Dollars)\")\n",
    "plt.ylabel(\"Number of selling points\")\n",
    "plt.title(\"Sales per shop (increased scale)\")\n",
    "plt.show()"
   ]
  },
  {
   "cell_type": "code",
   "execution_count": 8,
   "metadata": {
    "collapsed": false
   },
   "outputs": [
    {
     "data": {
      "image/png": "[encoded data removed]",
      "text/plain": [
       "<matplotlib.figure.Figure at 0x7fd157f3eb10>"
      ]
     },
     "metadata": {},
     "output_type": "display_data"
    },
    {
     "data": {
      "image/png": "[encoded data removed]",
      "text/plain": [
       "<matplotlib.figure.Figure at 0x7fd157a9fbd0>"
      ]
     },
     "metadata": {},
     "output_type": "display_data"
    }
   ],
   "source": [
    "# Check how many items shops sell \n",
    "\n",
    "item_per_store = df.pivot_table(index='Store Number',values=\"Item Number\",aggfunc=len)\n",
    "\n",
    "plt.hist(item_per_store)\n",
    "plt.axvline(np.mean(item_per_store),color=\"red\")\n",
    "plt.axvline(np.median(item_per_store),color=\"green\")\n",
    "plt.xlabel(\"Number of items types sold\")\n",
    "plt.ylabel(\"Number of selling points\")\n",
    "plt.title(\"Items types sold per shop\")\n",
    "plt.show()\n",
    "\n",
    "plt.hist(item_per_store,bins=150)\n",
    "plt.axvline(np.mean(item_per_store),color=\"red\")\n",
    "plt.axvline(np.median(item_per_store),color=\"green\")\n",
    "plt.xlim((0,10000))\n",
    "plt.xlabel(\"Number of items types sold\")\n",
    "plt.ylabel(\"Number of selling points\")\n",
    "plt.title(\"Items types sold per shop (increase scale)\")\n",
    "plt.show()"
   ]
  },
  {
   "cell_type": "markdown",
   "metadata": {},
   "source": [
    "## Record your findings\n",
    "\n",
    "Initial analysis shows a huge disparity in the types of liquor stores, as the range from very small to extremly big.\n",
    "Whilst the majority of store report sales over the studied period of less than 100,000 USD (median), some had turnover in excess of 12 million USD over the same period.\n",
    "Simimarly, most shops sell less than 1000 types of products, but the biggest stores sell as many as 10,000 different references."
   ]
  },
  {
   "cell_type": "markdown",
   "metadata": {},
   "source": [
    "## Risks\n",
    "There was a significant number of County and Category not filled in the data, and in order to proceed with analysis with have replaced missing values with 0. This will necessarily impact the study of sales per county, so it must be taken into account that report will contain a margin of error.\n",
    "\n",
    "## Assumptions\n",
    "The data includes all stores that did business over the period from Jan 2015 until end March 2016. If some of these businesses have closed before year end or open after the beginning of the year, they may impact our analysis. Our assumptions is that there is only a limited number of these shops and that fundamentaly they won't change the prediction quality. However when training the model we will ignore those shopw which didn't operate throughout 2015."
   ]
  },
  {
   "cell_type": "markdown",
   "metadata": {},
   "source": [
    "# Mine the data\n",
    "Now you are ready to compute the variables you will use for your regression from the data. For example, you may want to\n",
    "compute total sales per store from Jan to March of 2015, mean price per bottle, etc. Refer to the readme for more ideas appropriate to your scenario.\n",
    "\n",
    "Pandas is your friend for this task. Take a look at the operations [here](http://pandas.pydata.org/pandas-docs/stable/groupby.html) for ideas on how to make the best use of pandas and feel free to search for blog and Stack Overflow posts to help you group data by certain variables and compute sums, means, etc. You may find it useful to create a new data frame to house this summary data."
   ]
  },
  {
   "cell_type": "code",
   "execution_count": 9,
   "metadata": {
    "collapsed": false
   },
   "outputs": [
    {
     "data": {
      "text/html": [
       "<div>\n",
       "<table border=\"1\" class=\"dataframe\">\n",
       "  <thead>\n",
       "    <tr style=\"text-align: right;\">\n",
       "      <th></th>\n",
       "      <th>Date</th>\n",
       "      <th>Store Number</th>\n",
       "      <th>Zip Code</th>\n",
       "      <th>County Number</th>\n",
       "      <th>Category</th>\n",
       "      <th>Item Number</th>\n",
       "      <th>State Bottle Retail</th>\n",
       "      <th>Bottles Sold</th>\n",
       "      <th>Sale (Dollars)</th>\n",
       "      <th>Volume Sold (Liters)</th>\n",
       "      <th>Quarter</th>\n",
       "    </tr>\n",
       "  </thead>\n",
       "  <tbody>\n",
       "    <tr>\n",
       "      <th>0</th>\n",
       "      <td>2016-03-31</td>\n",
       "      <td>5029</td>\n",
       "      <td>52806</td>\n",
       "      <td>82</td>\n",
       "      <td>1022100</td>\n",
       "      <td>87152</td>\n",
       "      <td>14.99</td>\n",
       "      <td>12</td>\n",
       "      <td>179.88</td>\n",
       "      <td>4.5</td>\n",
       "      <td>2016Q1</td>\n",
       "    </tr>\n",
       "    <tr>\n",
       "      <th>1</th>\n",
       "      <td>2016-03-31</td>\n",
       "      <td>5029</td>\n",
       "      <td>52806</td>\n",
       "      <td>82</td>\n",
       "      <td>1022100</td>\n",
       "      <td>89197</td>\n",
       "      <td>18.75</td>\n",
       "      <td>2</td>\n",
       "      <td>37.50</td>\n",
       "      <td>2.0</td>\n",
       "      <td>2016Q1</td>\n",
       "    </tr>\n",
       "  </tbody>\n",
       "</table>\n",
       "</div>"
      ],
      "text/plain": [
       "        Date  Store Number Zip Code  County Number  Category  Item Number  \\\n",
       "0 2016-03-31          5029    52806             82   1022100        87152   \n",
       "1 2016-03-31          5029    52806             82   1022100        89197   \n",
       "\n",
       "   State Bottle Retail  Bottles Sold  Sale (Dollars)  Volume Sold (Liters)  \\\n",
       "0                14.99            12          179.88                   4.5   \n",
       "1                18.75             2           37.50                   2.0   \n",
       "\n",
       "  Quarter  \n",
       "0  2016Q1  \n",
       "1  2016Q1  "
      ]
     },
     "execution_count": 9,
     "metadata": {},
     "output_type": "execute_result"
    }
   ],
   "source": [
    "# Add quarter info\n",
    "quarters = {1:\"Q1\",2:\"Q1\",3:\"Q1\",4:\"Q2\",5:\"Q2\",6:\"Q2\",7:\"Q3\",8:\"Q3\",9:\"Q3\",10:\"Q4\",11:\"Q4\",12:\"Q4\"}\n",
    "def year_quarter(date_in):\n",
    "    return(str(date_in.year)+quarters[date_in.month])\n",
    "\n",
    "df[\"Quarter\"] = df[\"Date\"].apply(year_quarter)\n",
    "df.head(2)"
   ]
  },
  {
   "cell_type": "code",
   "execution_count": 10,
   "metadata": {
    "collapsed": false
   },
   "outputs": [
    {
     "data": {
      "text/html": [
       "<div>\n",
       "<table border=\"1\" class=\"dataframe\">\n",
       "  <thead>\n",
       "    <tr style=\"text-align: right;\">\n",
       "      <th></th>\n",
       "      <th>Store Number</th>\n",
       "      <th>Quarter</th>\n",
       "      <th>County Number &lt;lambda&gt;</th>\n",
       "      <th>Bottles Sold sum</th>\n",
       "      <th>Bottles Sold mean</th>\n",
       "      <th>Zip Code &lt;lambda&gt;</th>\n",
       "      <th>Sale (Dollars) sum</th>\n",
       "      <th>Sale (Dollars) mean</th>\n",
       "      <th>Volume Sold (Liters) sum</th>\n",
       "      <th>Volume Sold (Liters) mean</th>\n",
       "    </tr>\n",
       "  </thead>\n",
       "  <tbody>\n",
       "    <tr>\n",
       "      <th>0</th>\n",
       "      <td>2106</td>\n",
       "      <td>2015Q1</td>\n",
       "      <td>7</td>\n",
       "      <td>23316</td>\n",
       "      <td>19.237624</td>\n",
       "      <td>50613</td>\n",
       "      <td>337166.53</td>\n",
       "      <td>278.190206</td>\n",
       "      <td>21815.55</td>\n",
       "      <td>17.999629</td>\n",
       "    </tr>\n",
       "    <tr>\n",
       "      <th>1</th>\n",
       "      <td>2106</td>\n",
       "      <td>2015Q2</td>\n",
       "      <td>7</td>\n",
       "      <td>26371</td>\n",
       "      <td>19.577580</td>\n",
       "      <td>50613</td>\n",
       "      <td>372684.20</td>\n",
       "      <td>276.677209</td>\n",
       "      <td>24786.10</td>\n",
       "      <td>18.400965</td>\n",
       "    </tr>\n",
       "    <tr>\n",
       "      <th>2</th>\n",
       "      <td>2106</td>\n",
       "      <td>2015Q3</td>\n",
       "      <td>7</td>\n",
       "      <td>23301</td>\n",
       "      <td>19.482441</td>\n",
       "      <td>50613</td>\n",
       "      <td>336013.45</td>\n",
       "      <td>280.947701</td>\n",
       "      <td>21847.77</td>\n",
       "      <td>18.267366</td>\n",
       "    </tr>\n",
       "    <tr>\n",
       "      <th>3</th>\n",
       "      <td>2106</td>\n",
       "      <td>2015Q4</td>\n",
       "      <td>7</td>\n",
       "      <td>27010</td>\n",
       "      <td>20.007407</td>\n",
       "      <td>50613</td>\n",
       "      <td>388505.67</td>\n",
       "      <td>287.781978</td>\n",
       "      <td>25537.05</td>\n",
       "      <td>18.916333</td>\n",
       "    </tr>\n",
       "    <tr>\n",
       "      <th>4</th>\n",
       "      <td>2113</td>\n",
       "      <td>2015Q1</td>\n",
       "      <td>94</td>\n",
       "      <td>1618</td>\n",
       "      <td>4.829851</td>\n",
       "      <td>50543</td>\n",
       "      <td>22351.86</td>\n",
       "      <td>66.721970</td>\n",
       "      <td>1604.08</td>\n",
       "      <td>4.788299</td>\n",
       "    </tr>\n",
       "  </tbody>\n",
       "</table>\n",
       "</div>"
      ],
      "text/plain": [
       "   Store Number Quarter  County Number <lambda>  Bottles Sold sum  \\\n",
       "0          2106  2015Q1                       7             23316   \n",
       "1          2106  2015Q2                       7             26371   \n",
       "2          2106  2015Q3                       7             23301   \n",
       "3          2106  2015Q4                       7             27010   \n",
       "4          2113  2015Q1                      94              1618   \n",
       "\n",
       "   Bottles Sold mean Zip Code <lambda>  Sale (Dollars) sum  \\\n",
       "0          19.237624             50613           337166.53   \n",
       "1          19.577580             50613           372684.20   \n",
       "2          19.482441             50613           336013.45   \n",
       "3          20.007407             50613           388505.67   \n",
       "4           4.829851             50543            22351.86   \n",
       "\n",
       "   Sale (Dollars) mean  Volume Sold (Liters) sum  Volume Sold (Liters) mean  \n",
       "0           278.190206                  21815.55                  17.999629  \n",
       "1           276.677209                  24786.10                  18.400965  \n",
       "2           280.947701                  21847.77                  18.267366  \n",
       "3           287.781978                  25537.05                  18.916333  \n",
       "4            66.721970                   1604.08                   4.788299  "
      ]
     },
     "execution_count": 10,
     "metadata": {},
     "output_type": "execute_result"
    }
   ],
   "source": [
    "# Sales by quarter and by store, 2015\n",
    "\n",
    "# Filter by our start and end dates\n",
    "df.sort_values(by=[\"Store Number\", \"Date\"], inplace=True)\n",
    "start_date = pd.Timestamp(\"20150101\")\n",
    "end_date = pd.Timestamp(\"20151231\")\n",
    "mask = (df['Date'] >= start_date) & (df['Date'] <= end_date)\n",
    "sales = df[mask]\n",
    "\n",
    "# Group by store name\n",
    "sales = sales.groupby(by=[\"Store Number\",\"Quarter\"], as_index=False)\n",
    "# Compute sums, means\n",
    "sales = sales.agg({\"Sale (Dollars)\": [np.sum, np.mean],\n",
    "                   \"Volume Sold (Liters)\": [np.sum, np.mean],\n",
    "                   \"Bottles Sold\": [np.sum, np.mean],\n",
    "                   \"Zip Code\": lambda x: x.iloc[0], # just extract once, should be the same\n",
    "                   \"County Number\": lambda x: x.iloc[0]})\n",
    "# Collapse the column indices\n",
    "sales.columns = [' '.join(col).strip() for col in sales.columns.values]\n",
    "\n",
    "# Quick check\n",
    "sales.head()\n"
   ]
  },
  {
   "cell_type": "code",
   "execution_count": 11,
   "metadata": {
    "collapsed": false
   },
   "outputs": [
    {
     "data": {
      "text/html": [
       "<div>\n",
       "<table border=\"1\" class=\"dataframe\">\n",
       "  <thead>\n",
       "    <tr style=\"text-align: right;\">\n",
       "      <th></th>\n",
       "      <th>County Number</th>\n",
       "      <th>Quarter</th>\n",
       "      <th>Bottles Sold sum</th>\n",
       "      <th>Bottles Sold mean</th>\n",
       "      <th>Zip Code &lt;lambda&gt;</th>\n",
       "      <th>Sale (Dollars) sum</th>\n",
       "      <th>Sale (Dollars) mean</th>\n",
       "      <th>Volume Sold (Liters) sum</th>\n",
       "      <th>Volume Sold (Liters) mean</th>\n",
       "    </tr>\n",
       "  </thead>\n",
       "  <tbody>\n",
       "    <tr>\n",
       "      <th>0</th>\n",
       "      <td>0</td>\n",
       "      <td>2015Q1</td>\n",
       "      <td>1921</td>\n",
       "      <td>6.339934</td>\n",
       "      <td>50421</td>\n",
       "      <td>26642.30</td>\n",
       "      <td>87.928383</td>\n",
       "      <td>2371.83</td>\n",
       "      <td>7.827822</td>\n",
       "    </tr>\n",
       "    <tr>\n",
       "      <th>1</th>\n",
       "      <td>0</td>\n",
       "      <td>2015Q2</td>\n",
       "      <td>2152</td>\n",
       "      <td>6.044944</td>\n",
       "      <td>50421</td>\n",
       "      <td>30223.53</td>\n",
       "      <td>84.897556</td>\n",
       "      <td>2758.65</td>\n",
       "      <td>7.749017</td>\n",
       "    </tr>\n",
       "    <tr>\n",
       "      <th>2</th>\n",
       "      <td>0</td>\n",
       "      <td>2015Q3</td>\n",
       "      <td>1707</td>\n",
       "      <td>5.633663</td>\n",
       "      <td>50421</td>\n",
       "      <td>24148.45</td>\n",
       "      <td>79.697855</td>\n",
       "      <td>2113.50</td>\n",
       "      <td>6.975248</td>\n",
       "    </tr>\n",
       "    <tr>\n",
       "      <th>3</th>\n",
       "      <td>0</td>\n",
       "      <td>2015Q4</td>\n",
       "      <td>803</td>\n",
       "      <td>5.114650</td>\n",
       "      <td>50421</td>\n",
       "      <td>11526.57</td>\n",
       "      <td>73.417643</td>\n",
       "      <td>1067.00</td>\n",
       "      <td>6.796178</td>\n",
       "    </tr>\n",
       "    <tr>\n",
       "      <th>4</th>\n",
       "      <td>1</td>\n",
       "      <td>2015Q1</td>\n",
       "      <td>8861</td>\n",
       "      <td>8.628043</td>\n",
       "      <td>50250</td>\n",
       "      <td>103556.31</td>\n",
       "      <td>100.833797</td>\n",
       "      <td>8297.97</td>\n",
       "      <td>8.079815</td>\n",
       "    </tr>\n",
       "  </tbody>\n",
       "</table>\n",
       "</div>"
      ],
      "text/plain": [
       "   County Number Quarter  Bottles Sold sum  Bottles Sold mean  \\\n",
       "0              0  2015Q1              1921           6.339934   \n",
       "1              0  2015Q2              2152           6.044944   \n",
       "2              0  2015Q3              1707           5.633663   \n",
       "3              0  2015Q4               803           5.114650   \n",
       "4              1  2015Q1              8861           8.628043   \n",
       "\n",
       "  Zip Code <lambda>  Sale (Dollars) sum  Sale (Dollars) mean  \\\n",
       "0             50421            26642.30            87.928383   \n",
       "1             50421            30223.53            84.897556   \n",
       "2             50421            24148.45            79.697855   \n",
       "3             50421            11526.57            73.417643   \n",
       "4             50250           103556.31           100.833797   \n",
       "\n",
       "   Volume Sold (Liters) sum  Volume Sold (Liters) mean  \n",
       "0                   2371.83                   7.827822  \n",
       "1                   2758.65                   7.749017  \n",
       "2                   2113.50                   6.975248  \n",
       "3                   1067.00                   6.796178  \n",
       "4                   8297.97                   8.079815  "
      ]
     },
     "execution_count": 11,
     "metadata": {},
     "output_type": "execute_result"
    }
   ],
   "source": [
    "# Sales by quarter and by county, 2015\n",
    "\n",
    "# Filter by our start and end dates\n",
    "sales_county = df[mask]\n",
    "\n",
    "# Group by store name\n",
    "sales_county = sales_county.groupby(by=[\"County Number\",\"Quarter\"], as_index=False)\n",
    "# Compute sums, means\n",
    "sales_county = sales_county.agg({\"Sale (Dollars)\": [np.sum, np.mean],\n",
    "                   \"Volume Sold (Liters)\": [np.sum, np.mean],\n",
    "                   \"Bottles Sold\": [np.sum, np.mean],\n",
    "                   \"Zip Code\": lambda x: x.iloc[0]}) # just extract once, should be the same\n",
    "                \n",
    "# Collapse the column indices\n",
    "sales_county.columns = [' '.join(col).strip() for col in sales_county.columns.values]\n",
    "\n",
    "# Quick check\n",
    "sales_county.head()"
   ]
  },
  {
   "cell_type": "code",
   "execution_count": 27,
   "metadata": {
    "collapsed": false
   },
   "outputs": [
    {
     "data": {
      "text/plain": [
       "284.32857211000504"
      ]
     },
     "execution_count": 27,
     "metadata": {},
     "output_type": "execute_result"
    }
   ],
   "source": [
    "sum(sales_county[\"Sale (Dollars) sum\"]/10**6)"
   ]
  },
  {
   "cell_type": "markdown",
   "metadata": {},
   "source": [
    "### Total sum of sales 2015\n",
    "The total sum of sales in 2015 was 284.33 million USD"
   ]
  },
  {
   "cell_type": "code",
   "execution_count": 13,
   "metadata": {
    "collapsed": false
   },
   "outputs": [
    {
     "data": {
      "text/html": [
       "<div>\n",
       "<table border=\"1\" class=\"dataframe\">\n",
       "  <thead>\n",
       "    <tr style=\"text-align: right;\">\n",
       "      <th></th>\n",
       "      <th>County Number</th>\n",
       "      <th>Sale (Dollars)</th>\n",
       "    </tr>\n",
       "  </thead>\n",
       "  <tbody>\n",
       "    <tr>\n",
       "      <th>0</th>\n",
       "      <td>0</td>\n",
       "      <td>92540.85</td>\n",
       "    </tr>\n",
       "    <tr>\n",
       "      <th>1</th>\n",
       "      <td>1</td>\n",
       "      <td>424750.82</td>\n",
       "    </tr>\n",
       "    <tr>\n",
       "      <th>2</th>\n",
       "      <td>2</td>\n",
       "      <td>100596.80</td>\n",
       "    </tr>\n",
       "    <tr>\n",
       "      <th>3</th>\n",
       "      <td>3</td>\n",
       "      <td>823579.28</td>\n",
       "    </tr>\n",
       "    <tr>\n",
       "      <th>4</th>\n",
       "      <td>4</td>\n",
       "      <td>835381.93</td>\n",
       "    </tr>\n",
       "  </tbody>\n",
       "</table>\n",
       "</div>"
      ],
      "text/plain": [
       "   County Number  Sale (Dollars)\n",
       "0              0        92540.85\n",
       "1              1       424750.82\n",
       "2              2       100596.80\n",
       "3              3       823579.28\n",
       "4              4       835381.93"
      ]
     },
     "execution_count": 13,
     "metadata": {},
     "output_type": "execute_result"
    }
   ],
   "source": [
    "# Sales by county, 2015\n",
    "\n",
    "# Filter by our start and end dates\n",
    "sales_county_2015 = df[mask]\n",
    "\n",
    "# Group by store name and compute sum of sales\n",
    "\n",
    "sales_county_2015 = sales_county_2015.pivot_table(index=\"County Number\",values=\"Sale (Dollars)\",aggfunc=sum)\n",
    "sales_county_2015 = pd.DataFrame(sales_county_2015)\n",
    "sales_county_2015.reset_index(inplace=True)\n",
    "\n",
    "# Quick check\n",
    "sales_county_2015.head()\n"
   ]
  },
  {
   "cell_type": "markdown",
   "metadata": {},
   "source": [
    "Here we calculated the sales by county which was one of our objectives. It is reminded that due to lacking data in the source, some data were mapped to county 0 instead of the actual county where the sales took place."
   ]
  },
  {
   "cell_type": "markdown",
   "metadata": {},
   "source": [
    "# Refine the data\n",
    "Look for any statistical relationships, correlations, or other relevant properties of the dataset."
   ]
  },
  {
   "cell_type": "code",
   "execution_count": 14,
   "metadata": {
    "collapsed": false
   },
   "outputs": [
    {
     "data": {
      "image/png": "[encoded data removed]",
      "text/plain": [
       "<matplotlib.figure.Figure at 0x7fd157adad90>"
      ]
     },
     "metadata": {},
     "output_type": "display_data"
    }
   ],
   "source": [
    "sns.heatmap(sales_county.ix[:,1:].corr())\n",
    "plt.show()"
   ]
  },
  {
   "cell_type": "markdown",
   "metadata": {},
   "source": [
    "Without surprise the heatmap shows a high correlation between the different statistcis of similar types, i.e. the sums (of bottles, or sale, or volume) or means."
   ]
  },
  {
   "cell_type": "code",
   "execution_count": 28,
   "metadata": {
    "collapsed": false
   },
   "outputs": [],
   "source": [
    "X = sales_county[sales_county['Quarter']==\"2015Q1\"]\n",
    "sales_filter = X[\"County Number\"]\n",
    "X = X.ix[:,2:]\n",
    "X.drop(\"Zip Code <lambda>\",axis=1,inplace=True)\n",
    "X = np.asarray(X)\n",
    "\n",
    "sales_county_2015 =  sales_county_2015[sales_county_2015[\"County Number\"].isin(sales_filter)]\n",
    "\n",
    "y = sales_county_2015['Sale (Dollars)']"
   ]
  },
  {
   "cell_type": "markdown",
   "metadata": {},
   "source": [
    "# Build your models\n",
    "\n",
    "Using scikit-learn or statsmodels, build the necessary models for your scenario. Evaluate model fit."
   ]
  },
  {
   "cell_type": "code",
   "execution_count": 49,
   "metadata": {
    "collapsed": false,
    "scrolled": true
   },
   "outputs": [
    {
     "name": "stdout",
     "output_type": "stream",
     "text": [
      "                            OLS Regression Results                            \n",
      "==============================================================================\n",
      "Dep. Variable:         Sale (Dollars)   R-squared:                       0.999\n",
      "Model:                            OLS   Adj. R-squared:                  0.999\n",
      "Method:                 Least Squares   F-statistic:                 2.288e+04\n",
      "Date:                Tue, 01 Nov 2016   Prob (F-statistic):          2.12e-146\n",
      "Time:                        21:20:18   Log-Likelihood:                -1366.0\n",
      "No. Observations:                 100   AIC:                             2744.\n",
      "Df Residuals:                      94   BIC:                             2760.\n",
      "Df Model:                           6                                         \n",
      "Covariance Type:            nonrobust                                         \n",
      "==============================================================================\n",
      "                 coef    std err          t      P>|t|      [95.0% Conf. Int.]\n",
      "------------------------------------------------------------------------------\n",
      "x1            -9.4462      4.155     -2.274      0.025       -17.696    -1.197\n",
      "x2         -5.687e+04   3.38e+04     -1.682      0.096     -1.24e+05  1.03e+04\n",
      "x3             7.4960      0.351     21.332      0.000         6.798     8.194\n",
      "x4          7234.4382   2961.042      2.443      0.016      1355.220  1.31e+04\n",
      "x5           -34.5660      5.820     -5.939      0.000       -46.123   -23.009\n",
      "x6         -2.494e+04   3.69e+04     -0.675      0.501     -9.83e+04  4.84e+04\n",
      "==============================================================================\n",
      "Omnibus:                       57.175   Durbin-Watson:                   2.191\n",
      "Prob(Omnibus):                  0.000   Jarque-Bera (JB):              490.448\n",
      "Skew:                           1.551   Prob(JB):                    3.17e-107\n",
      "Kurtosis:                      13.396   Cond. No.                     3.44e+06\n",
      "==============================================================================\n",
      "\n",
      "Warnings:\n",
      "[1] Standard Errors assume that the covariance matrix of the errors is correctly specified.\n",
      "[2] The condition number is large, 3.44e+06. This might indicate that there are\n",
      "strong multicollinearity or other numerical problems.\n",
      "\n",
      "OLS Variance 54507.431983 10^9, Bias 52.939384 10^9\n"
     ]
    }
   ],
   "source": [
    "# ordinary least squares\n",
    "import statsmodels.api as sm\n",
    "model = sm.OLS(y, X).fit()\n",
    "\n",
    "print(model.summary())\n",
    "\n",
    "predictions = model.predict(X)\n",
    "sse = np.mean((np.mean(predictions) - y) ** 2)\n",
    "var = np.var(predictions)\n",
    "bias = sse - var - 0.01\n",
    "print(\"\\nOLS Variance %f 10^9, Bias %f 10^9\" % (var/10**9, bias/10**9))"
   ]
  },
  {
   "cell_type": "markdown",
   "metadata": {},
   "source": [
    "Ordinary least squares leads to very good $r^2$ but some of the coefficients don't have statistical significance. We also suspect overfit, so we will apply regularization in order to refine the model."
   ]
  },
  {
   "cell_type": "code",
   "execution_count": 47,
   "metadata": {
    "collapsed": false
   },
   "outputs": [
    {
     "name": "stdout",
     "output_type": "stream",
     "text": [
      "r^2: 0.995395279244\n",
      "alpha: 0.1\n",
      "coefficients: [  1.87683421e+01  -2.64146772e+04   1.51643493e+00   1.08723773e+04\n",
      "   2.19197286e+01  -6.57154311e+04]\n",
      "Ridge Variance 50954.220396 10^9, Bias 3606.147840 10^9\n"
     ]
    }
   ],
   "source": [
    "# Ridge CV\n",
    "from sklearn import linear_model\n",
    "rlmcv = linear_model.RidgeCV(normalize=True)\n",
    "ridge_model = rlmcv.fit(X, y)\n",
    "print \"r^2:\", ridge_model.score(X, y)\n",
    "print \"alpha:\", rlmcv.alpha_\n",
    "print \"coefficients:\", rlmcv.coef_\n",
    "\n",
    "predictions_ridge = ridge_model.predict(X)\n",
    "sse = np.mean((np.mean(predictions_ridge) - y) ** 2)\n",
    "var = np.var(predictions_ridge)\n",
    "bias = sse - var - 0.01\n",
    "print(\"Ridge Variance %f 10^9, Bias %f 10^9\" % (var/10**9, bias/10**9))"
   ]
  },
  {
   "cell_type": "code",
   "execution_count": 48,
   "metadata": {
    "collapsed": false
   },
   "outputs": [
    {
     "name": "stdout",
     "output_type": "stream",
     "text": [
      "r^2: 0.998449778224\n",
      "alpha: 2253.95593897\n",
      "coefficients: [    0.            -0.             4.52733197  1191.28528486     0.             0.        ]\n",
      "Lasso Variance 54143.230227 10^9, Bias 417.138009 10^9\n"
     ]
    }
   ],
   "source": [
    "# Lasso CV\n",
    "from sklearn import linear_model\n",
    "rlmcv = linear_model.LassoCV(normalize=True)\n",
    "lasso_model = rlmcv.fit(X, y)\n",
    "print \"r^2:\", lasso_model.score(X, y)\n",
    "print \"alpha:\", rlmcv.alpha_\n",
    "print \"coefficients:\", rlmcv.coef_\n",
    "\n",
    "# Run predictions with Lasso on 2015 data\n",
    "predictions_lasso = lasso_model.predict(X)\n",
    "sse = np.mean((np.mean(predictions_lasso) - y) ** 2)\n",
    "var = np.var(predictions_lasso)\n",
    "bias = sse - var - 0.01\n",
    "print(\"Lasso Variance %f 10^9, Bias %f 10^9\" % (var/10**9, bias/10**9))"
   ]
  },
  {
   "cell_type": "markdown",
   "metadata": {},
   "source": [
    "### Models analysis\n",
    "In terms of variance, Ridge and Lasso do approximately as good as standard OLS, however Ridge increases bias by a factor 70, whereas Lasso increases it by only by a factor 8.\n",
    "\n",
    "Therefore lasso gives us the more confidence. Also it manages to eliminate 4 out of the 6 predictors to retain only 2, the sales sum and the sales mean. \n",
    "\n",
    "What it tells us is that the sales for the whole year increase by 4.5 dollars for each additional dollar of sales in Q1, all other parameters held equal. And also, each additional dollar in the mean sales in Q1 results in additional sales of 1191 dollars for the whole year.\n",
    "\n",
    "In other words, sales in Q1 tend to be smaller than the average over the year, since the end year sales will be more than 4 times higher than Q1 sales.\n",
    "Also, there is a \"bonus\" for shops performing higher mean sales in Q1. The higher the mean sales, the more you add on top of your already 4.5 multiplying factor."
   ]
  },
  {
   "cell_type": "code",
   "execution_count": 19,
   "metadata": {
    "collapsed": false
   },
   "outputs": [
    {
     "data": {
      "text/html": [
       "<div>\n",
       "<table border=\"1\" class=\"dataframe\">\n",
       "  <thead>\n",
       "    <tr style=\"text-align: right;\">\n",
       "      <th></th>\n",
       "      <th>Bottles Sold sum</th>\n",
       "      <th>Bottles Sold mean</th>\n",
       "      <th>Sale (Dollars) sum</th>\n",
       "      <th>Sale (Dollars) mean</th>\n",
       "      <th>Volume Sold (Liters) sum</th>\n",
       "      <th>Volume Sold (Liters) mean</th>\n",
       "    </tr>\n",
       "  </thead>\n",
       "  <tbody>\n",
       "    <tr>\n",
       "      <th>0</th>\n",
       "      <td>93411</td>\n",
       "      <td>9.537574</td>\n",
       "      <td>1138656.81</td>\n",
       "      <td>116.260650</td>\n",
       "      <td>71673.92</td>\n",
       "      <td>7.318146</td>\n",
       "    </tr>\n",
       "    <tr>\n",
       "      <th>1</th>\n",
       "      <td>8454</td>\n",
       "      <td>7.435356</td>\n",
       "      <td>105429.31</td>\n",
       "      <td>92.725866</td>\n",
       "      <td>8275.94</td>\n",
       "      <td>7.278751</td>\n",
       "    </tr>\n",
       "    <tr>\n",
       "      <th>2</th>\n",
       "      <td>1727</td>\n",
       "      <td>3.898420</td>\n",
       "      <td>21834.49</td>\n",
       "      <td>49.287788</td>\n",
       "      <td>1643.87</td>\n",
       "      <td>3.710767</td>\n",
       "    </tr>\n",
       "    <tr>\n",
       "      <th>3</th>\n",
       "      <td>13687</td>\n",
       "      <td>6.589793</td>\n",
       "      <td>180117.30</td>\n",
       "      <td>86.719933</td>\n",
       "      <td>14929.15</td>\n",
       "      <td>7.187843</td>\n",
       "    </tr>\n",
       "    <tr>\n",
       "      <th>4</th>\n",
       "      <td>14585</td>\n",
       "      <td>7.943900</td>\n",
       "      <td>176884.30</td>\n",
       "      <td>96.342211</td>\n",
       "      <td>13725.39</td>\n",
       "      <td>7.475703</td>\n",
       "    </tr>\n",
       "  </tbody>\n",
       "</table>\n",
       "</div>"
      ],
      "text/plain": [
       "   Bottles Sold sum  Bottles Sold mean  Sale (Dollars) sum  \\\n",
       "0             93411           9.537574          1138656.81   \n",
       "1              8454           7.435356           105429.31   \n",
       "2              1727           3.898420            21834.49   \n",
       "3             13687           6.589793           180117.30   \n",
       "4             14585           7.943900           176884.30   \n",
       "\n",
       "   Sale (Dollars) mean  Volume Sold (Liters) sum  Volume Sold (Liters) mean  \n",
       "0           116.260650                  71673.92                   7.318146  \n",
       "1            92.725866                   8275.94                   7.278751  \n",
       "2            49.287788                   1643.87                   3.710767  \n",
       "3            86.719933                  14929.15                   7.187843  \n",
       "4            96.342211                  13725.39                   7.475703  "
      ]
     },
     "execution_count": 19,
     "metadata": {},
     "output_type": "execute_result"
    }
   ],
   "source": [
    "# Now move to prediction part\n",
    "# Filter by our start and end dates\n",
    "df.sort_values(by=[\"Store Number\", \"Date\"], inplace=True)\n",
    "start_date = pd.Timestamp(\"20160101\")\n",
    "mask = (df['Date'] >= start_date)\n",
    "sales_2016 = df[mask]\n",
    "\n",
    "# Group by store name\n",
    "sales_2016 = sales_2016.groupby(by=[\"County Number\",\"Quarter\"], as_index=False)\n",
    "# Compute sums, means\n",
    "sales_2016 = sales_2016.agg({\"Sale (Dollars)\": [np.sum, np.mean],\n",
    "                   \"Volume Sold (Liters)\": [np.sum, np.mean],\n",
    "                   \"Bottles Sold\": [np.sum, np.mean],\n",
    "                   \"Zip Code\": lambda x: x.iloc[0]}) # just extract once, should be the same\n",
    "\n",
    "# Collapse the column indices\n",
    "sales_2016.columns = [''.join(col).strip() for col in sales_county.columns.values]\n",
    "\n",
    "\n",
    "X_2016 = sales_2016[sales_2016['Quarter']==\"2016Q1\"]\n",
    "X_2016 = X_2016.ix[:,2:]\n",
    "X_2016.drop(\"Zip Code <lambda>\",axis=1,inplace=True)\n",
    "\n",
    "# Quick check\n",
    "X_2016.head()"
   ]
  },
  {
   "cell_type": "code",
   "execution_count": 43,
   "metadata": {
    "collapsed": false
   },
   "outputs": [
    {
     "name": "stdout",
     "output_type": "stream",
     "text": [
      "\n",
      "Sales 2016 predicted using Lasso (M USD)\n",
      "295.8231979\n",
      "\n",
      "Actual 2015 Sales (M USD)\n",
      "284.32857211\n",
      "\n",
      "Anticipated sales variation in 2016 vs 2015 (M USD)\n",
      "11.4946257901\n"
     ]
    }
   ],
   "source": [
    "# Lasso prediction\n",
    "predictions_lasso_2016 = lasso_model.predict(X_2016)\n",
    "sum_2016 = sum(predictions_lasso_2016)/10**6\n",
    "print(\"\\nSales 2016 predicted using Lasso (M USD)\")\n",
    "print(sum_2016)\n",
    "\n",
    "# Total 2015 sales\n",
    "sum_2015 = sum(sales['Sale (Dollars) sum'])/10**6\n",
    "print(\"\\nActual 2015 Sales (M USD)\")\n",
    "print(sum_2015)\n",
    "\n",
    "# Anticipated variation\n",
    "print(\"\\nAnticipated sales variation in 2016 vs 2015 (M USD)\")\n",
    "print(sum_2016-sum_2015)"
   ]
  },
  {
   "cell_type": "markdown",
   "metadata": {},
   "source": [
    "## Plot your results\n",
    "\n",
    "Again make sure that you record any valuable information. For example, in the tax scenario, did you find the sales from the first three months of the year to be a good predictor of the total sales for the year? Plot the predictions versus the true values and discuss the successes and limitations of your models"
   ]
  },
  {
   "cell_type": "code",
   "execution_count": 26,
   "metadata": {
    "collapsed": false
   },
   "outputs": [
    {
     "data": {
      "image/png": "[encoded data removed]",
      "text/plain": [
       "<matplotlib.figure.Figure at 0x7fd137667ad0>"
      ]
     },
     "metadata": {},
     "output_type": "display_data"
    }
   ],
   "source": [
    "plt.scatter(y,predictions_lasso,color=\"red\",alpha=.5)\n",
    "plt.xlim(0,3000000)\n",
    "plt.ylim(0,3000000)\n",
    "plt.xlabel('2015 Actual Sales (Dollars)')\n",
    "plt.ylabel('2015 Predicted Sales (Dollars)')\n",
    "plt.show()\n"
   ]
  },
  {
   "cell_type": "markdown",
   "metadata": {},
   "source": [
    "The plot of predicted county sales versus actual values shows a figure relatively close to a straight line. This shows a good model fit. However as the sales increase, so does the uncertainty in the prediction, as the points tend to diverge a little bit more from a straight line than for small sales values."
   ]
  },
  {
   "cell_type": "markdown",
   "metadata": {},
   "source": [
    "# Present the Results\n",
    "\n",
    "Present your conclusions and results. If you have more than one interesting model feel free to include more than one along with a discussion. Use your work in this notebook to prepare your write-up."
   ]
  },
  {
   "cell_type": "markdown",
   "metadata": {
    "collapsed": true
   },
   "source": [
    "### Findings\n",
    "As requested by the Iowa state tax board, we have produced too outputs:\n",
    "* overview of the sales by store. This has been stored in a separate table (\"sales\") and will not be discussed in more details here\n",
    "* a projection of sales in 2016 based on 2015 and Q1 2016. The findings are presented below in the document\n",
    "\n",
    "### Projected 2016 sales\n",
    "According to our estimation, the liquor sales is going to increase by 3,9% in 2016 versus 2015, reaching of nearly 296 million dollars.\n",
    "\n",
    "### Methodology\n",
    "This estimation is based on a statistical methodology that lead to the conclusion that we can reliably extrapolate Q1 sales to the whole year using the following calculation:\n",
    "* For a given state, multiply the Q1 sales by a factor 4.5\n",
    "* to that result add Q1 mean sales multiplied by a factor 1191\n",
    "More details avaialable on request\n",
    "\n",
    "### Disclaimer\n",
    "Although care has been taken to ensure the accuracy of the information provided, no warranty, expressed or implied, is made regarding completeness, reliability or usefulness of any information.\n",
    "\n",
    "Liquor sales are subject to external unknown factor that by essence cannot be fitted in any statisitcal model "
   ]
  }
 ],
 "metadata": {
  "anaconda-cloud": {},
  "kernelspec": {
   "display_name": "Python [default]",
   "language": "python",
   "name": "python2"
  },
  "language_info": {
   "codemirror_mode": {
    "name": "ipython",
    "version": 2
   },
   "file_extension": ".py",
   "mimetype": "text/x-python",
   "name": "python",
   "nbconvert_exporter": "python",
   "pygments_lexer": "ipython2",
   "version": "2.7.12"
  }
 },
 "nbformat": 4,
 "nbformat_minor": 0
}
