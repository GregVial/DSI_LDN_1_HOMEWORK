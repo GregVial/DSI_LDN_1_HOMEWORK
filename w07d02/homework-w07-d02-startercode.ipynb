{
 "cells": [
  {
   "cell_type": "markdown",
   "metadata": {},
   "source": [
    "# Homework w07d02 - Principal component analysis and regression"
   ]
  },
  {
   "cell_type": "code",
   "execution_count": 1,
   "metadata": {
    "collapsed": true
   },
   "outputs": [],
   "source": [
    "%matplotlib inline \n",
    "\n",
    "import pandas as pd\n",
    "import numpy as np\n",
    "from sklearn import metrics\n",
    "import seaborn as sns\n",
    "import matplotlib.pyplot as plt\n",
    "import matplotlib\n",
    "matplotlib.style.use('ggplot') \n",
    "from sklearn import datasets\n",
    "from matplotlib import pyplot as plt\n",
    "from sklearn.decomposition import PCA "
   ]
  },
  {
   "cell_type": "markdown",
   "metadata": {},
   "source": [
    "#### 1. Load the sklearn diabetes dataset. The variables are already rescaled, so you do not have to do that.\n",
    "\n",
    "For more information on the dataset, see the original paper at \n",
    "http://web.stanford.edu/%7Ehastie/Papers/LARS/LeastAngle_2002.pdf."
   ]
  },
  {
   "cell_type": "code",
   "execution_count": 2,
   "metadata": {
    "collapsed": true
   },
   "outputs": [],
   "source": [
    "diab = datasets.load_diabetes()"
   ]
  },
  {
   "cell_type": "code",
   "execution_count": 3,
   "metadata": {
    "collapsed": false
   },
   "outputs": [
    {
     "data": {
      "text/plain": [
       "['data', 'target']"
      ]
     },
     "execution_count": 3,
     "metadata": {},
     "output_type": "execute_result"
    }
   ],
   "source": [
    "diab.keys()"
   ]
  },
  {
   "cell_type": "markdown",
   "metadata": {},
   "source": [
    "#### 2. Obtain the principle component vectors for the dataset"
   ]
  },
  {
   "cell_type": "code",
   "execution_count": 67,
   "metadata": {
    "collapsed": false
   },
   "outputs": [
    {
     "name": "stdout",
     "output_type": "stream",
     "text": [
      "--\n",
      "('The eigenvalues give the relative explained variance of each principal components:', array([  9.10455696e-03,   3.37628560e-03,   2.72842152e-03,\n",
      "         2.16171128e-03,   1.49815742e-03,   1.36361812e-03,\n",
      "         1.21393769e-03,   9.81183716e-04,   1.77194367e-04,\n",
      "         1.93677147e-05]))\n",
      "--\n",
      "('This value as a ratio of the total variance:', array([ 0.40242142,  0.14923182,  0.12059623,  0.09554764,  0.06621856,\n",
      "        0.06027192,  0.05365605,  0.04336832,  0.00783199,  0.00085605]))\n",
      "--\n",
      "The two main vectors describing the principal components:\n",
      "[[ 0.21643101  0.18696711  0.3031625   0.2717397   0.34325493  0.35186062\n",
      "  -0.28243639  0.42883325  0.37861731  0.32218282]\n",
      " [ 0.04437151 -0.38654811 -0.15628061 -0.13825564  0.57302669  0.45593985\n",
      "   0.50624287 -0.06818423 -0.0261893  -0.0849466 ]]\n",
      "--\n"
     ]
    }
   ],
   "source": [
    "from sklearn.decomposition import PCA\n",
    "\n",
    "# select n_components for the number of principal components you wish to use\n",
    "pca = PCA()\n",
    "\n",
    "pca.fit(diab.data)\n",
    "print(\"--\")\n",
    "print(\"The eigenvalues give the relative explained variance of each principal components:\", pca.explained_variance_)\n",
    "print(\"--\")\n",
    "print(\"This value as a ratio of the total variance:\", pca.explained_variance_ratio_)\n",
    "print(\"--\")\n",
    "print(\"The two main vectors describing the principal components:\")\n",
    "print(pca.components_[:2])\n",
    "print(\"--\")"
   ]
  },
  {
   "cell_type": "markdown",
   "metadata": {},
   "source": [
    "#### 3. Plot the explained variance ratio for each principal component "
   ]
  },
  {
   "cell_type": "code",
   "execution_count": 69,
   "metadata": {
    "collapsed": false
   },
   "outputs": [
    {
     "data": {
      "text/plain": [
       "(442L,)"
      ]
     },
     "execution_count": 69,
     "metadata": {},
     "output_type": "execute_result"
    }
   ],
   "source": [
    "pca"
   ]
  },
  {
   "cell_type": "markdown",
   "metadata": {},
   "source": [
    "#### 4. Plot the cumulative sum of the explained variance ratio"
   ]
  },
  {
   "cell_type": "code",
   "execution_count": 28,
   "metadata": {
    "collapsed": false
   },
   "outputs": [
    {
     "name": "stdout",
     "output_type": "stream",
     "text": [
      "Cumulative explained variance:\n",
      "[ 0.40242142  0.55165324  0.67224947  0.76779711  0.83401567  0.89428759\n",
      "  0.94794364  0.99131196  0.99914395  1.        ]\n"
     ]
    }
   ],
   "source": [
    "tot = 100\n",
    "var_exp = [(i / tot)*100 for i in sorted(pca.explained_variance_ratio_, reverse=True)]\n",
    "cum_var_exp = np.cumsum(var_exp)\n",
    "print(\"Cumulative explained variance:\")\n",
    "print(cum_var_exp)"
   ]
  },
  {
   "cell_type": "code",
   "execution_count": 49,
   "metadata": {
    "collapsed": false
   },
   "outputs": [
    {
     "data": {
      "image/png": "[encoded data removed]",
      "text/plain": [
       "<matplotlib.figure.Figure at 0xd41cd30>"
      ]
     },
     "metadata": {},
     "output_type": "display_data"
    }
   ],
   "source": [
    "plt.plot(range(1,len(cum_var_exp)+1), cum_var_exp*100, lw=7)\n",
    "plt.axhline(y=0, linewidth=5, color='grey', ls='dashed')\n",
    "plt.axhline(y=100, linewidth=3, color='grey', ls='dashed')\n",
    "ax = plt.gca()\n",
    "ax.set_xlim([1,len(cum_var_exp)])\n",
    "ax.set_ylim([-5,105])\n",
    "ax.set_ylabel('cumulative variance explained', fontsize=16)\n",
    "ax.set_xlabel('principal component', fontsize=16) \n",
    "ax.set_title('component vs cumulative variance explained\\n', fontsize=20)\n",
    "plt.show()"
   ]
  },
  {
   "cell_type": "markdown",
   "metadata": {},
   "source": [
    "#### 5. Perform a linear regression fit on the principal component vectors starting with one principal component and then inlcuding more and more principal components"
   ]
  },
  {
   "cell_type": "code",
   "execution_count": 70,
   "metadata": {
    "collapsed": false
   },
   "outputs": [],
   "source": [
    "Xpca = pca.transform(diab.data)"
   ]
  },
  {
   "cell_type": "code",
   "execution_count": 74,
   "metadata": {
    "collapsed": false
   },
   "outputs": [
    {
     "name": "stdout",
     "output_type": "stream",
     "text": [
      "MSE with 1 principal components: 4100.973972\n",
      "MSE with 2 principal components: 3878.411678\n",
      "MSE with 3 principal components: 3723.544068\n",
      "MSE with 4 principal components: 2963.115516\n",
      "MSE with 5 principal components: 2962.699140\n",
      "MSE with 6 principal components: 2918.441707\n",
      "MSE with 7 principal components: 2888.582452\n",
      "MSE with 8 principal components: 2882.811213\n",
      "MSE with 9 principal components: 2882.075154\n",
      "MSE with 10 principal components: 2859.690399\n"
     ]
    }
   ],
   "source": [
    "from sklearn.linear_model import LinearRegression\n",
    "from sklearn.metrics import mean_squared_error\n",
    "lr = LinearRegression(n_jobs=-1)\n",
    "\n",
    "for n in range(pca.components_.shape[0]):\n",
    "    lr.fit(Xpca[:,:n+1],diab.target)\n",
    "    y_pred = lr.predict(Xpca[:,:n+1])\n",
    "    print(\"MSE with %d principal components: %f\" % (n+1,mean_squared_error(diab.target,y_pred)))"
   ]
  },
  {
   "cell_type": "markdown",
   "metadata": {},
   "source": [
    "#### 6. Compare to the MSE of models based on any single or double variables from the original features"
   ]
  },
  {
   "cell_type": "code",
   "execution_count": 81,
   "metadata": {
    "collapsed": false
   },
   "outputs": [
    {
     "name": "stdout",
     "output_type": "stream",
     "text": [
      "MSE with feature number 1: 4289.796961\n",
      "MSE with feature number 2: 6067.160334\n",
      "MSE with feature number 3: 7155.028299\n",
      "MSE with feature number 4: 5201.440764\n",
      "MSE with feature number 5: 6123.549429\n",
      "MSE with feature number 6: 6176.607677\n",
      "MSE with feature number 7: 6669.156684\n",
      "MSE with feature number 8: 6301.511133\n",
      "MSE with feature number 9: 6099.531261\n",
      "MSE with feature number 10: 5963.097689\n"
     ]
    }
   ],
   "source": [
    "# With one element\n",
    "lr = LinearRegression(n_jobs=-1)\n",
    "\n",
    "for n in range(pca.components_.shape[0]):\n",
    "    lr.fit(diab.data[:,n:n+1],diab.target)\n",
    "    y_pred = lr.predict(Xpca[:,n:n+1])\n",
    "    print(\"MSE with feature number %d: %f\" % (n+1,mean_squared_error(diab.target,y_pred)))"
   ]
  },
  {
   "cell_type": "code",
   "execution_count": 87,
   "metadata": {
    "collapsed": false
   },
   "outputs": [
    {
     "name": "stdout",
     "output_type": "stream",
     "text": [
      "MSE with feature number 1 and 2: 4328.978731\n",
      "MSE with feature number 1 and 3: 6136.668010\n",
      "MSE with feature number 1 and 4: 4645.336241\n",
      "MSE with feature number 1 and 5: 4666.826586\n",
      "MSE with feature number 1 and 6: 4622.687518\n",
      "MSE with feature number 1 and 7: 5134.055457\n",
      "MSE with feature number 1 and 8: 5140.693899\n",
      "MSE with feature number 1 and 9: 5633.071727\n",
      "MSE with feature number 1 and 10: 5058.713549\n",
      "MSE with feature number 2 and 3: 7136.085600\n",
      "MSE with feature number 2 and 4: 5067.996863\n",
      "MSE with feature number 2 and 5: 6232.590489\n",
      "MSE with feature number 2 and 6: 6226.529853\n",
      "MSE with feature number 2 and 7: 6611.620776\n",
      "MSE with feature number 2 and 8: 6174.975099\n",
      "MSE with feature number 2 and 9: 5999.369247\n",
      "MSE with feature number 2 and 10: 5869.638860\n",
      "MSE with feature number 3 and 4: 5925.181010\n",
      "MSE with feature number 3 and 5: 7072.349264\n",
      "MSE with feature number 3 and 6: 7138.114649\n",
      "MSE with feature number 3 and 7: 6983.155455\n",
      "MSE with feature number 3 and 8: 6705.633442\n",
      "MSE with feature number 3 and 9: 6376.696952\n",
      "MSE with feature number 3 and 10: 6760.227515\n",
      "MSE with feature number 4 and 5: 5240.426060\n",
      "MSE with feature number 4 and 6: 5296.581743\n",
      "MSE with feature number 4 and 7: 5710.960690\n",
      "MSE with feature number 4 and 8: 5383.585430\n",
      "MSE with feature number 4 and 9: 5352.015674\n",
      "MSE with feature number 4 and 10: 5191.946461\n",
      "MSE with feature number 5 and 6: 6231.838472\n",
      "MSE with feature number 5 and 7: 6939.149228\n",
      "MSE with feature number 5 and 8: 6335.694373\n",
      "MSE with feature number 5 and 9: 6169.938300\n",
      "MSE with feature number 5 and 10: 6005.247200\n",
      "MSE with feature number 6 and 7: 6724.543779\n",
      "MSE with feature number 6 and 8: 6577.816224\n",
      "MSE with feature number 6 and 9: 6095.516200\n",
      "MSE with feature number 6 and 10: 6032.518763\n",
      "MSE with feature number 7 and 8: 6290.826602\n",
      "MSE with feature number 7 and 9: 6310.242329\n",
      "MSE with feature number 7 and 10: 6460.570750\n",
      "MSE with feature number 8 and 9: 6069.215284\n",
      "MSE with feature number 8 and 10: 6146.211247\n",
      "MSE with feature number 9 and 10: 6073.465199\n"
     ]
    }
   ],
   "source": [
    "# With two elements\n",
    "from itertools import combinations\n",
    "for n,m in combinations(range(pca.components_.shape[0]),2):\n",
    "    lr.fit(diab.data[:,[n,m]],diab.target)\n",
    "    y_pred = lr.predict(Xpca[:,[n,m]])\n",
    "    print(\"MSE with feature number %d and %d: %f\" % (n+1,m+1,mean_squared_error(diab.target,y_pred)))"
   ]
  },
  {
   "cell_type": "markdown",
   "metadata": {},
   "source": [
    "Wow, PCA with one component did better than any 1 or 2 features!"
   ]
  },
  {
   "cell_type": "markdown",
   "metadata": {},
   "source": [
    "#### Optional: Use other regression methods"
   ]
  },
  {
   "cell_type": "code",
   "execution_count": null,
   "metadata": {
    "collapsed": true
   },
   "outputs": [],
   "source": []
  }
 ],
 "metadata": {
  "anaconda-cloud": {},
  "kernelspec": {
   "display_name": "Python [Root]",
   "language": "python",
   "name": "Python [Root]"
  },
  "language_info": {
   "codemirror_mode": {
    "name": "ipython",
    "version": 2
   },
   "file_extension": ".py",
   "mimetype": "text/x-python",
   "name": "python",
   "nbconvert_exporter": "python",
   "pygments_lexer": "ipython2",
   "version": "2.7.12"
  }
 },
 "nbformat": 4,
 "nbformat_minor": 1
}
