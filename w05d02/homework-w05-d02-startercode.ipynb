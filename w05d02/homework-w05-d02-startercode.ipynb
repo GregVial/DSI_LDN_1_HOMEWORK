{
 "cells": [
  {
   "cell_type": "markdown",
   "metadata": {},
   "source": [
    "# Homework w05d02 - Pipelines\n",
    "\n",
    "#### Load the graduate school admissions dataset. The aim of this exercise is to create a pipeline to chain various data transformations and to use gridsearch for logistic regression. "
   ]
  },
  {
   "cell_type": "code",
   "execution_count": 85,
   "metadata": {
    "collapsed": false
   },
   "outputs": [
    {
     "data": {
      "text/html": [
       "<div>\n",
       "<table border=\"1\" class=\"dataframe\">\n",
       "  <thead>\n",
       "    <tr style=\"text-align: right;\">\n",
       "      <th></th>\n",
       "      <th>admit</th>\n",
       "      <th>gre</th>\n",
       "      <th>gpa</th>\n",
       "      <th>prestige</th>\n",
       "    </tr>\n",
       "  </thead>\n",
       "  <tbody>\n",
       "    <tr>\n",
       "      <th>0</th>\n",
       "      <td>0</td>\n",
       "      <td>380.0</td>\n",
       "      <td>3.61</td>\n",
       "      <td>3</td>\n",
       "    </tr>\n",
       "    <tr>\n",
       "      <th>1</th>\n",
       "      <td>1</td>\n",
       "      <td>660.0</td>\n",
       "      <td>3.67</td>\n",
       "      <td>3</td>\n",
       "    </tr>\n",
       "    <tr>\n",
       "      <th>2</th>\n",
       "      <td>1</td>\n",
       "      <td>800.0</td>\n",
       "      <td>4.00</td>\n",
       "      <td>1</td>\n",
       "    </tr>\n",
       "    <tr>\n",
       "      <th>3</th>\n",
       "      <td>1</td>\n",
       "      <td>640.0</td>\n",
       "      <td>3.19</td>\n",
       "      <td>4</td>\n",
       "    </tr>\n",
       "    <tr>\n",
       "      <th>4</th>\n",
       "      <td>0</td>\n",
       "      <td>520.0</td>\n",
       "      <td>2.93</td>\n",
       "      <td>4</td>\n",
       "    </tr>\n",
       "  </tbody>\n",
       "</table>\n",
       "</div>"
      ],
      "text/plain": [
       "   admit    gre   gpa  prestige\n",
       "0      0  380.0  3.61         3\n",
       "1      1  660.0  3.67         3\n",
       "2      1  800.0  4.00         1\n",
       "3      1  640.0  3.19         4\n",
       "4      0  520.0  2.93         4"
      ]
     },
     "execution_count": 85,
     "metadata": {},
     "output_type": "execute_result"
    }
   ],
   "source": [
    "import numpy as np\n",
    "import pandas as pd\n",
    "\n",
    "from sklearn import model_selection, linear_model, metrics\n",
    "from sklearn.pipeline import Pipeline\n",
    "from sklearn.metrics import accuracy_score\n",
    "from sklearn.pipeline import make_pipeline, make_union\n",
    "from sklearn.base import BaseEstimator, TransformerMixin\n",
    "\n",
    "# Import data, adjust your path\n",
    "df = pd.read_csv(\"admissions.csv\").dropna()\n",
    "df['prestige'] = df['prestige'].astype(int)\n",
    "df.head()"
   ]
  },
  {
   "cell_type": "markdown",
   "metadata": {},
   "source": [
    "#### 1. In class you saw the GetDummiesTransformer. Modify this transformer in such a way that in a given dataframe it replaces the categorical variable (prestige) with the corresponding dummy variables dropping the one which is redundant."
   ]
  },
  {
   "cell_type": "code",
   "execution_count": 104,
   "metadata": {
    "collapsed": false
   },
   "outputs": [
    {
     "data": {
      "text/html": [
       "<div>\n",
       "<table border=\"1\" class=\"dataframe\">\n",
       "  <thead>\n",
       "    <tr style=\"text-align: right;\">\n",
       "      <th></th>\n",
       "      <th>admit</th>\n",
       "      <th>gre</th>\n",
       "      <th>gpa</th>\n",
       "      <th>prestige_1</th>\n",
       "      <th>prestige_2</th>\n",
       "      <th>prestige_3</th>\n",
       "      <th>prestige_4</th>\n",
       "    </tr>\n",
       "  </thead>\n",
       "  <tbody>\n",
       "    <tr>\n",
       "      <th>0</th>\n",
       "      <td>0</td>\n",
       "      <td>380.0</td>\n",
       "      <td>3.61</td>\n",
       "      <td>0.0</td>\n",
       "      <td>0.0</td>\n",
       "      <td>1.0</td>\n",
       "      <td>0.0</td>\n",
       "    </tr>\n",
       "    <tr>\n",
       "      <th>1</th>\n",
       "      <td>1</td>\n",
       "      <td>660.0</td>\n",
       "      <td>3.67</td>\n",
       "      <td>0.0</td>\n",
       "      <td>0.0</td>\n",
       "      <td>1.0</td>\n",
       "      <td>0.0</td>\n",
       "    </tr>\n",
       "    <tr>\n",
       "      <th>2</th>\n",
       "      <td>1</td>\n",
       "      <td>800.0</td>\n",
       "      <td>4.00</td>\n",
       "      <td>1.0</td>\n",
       "      <td>0.0</td>\n",
       "      <td>0.0</td>\n",
       "      <td>0.0</td>\n",
       "    </tr>\n",
       "    <tr>\n",
       "      <th>3</th>\n",
       "      <td>1</td>\n",
       "      <td>640.0</td>\n",
       "      <td>3.19</td>\n",
       "      <td>0.0</td>\n",
       "      <td>0.0</td>\n",
       "      <td>0.0</td>\n",
       "      <td>1.0</td>\n",
       "    </tr>\n",
       "    <tr>\n",
       "      <th>4</th>\n",
       "      <td>0</td>\n",
       "      <td>520.0</td>\n",
       "      <td>2.93</td>\n",
       "      <td>0.0</td>\n",
       "      <td>0.0</td>\n",
       "      <td>0.0</td>\n",
       "      <td>1.0</td>\n",
       "    </tr>\n",
       "  </tbody>\n",
       "</table>\n",
       "</div>"
      ],
      "text/plain": [
       "   admit    gre   gpa  prestige_1  prestige_2  prestige_3  prestige_4\n",
       "0      0  380.0  3.61         0.0         0.0         1.0         0.0\n",
       "1      1  660.0  3.67         0.0         0.0         1.0         0.0\n",
       "2      1  800.0  4.00         1.0         0.0         0.0         0.0\n",
       "3      1  640.0  3.19         0.0         0.0         0.0         1.0\n",
       "4      0  520.0  2.93         0.0         0.0         0.0         1.0"
      ]
     },
     "execution_count": 104,
     "metadata": {},
     "output_type": "execute_result"
    }
   ],
   "source": [
    "class GetDummiesTransformer(BaseEstimator, TransformerMixin):\n",
    "    def __init__(self, columns):\n",
    "        self.columns = columns\n",
    "    \n",
    "    def transform(self, X, *_):\n",
    "        if isinstance(X, pd.DataFrame):\n",
    "            dummies_df = pd.DataFrame(pd.get_dummies(X[self.columns],columns = self.columns))\n",
    "            X_df = X.drop(self.columns, axis = 1)\n",
    "            return pd.concat([X_df,dummies_df],axis=1)\n",
    "        else:\n",
    "            raise TypeError(\"This transformer only works with Pandas Dataframes\")\n",
    "    \n",
    "    def fit(self, X, *_):\n",
    "        return self\n",
    "\n",
    "\n",
    "gdt = GetDummiesTransformer(['prestige'])\n",
    "gdt.fit_transform(df).head()"
   ]
  },
  {
   "cell_type": "markdown",
   "metadata": {},
   "source": [
    "#### Answer:"
   ]
  },
  {
   "cell_type": "code",
   "execution_count": null,
   "metadata": {
    "collapsed": false
   },
   "outputs": [],
   "source": [
    "# I modified the function above directly"
   ]
  },
  {
   "cell_type": "markdown",
   "metadata": {},
   "source": [
    "#### 2. Construct a class which takes a dataframe as an input and returns the response and the feature matrix. Do this by modifying the ColumnSelector from the lab."
   ]
  },
  {
   "cell_type": "code",
   "execution_count": 3,
   "metadata": {
    "collapsed": true
   },
   "outputs": [],
   "source": [
    "class ColumnSelector(BaseEstimator, TransformerMixin):\n",
    "    def __init__(self, columns):\n",
    "        self.columns = columns\n",
    "    \n",
    "    def transform(self, X, *_):\n",
    "        if isinstance(X, pd.DataFrame):\n",
    "            return pd.DataFrame(X[self.columns])\n",
    "        else:\n",
    "            raise TypeError(\"This transformer only works with Pandas Dataframes\")\n",
    "    \n",
    "    def fit(self, X, *_):\n",
    "        return self\n",
    "\n"
   ]
  },
  {
   "cell_type": "markdown",
   "metadata": {},
   "source": [
    "#### Answer"
   ]
  },
  {
   "cell_type": "code",
   "execution_count": 105,
   "metadata": {
    "collapsed": false
   },
   "outputs": [
    {
     "data": {
      "text/plain": [
       "(       gre   gpa  prestige\n",
       " 0    380.0  3.61         3\n",
       " 1    660.0  3.67         3\n",
       " 2    800.0  4.00         1\n",
       " 3    640.0  3.19         4\n",
       " 4    520.0  2.93         4\n",
       " 5    760.0  3.00         2\n",
       " 6    560.0  2.98         1\n",
       " 7    400.0  3.08         2\n",
       " 8    540.0  3.39         3\n",
       " 9    700.0  3.92         2\n",
       " 10   800.0  4.00         4\n",
       " 11   440.0  3.22         1\n",
       " 12   760.0  4.00         1\n",
       " 13   700.0  3.08         2\n",
       " 14   700.0  4.00         1\n",
       " 15   480.0  3.44         3\n",
       " 16   780.0  3.87         4\n",
       " 17   360.0  2.56         3\n",
       " 18   800.0  3.75         2\n",
       " 19   540.0  3.81         1\n",
       " 20   500.0  3.17         3\n",
       " 21   660.0  3.63         2\n",
       " 22   600.0  2.82         4\n",
       " 23   680.0  3.19         4\n",
       " 24   760.0  3.35         2\n",
       " 25   800.0  3.66         1\n",
       " 26   620.0  3.61         1\n",
       " 27   520.0  3.74         4\n",
       " 28   780.0  3.22         2\n",
       " 29   520.0  3.29         1\n",
       " ..     ...   ...       ...\n",
       " 370  540.0  3.77         2\n",
       " 371  680.0  3.76         3\n",
       " 372  680.0  2.42         1\n",
       " 373  620.0  3.37         1\n",
       " 374  560.0  3.78         2\n",
       " 375  560.0  3.49         4\n",
       " 376  620.0  3.63         2\n",
       " 377  800.0  4.00         2\n",
       " 378  640.0  3.12         3\n",
       " 379  540.0  2.70         2\n",
       " 380  700.0  3.65         2\n",
       " 381  540.0  3.49         2\n",
       " 382  540.0  3.51         2\n",
       " 383  660.0  4.00         1\n",
       " 384  480.0  2.62         2\n",
       " 385  420.0  3.02         1\n",
       " 386  740.0  3.86         2\n",
       " 387  580.0  3.36         2\n",
       " 388  640.0  3.17         2\n",
       " 389  640.0  3.51         2\n",
       " 390  800.0  3.05         2\n",
       " 391  660.0  3.88         2\n",
       " 392  600.0  3.38         3\n",
       " 393  620.0  3.75         2\n",
       " 394  460.0  3.99         3\n",
       " 395  620.0  4.00         2\n",
       " 396  560.0  3.04         3\n",
       " 397  460.0  2.63         2\n",
       " 398  700.0  3.65         2\n",
       " 399  600.0  3.89         3\n",
       " \n",
       " [397 rows x 3 columns],      admit\n",
       " 0        0\n",
       " 1        1\n",
       " 2        1\n",
       " 3        1\n",
       " 4        0\n",
       " 5        1\n",
       " 6        1\n",
       " 7        0\n",
       " 8        1\n",
       " 9        0\n",
       " 10       0\n",
       " 11       0\n",
       " 12       1\n",
       " 13       0\n",
       " 14       1\n",
       " 15       0\n",
       " 16       0\n",
       " 17       0\n",
       " 18       0\n",
       " 19       1\n",
       " 20       0\n",
       " 21       1\n",
       " 22       0\n",
       " 23       0\n",
       " 24       1\n",
       " 25       1\n",
       " 26       1\n",
       " 27       1\n",
       " 28       1\n",
       " 29       0\n",
       " ..     ...\n",
       " 370      1\n",
       " 371      1\n",
       " 372      1\n",
       " 373      1\n",
       " 374      0\n",
       " 375      0\n",
       " 376      0\n",
       " 377      1\n",
       " 378      0\n",
       " 379      0\n",
       " 380      0\n",
       " 381      1\n",
       " 382      0\n",
       " 383      0\n",
       " 384      1\n",
       " 385      0\n",
       " 386      1\n",
       " 387      0\n",
       " 388      0\n",
       " 389      0\n",
       " 390      1\n",
       " 391      1\n",
       " 392      1\n",
       " 393      1\n",
       " 394      1\n",
       " 395      0\n",
       " 396      0\n",
       " 397      0\n",
       " 398      0\n",
       " 399      0\n",
       " \n",
       " [397 rows x 1 columns])"
      ]
     },
     "execution_count": 105,
     "metadata": {},
     "output_type": "execute_result"
    }
   ],
   "source": [
    "class ResponseFeatureSelector(BaseEstimator, TransformerMixin):\n",
    "    def __init__(self, response):\n",
    "        self.response = response\n",
    "    \n",
    "    def transform(self, X, *_):\n",
    "        if isinstance(X, pd.DataFrame):\n",
    "            X_response = pd.DataFrame(X[self.response])\n",
    "            X_predictors = pd.DataFrame(X.drop(self.response,axis=1))\n",
    "            return (X_predictors,X_response)\n",
    "        else:\n",
    "            raise TypeError(\"This transformer only works with Pandas Dataframes\")\n",
    "    \n",
    "    def fit(self, X, *_):\n",
    "        return self\n",
    "\n",
    "rfs = ResponseFeatureSelector('admit')\n",
    "rfs.fit_transform(df)"
   ]
  },
  {
   "cell_type": "markdown",
   "metadata": {},
   "source": [
    "#### 3. Construct a pipeline which combines the two classes constructed in 1 and 2 and returns from a given dataframe the response vector and the feature matrix."
   ]
  },
  {
   "cell_type": "code",
   "execution_count": 106,
   "metadata": {
    "collapsed": false
   },
   "outputs": [],
   "source": [
    "#Pipeline(steps=[gdt,rfs])\n",
    "pipe1 = Pipeline([('gft', gdt), ('rfs', rfs)])\n",
    "X,y = pipe1.fit_transform(df,['admit'])"
   ]
  },
  {
   "cell_type": "code",
   "execution_count": 107,
   "metadata": {
    "collapsed": false
   },
   "outputs": [
    {
     "data": {
      "text/html": [
       "<div>\n",
       "<table border=\"1\" class=\"dataframe\">\n",
       "  <thead>\n",
       "    <tr style=\"text-align: right;\">\n",
       "      <th></th>\n",
       "      <th>gre</th>\n",
       "      <th>gpa</th>\n",
       "      <th>prestige_1</th>\n",
       "      <th>prestige_2</th>\n",
       "      <th>prestige_3</th>\n",
       "      <th>prestige_4</th>\n",
       "    </tr>\n",
       "  </thead>\n",
       "  <tbody>\n",
       "    <tr>\n",
       "      <th>0</th>\n",
       "      <td>380.0</td>\n",
       "      <td>3.61</td>\n",
       "      <td>0.0</td>\n",
       "      <td>0.0</td>\n",
       "      <td>1.0</td>\n",
       "      <td>0.0</td>\n",
       "    </tr>\n",
       "    <tr>\n",
       "      <th>1</th>\n",
       "      <td>660.0</td>\n",
       "      <td>3.67</td>\n",
       "      <td>0.0</td>\n",
       "      <td>0.0</td>\n",
       "      <td>1.0</td>\n",
       "      <td>0.0</td>\n",
       "    </tr>\n",
       "    <tr>\n",
       "      <th>2</th>\n",
       "      <td>800.0</td>\n",
       "      <td>4.00</td>\n",
       "      <td>1.0</td>\n",
       "      <td>0.0</td>\n",
       "      <td>0.0</td>\n",
       "      <td>0.0</td>\n",
       "    </tr>\n",
       "    <tr>\n",
       "      <th>3</th>\n",
       "      <td>640.0</td>\n",
       "      <td>3.19</td>\n",
       "      <td>0.0</td>\n",
       "      <td>0.0</td>\n",
       "      <td>0.0</td>\n",
       "      <td>1.0</td>\n",
       "    </tr>\n",
       "    <tr>\n",
       "      <th>4</th>\n",
       "      <td>520.0</td>\n",
       "      <td>2.93</td>\n",
       "      <td>0.0</td>\n",
       "      <td>0.0</td>\n",
       "      <td>0.0</td>\n",
       "      <td>1.0</td>\n",
       "    </tr>\n",
       "  </tbody>\n",
       "</table>\n",
       "</div>"
      ],
      "text/plain": [
       "     gre   gpa  prestige_1  prestige_2  prestige_3  prestige_4\n",
       "0  380.0  3.61         0.0         0.0         1.0         0.0\n",
       "1  660.0  3.67         0.0         0.0         1.0         0.0\n",
       "2  800.0  4.00         1.0         0.0         0.0         0.0\n",
       "3  640.0  3.19         0.0         0.0         0.0         1.0\n",
       "4  520.0  2.93         0.0         0.0         0.0         1.0"
      ]
     },
     "execution_count": 107,
     "metadata": {},
     "output_type": "execute_result"
    }
   ],
   "source": [
    "X.head()"
   ]
  },
  {
   "cell_type": "markdown",
   "metadata": {},
   "source": [
    "#### 4. Feed the result into a logistic regression fit. Use GridSearchCV to find the best model fitting the data. Your gridsearch should use cross validation and a parameter grid for your choice of the input parameters of the logistic regression model (e.g. the penalty, fit with intercept, ...)."
   ]
  },
  {
   "cell_type": "code",
   "execution_count": 115,
   "metadata": {
    "collapsed": false
   },
   "outputs": [
    {
     "name": "stdout",
     "output_type": "stream",
     "text": [
      "Fitting 5 folds for each of 24 candidates, totalling 120 fits\n"
     ]
    },
    {
     "name": "stderr",
     "output_type": "stream",
     "text": [
      "[Parallel(n_jobs=1)]: Done 120 out of 120 | elapsed:    0.3s finished\n"
     ]
    },
    {
     "data": {
      "text/plain": [
       "{'C': 100.0, 'penalty': 'l2'}"
      ]
     },
     "execution_count": 115,
     "metadata": {},
     "output_type": "execute_result"
    }
   ],
   "source": [
    "from sklearn.linear_model import LogisticRegression\n",
    "from sklearn.model_selection import GridSearchCV\n",
    "\n",
    "\n",
    "logreg_f = LogisticRegression()\n",
    "C_vals = [0.0001, 0.001, 0.01, 0.1, 0.5, 0.75, 1.0, 2.5, 5.0, 10.0, 100.0, 1000.0]\n",
    "penalties = ['l1','l2']\n",
    "gs = GridSearchCV(logreg_f, {'penalty':penalties, 'C':C_vals}, verbose=True, cv=5, scoring='accuracy')\n",
    "gs.fit(X,np.ravel(y))\n",
    "gs.best_params_"
   ]
  },
  {
   "cell_type": "code",
   "execution_count": 127,
   "metadata": {
    "collapsed": false
   },
   "outputs": [
    {
     "name": "stdout",
     "output_type": "stream",
     "text": [
      "             precision    recall  f1-score   support\n",
      "\n",
      "          0       0.72      0.93      0.81       271\n",
      "          1       0.60      0.22      0.32       126\n",
      "\n",
      "avg / total       0.68      0.71      0.66       397\n",
      "\n"
     ]
    },
    {
     "data": {
      "text/html": [
       "<div>\n",
       "<table border=\"1\" class=\"dataframe\">\n",
       "  <thead>\n",
       "    <tr style=\"text-align: right;\">\n",
       "      <th></th>\n",
       "      <th>predicted_Failed</th>\n",
       "      <th>predicted_Passed</th>\n",
       "    </tr>\n",
       "  </thead>\n",
       "  <tbody>\n",
       "    <tr>\n",
       "      <th>Failed</th>\n",
       "      <td>252</td>\n",
       "      <td>19</td>\n",
       "    </tr>\n",
       "    <tr>\n",
       "      <th>Passed</th>\n",
       "      <td>98</td>\n",
       "      <td>28</td>\n",
       "    </tr>\n",
       "  </tbody>\n",
       "</table>\n",
       "</div>"
      ],
      "text/plain": [
       "        predicted_Failed  predicted_Passed\n",
       "Failed               252                19\n",
       "Passed                98                28"
      ]
     },
     "execution_count": 127,
     "metadata": {},
     "output_type": "execute_result"
    }
   ],
   "source": [
    "from sklearn.metrics import confusion_matrix\n",
    "from sklearn.metrics import classification_report\n",
    "\n",
    "gs_logreg = LogisticRegression(C=gs.best_params_[\"C\"], penalty=gs.best_params_[\"penalty\"])\n",
    "gs_logreg.fit(X, y)\n",
    "Y_ = gs_logreg.predict(X)\n",
    "\n",
    "print(classification_report(y, Y_))\n",
    "\n",
    "conmat = confusion_matrix(y, Y_, labels=gs_logreg.classes_)\n",
    "confusion = pd.DataFrame(conmat, index=['Failed', 'Passed'],columns=['predicted_Failed', 'predicted_Passed'])\n",
    "confusion"
   ]
  },
  {
   "cell_type": "code",
   "execution_count": null,
   "metadata": {
    "collapsed": true
   },
   "outputs": [],
   "source": []
  }
 ],
 "metadata": {
  "anaconda-cloud": {},
  "kernelspec": {
   "display_name": "Python [Root]",
   "language": "python",
   "name": "Python [Root]"
  },
  "language_info": {
   "codemirror_mode": {
    "name": "ipython",
    "version": 2
   },
   "file_extension": ".py",
   "mimetype": "text/x-python",
   "name": "python",
   "nbconvert_exporter": "python",
   "pygments_lexer": "ipython2",
   "version": "2.7.12"
  }
 },
 "nbformat": 4,
 "nbformat_minor": 1
}
