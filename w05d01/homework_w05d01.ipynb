{
 "cells": [
  {
   "cell_type": "markdown",
   "metadata": {},
   "source": [
    "# Homework: Intro to databases and sql."
   ]
  },
  {
   "cell_type": "markdown",
   "metadata": {},
   "source": [
    "For this homework I want you to explore the w3school site http://www.w3schools.com/sql/ and then implement a one table database."
   ]
  },
  {
   "cell_type": "markdown",
   "metadata": {},
   "source": [
    "1 . Revise the documentation for the SQL Syntaxt we have learned today (CREATE, ALTER, INSERT, SELECT/WHERE/FROM, etc)"
   ]
  },
  {
   "cell_type": "markdown",
   "metadata": {},
   "source": [
    "2 . Using as a template the labs and excercises we did in class, create your own database and table with sqlite."
   ]
  },
  {
   "cell_type": "code",
   "execution_count": 1,
   "metadata": {
    "collapsed": false
   },
   "outputs": [],
   "source": [
    "import sqlite3\n",
    "sqlite_db = \"greg.sqlite\"\n",
    "conn = sqlite3.connect(sqlite_db)\n",
    "cur = conn.cursor()\n",
    "cur.execute('CREATE TABLE cities (id INTEGER PRIMARY KEY, name VARCHAR(255), latitude FLOAT, longitude FLOAT);')\n",
    "conn.commit()"
   ]
  },
  {
   "cell_type": "markdown",
   "metadata": {},
   "source": [
    "3 . Insert at least 5 rows."
   ]
  },
  {
   "cell_type": "code",
   "execution_count": 2,
   "metadata": {
    "collapsed": false
   },
   "outputs": [],
   "source": [
    "uk = [\n",
    "    (None, 'London', 51.509865, -0.118092),\n",
    "    (None, 'Oxford', 51.752022, -1.257677),\n",
    "    (None, 'Gravesend', 51.441883, 0.370759),\n",
    "    (None, 'Northampton', 52.240479, -0.902656),\n",
    "    (None, 'Cardif', 51.481583, -3.179090)\n",
    "]\n",
    "\n",
    "cur.executemany('INSERT INTO cities VALUES (?,?,?,?)', uk)\n",
    "\n",
    "conn.commit()"
   ]
  },
  {
   "cell_type": "markdown",
   "metadata": {},
   "source": [
    "3 . Select the rows."
   ]
  },
  {
   "cell_type": "code",
   "execution_count": 3,
   "metadata": {
    "collapsed": false
   },
   "outputs": [
    {
     "data": {
      "text/plain": [
       "[(1, u'London', 51.509865, -0.118092),\n",
       " (2, u'Oxford', 51.752022, -1.257677),\n",
       " (3, u'Gravesend', 51.441883, 0.370759),\n",
       " (4, u'Northampton', 52.240479, -0.902656),\n",
       " (5, u'Cardif', 51.481583, -3.17909)]"
      ]
     },
     "execution_count": 3,
     "metadata": {},
     "output_type": "execute_result"
    }
   ],
   "source": [
    "q = \"SELECT * FROM cities;\"\n",
    "results = cur.execute(q)\n",
    "results.fetchall()"
   ]
  },
  {
   "cell_type": "markdown",
   "metadata": {},
   "source": [
    "4 . Delete one row and select all the rows again to show that the deletion was succesful (check the url given above for the DELETE syntax)."
   ]
  },
  {
   "cell_type": "code",
   "execution_count": 4,
   "metadata": {
    "collapsed": false
   },
   "outputs": [
    {
     "data": {
      "text/plain": [
       "[(1, u'London', 51.509865, -0.118092),\n",
       " (2, u'Oxford', 51.752022, -1.257677),\n",
       " (4, u'Northampton', 52.240479, -0.902656),\n",
       " (5, u'Cardif', 51.481583, -3.17909)]"
      ]
     },
     "execution_count": 4,
     "metadata": {},
     "output_type": "execute_result"
    }
   ],
   "source": [
    "q = \"DELETE FROM cities WHERE name='Gravesend';\"\n",
    "results = cur.execute(q)\n",
    "results.fetchall()\n",
    "q = \"SELECT * FROM cities;\"\n",
    "results = cur.execute(q)\n",
    "results.fetchall()"
   ]
  },
  {
   "cell_type": "markdown",
   "metadata": {},
   "source": [
    "4 . Update one row and show the results."
   ]
  },
  {
   "cell_type": "code",
   "execution_count": 5,
   "metadata": {
    "collapsed": false
   },
   "outputs": [
    {
     "data": {
      "text/plain": [
       "[(1, u'London', 51.509865, -0.118092),\n",
       " (2, u'Oxford', 51.752022, -1.257677),\n",
       " (4, u'Northampton', 52.240479, -0.902656),\n",
       " (5, u'Cardiff', 51.481583, -3.17909)]"
      ]
     },
     "execution_count": 5,
     "metadata": {},
     "output_type": "execute_result"
    }
   ],
   "source": [
    "q = \"UPDATE cities SET name = 'Cardiff' WHERE name='Cardif';\"\n",
    "results = cur.execute(q)\n",
    "results.fetchall()\n",
    "q = \"SELECT * FROM cities;\"\n",
    "results = cur.execute(q)\n",
    "results.fetchall()#"
   ]
  },
  {
   "cell_type": "code",
   "execution_count": null,
   "metadata": {
    "collapsed": true
   },
   "outputs": [],
   "source": []
  }
 ],
 "metadata": {
  "anaconda-cloud": {},
  "kernelspec": {
   "display_name": "Python [Root]",
   "language": "python",
   "name": "Python [Root]"
  },
  "language_info": {
   "codemirror_mode": {
    "name": "ipython",
    "version": 2
   },
   "file_extension": ".py",
   "mimetype": "text/x-python",
   "name": "python",
   "nbconvert_exporter": "python",
   "pygments_lexer": "ipython2",
   "version": "2.7.12"
  }
 },
 "nbformat": 4,
 "nbformat_minor": 1
}
" " 
