{
 "cells": [
  {
   "cell_type": "markdown",
   "metadata": {},
   "source": [
    "# Report: Predicting data scientists salaries\n",
    "#### Grégory Vial\n",
    "#### November 9th, 2016\n",
    "\n",
    "### Executive summary\n",
    "By looking at the location and the title of a data scientist job ad, we are able to predict with an 84% accuracy whether this job falls is paid more or less than median data scientist salary in the US ($100,000 per year).\n",
    "\n",
    "This prediction model can be used to classify new requirements from customers for data scientists resources and select appropriate price tag for the contract.\n",
    "\n",
    "If required, it can easily be extended to other job categories in IT or others.\n",
    "\n",
    "### Intro\n",
    "A recruitement agency has given us the task to predict whether a data scientist job is worth a high salary or not. The idea is to adjust the amount charged to a customer appropriately based on this prediction.\n",
    "\n",
    "By high salary we mean a salary such that it belongs to the 50% best paid data scientists jobs in the US.\n",
    "\n",
    "Our objective is to outperform random classfication into high or low categories which would result in a 50% accuracy (one job out of two would be properly classified only)\n",
    "\n",
    "### Method\n",
    "To perform this analysis we have selected a job posting site called [indeed.com](http://www.indeed.com).\n",
    "We have extracted as many job ads as possible for various main cities in the US.\n",
    "From these job ads, we have recorded the company, the location, the job title and the salary when it was available. As it turns out less than 10% of job ads mention the salary range so a lot of collected information has not been used (any job ad without salary was removed from our listing).\n",
    "\n",
    "We then calculated the median data scientist salary, i.e. the salary value that has as many jobs better paid than jobs less paid. Jobs were then flagged as \"high\" is their salary was higher than this value, and \"low\" otherwise.\n",
    "\n",
    "Finally we extracted the 250 most frequent words in job ads, and crossed this information with location to build a prediction model that best predicts the job salary category.\n",
    "\n",
    "\n",
    "### Results\n",
    "We found out that in the US, half of the data scientists earn more than \\$100,000 per year (median salary). A quarter of them earns more than \\$140,000 per year (75th percentile).\n",
    "\n",
    "Our prediction model has the following caracteristics:\n",
    "* Accuracy of 84%, i.e. we predict salary category right in 84% of cases\n",
    "* Precision of 84% for low salaries, i.e. 84% of the time we classify a job a \"low\" when it actually is \"low\"\n",
    "* Recall of 86% for low salaries, i.e. we identified 86% of all the \"low\" paid jobs\n",
    "\n",
    "### Conclusion\n",
    "We proved that location and job title are very strong predictors of the salary category, and we were able to leverage this information to build a prediction model.\n",
    "Based on the performance of our prediction model, we consider our task as successful.\n",
    "\n",
    "### Recommendations\n",
    "We can certainly improve our prediction model by several ways:\n",
    "* Fine tune it to decrease the number of jobs wrongly identified as high when in fact they are low\n",
    "* Increase the number of input data we worked on, for instance by using more websites, or other sources of information\n",
    "* Analyse additional features, such as information in the job description (as opposed to the job title only today)"
   ]
  },
  {
   "cell_type": "code",
   "execution_count": null,
   "metadata": {
    "collapsed": true
   },
   "outputs": [],
   "source": []
  }
 ],
 "metadata": {
  "kernelspec": {
   "display_name": "Python [Root]",
   "language": "python",
   "name": "Python [Root]"
  },
  "language_info": {
   "codemirror_mode": {
    "name": "ipython",
    "version": 2
   },
   "file_extension": ".py",
   "mimetype": "text/x-python",
   "name": "python",
   "nbconvert_exporter": "python",
   "pygments_lexer": "ipython2",
   "version": "2.7.12"
  }
 },
 "nbformat": 4,
 "nbformat_minor": 0
}
