{
 "cells": [
  {
   "cell_type": "markdown",
   "metadata": {},
   "source": [
    "# Homework w04d02 - Build your own kNN-classifier\n",
    "\n",
    "Build your own k-nearest-neighbours classifier by defining functions which \n",
    "1. calculate the Euclidean distance between points in the dataset, \n",
    "1. define a majority vote function which returns the most frequent class given a list of class labels (make sure to take into account the possibility of a tie), \n",
    "1. construct a kNN-classifier which takes a training set with labeled points, new points which have to be classified, the parameter k, and which makes use of the previous functions to assign class labels to the new points.\n",
    "1. Test your classifier on the iris dataset contained in sklearn. You can compare your results with the ones using the built-in kNN classifier. \n",
    "\n",
    "Hint: Start by restricting to only two of the four features and only two of the three class labels, that is the first 100 data points."
   ]
  },
  {
   "cell_type": "code",
   "execution_count": 3,
   "metadata": {
    "collapsed": false
   },
   "outputs": [],
   "source": [
    "from sklearn import datasets\n",
    "import pandas as pd\n",
    "import numpy as np\n",
    "from sklearn.cross_validation import train_test_split\n",
    "from matplotlib import pyplot as plt\n",
    "import seaborn as sns\n",
    "%matplotlib inline\n",
    "\n",
    "from __future__ import division"
   ]
  },
  {
   "cell_type": "code",
   "execution_count": 47,
   "metadata": {
    "collapsed": false
   },
   "outputs": [],
   "source": [
    "def calculate_distance(p, q, norm='l2'):\n",
    "    \"\"\"Takes two lists as the coordinates of two points and calculates the Euclidean distance between them.\"\"\"\n",
    "    # Assume points are tuples of ([x,y],label)\n",
    "    res = sum((p[i]-q[i])**2 for i in range(len(p)))**.5\n",
    "    return res\n",
    "#a=(1,2,3)\n",
    "#b=(2,3,0)\n",
    "#calculate_distance(a,b)"
   ]
  },
  {
   "cell_type": "code",
   "execution_count": 33,
   "metadata": {
    "collapsed": false
   },
   "outputs": [
    {
     "name": "stdout",
     "output_type": "stream",
     "text": [
      "Counter({'b': 2, 'e': 2, 'd': 1}) b\n"
     ]
    }
   ],
   "source": [
    "# you might find this package useful, see what the example does\n",
    "import collections\n",
    "labels = ['b','b','d','e','e']\n",
    "print collections.Counter(labels), collections.Counter(labels).most_common(1)[0][0]"
   ]
  },
  {
   "cell_type": "code",
   "execution_count": 14,
   "metadata": {
    "collapsed": false
   },
   "outputs": [
    {
     "data": {
      "text/plain": [
       "[('b', 2), ('e', 2), ('d', 1)]"
      ]
     },
     "execution_count": 14,
     "metadata": {},
     "output_type": "execute_result"
    }
   ],
   "source": [
    "collections.Counter(labels).most_common()"
   ]
  },
  {
   "cell_type": "code",
   "execution_count": 136,
   "metadata": {
    "collapsed": false
   },
   "outputs": [],
   "source": [
    "import random\n",
    "def neighbour_vote(labels):\n",
    "    \"\"\" Get the majority label from k neighbors.\"\"\"\n",
    "    max_nb = 0\n",
    "    max_val = []\n",
    "    for tup in collections.Counter(labels).most_common():\n",
    "        if max_nb > tup[1]:\n",
    "            break\n",
    "        else:\n",
    "            max_nb = tup[1]\n",
    "            max_val.append(tup[0])\n",
    "    return(random.choice(max_val))"
   ]
  },
  {
   "cell_type": "code",
   "execution_count": 172,
   "metadata": {
    "collapsed": false
   },
   "outputs": [],
   "source": [
    "import operator\n",
    "def knn_classifier(labeled_points, new_point, k):\n",
    "    \"\"\" Given labeled points and one new point, return a label based on the votes of k neighbors.\"\"\"\n",
    "    dict_dist = {}\n",
    "    for point in labeled_points:\n",
    "        dist = calculate_distance(point[0],new_point)\n",
    "        #print(dist)\n",
    "        dict_dist[dist] = point[1]\n",
    "    s = sorted(dict_dist.keys())\n",
    "    sorted_tuples = [dict_dist[i] for i in s]\n",
    "    #print(sorted_tuples)\n",
    "    return(neighbour_vote(sorted_tuples[:k]))"
   ]
  },
  {
   "cell_type": "code",
   "execution_count": 173,
   "metadata": {
    "collapsed": false
   },
   "outputs": [],
   "source": [
    "# import the iris flower dataset\n",
    "iris = datasets.load_iris()\n",
    "X = iris.data[:, :]  \n",
    "y = iris.target[:]\n",
    "# Split 70/30 into initial data and new points to classify\n",
    "X_train, X_test, y_train, y_test = train_test_split(X, y, test_size=0.30, random_state=42)"
   ]
  },
  {
   "cell_type": "code",
   "execution_count": 194,
   "metadata": {
    "collapsed": false
   },
   "outputs": [],
   "source": [
    "#Iteratively classify new points in test_df, based on the labeled points in training_df, and track your accuracy.\n",
    "train = [(X_train[i],y_train[i]) for i in range(len(y_train))]\n",
    "#knn_classifier(train,X_test[0],1)\n",
    "\n",
    "n = 1\n",
    "test = [(X_test[i],y_test[i]) for i in range(len(y_test))]\n",
    "predictions = []\n",
    "for point in X_test:\n",
    "    predictions.append(knn_classifier(test,point,3))\n",
    "#predictions"
   ]
  },
  {
   "cell_type": "code",
   "execution_count": 195,
   "metadata": {
    "collapsed": false
   },
   "outputs": [
    {
     "name": "stdout",
     "output_type": "stream",
     "text": [
      "1.0\n"
     ]
    }
   ],
   "source": [
    "# Calculate the number of misclassified points\n",
    "print(sum([predictions[i]==y_test[i] for i in range(len(predictions))])/len(predictions))"
   ]
  },
  {
   "cell_type": "markdown",
   "metadata": {},
   "source": [
    "Looks too good to be true, but it looks to me as if even with n = 1 we have 100% accuracy!"
   ]
  }
 ],
 "metadata": {
  "anaconda-cloud": {},
  "kernelspec": {
   "display_name": "Python [default]",
   "language": "python",
   "name": "python2"
  },
  "language_info": {
   "codemirror_mode": {
    "name": "ipython",
    "version": 2
   },
   "file_extension": ".py",
   "mimetype": "text/x-python",
   "name": "python",
   "nbconvert_exporter": "python",
   "pygments_lexer": "ipython2",
   "version": "2.7.12"
  }
 },
 "nbformat": 4,
 "nbformat_minor": 0
}
