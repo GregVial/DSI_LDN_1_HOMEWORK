{
 "cells": [
  {
   "cell_type": "markdown",
   "metadata": {},
   "source": [
    "# Homework w08d02"
   ]
  },
  {
   "cell_type": "markdown",
   "metadata": {},
   "source": [
    "Repeat the analysis from the lab for different states. \n",
    "1. Choose poll and election results from three different states. \n",
    "2. For each state, obtain the posterior probability distribution for the probability of people voting for Bush based on the polls for a prior Beta distribution and the election results for a binomial likelihood function. \n",
    "3. Plot the cumulative distribution function of the posterior probability."
   ]
  },
  {
   "cell_type": "code",
   "execution_count": 1,
   "metadata": {
    "collapsed": true
   },
   "outputs": [],
   "source": [
    "from __future__ import division\n",
    "import numpy as np\n",
    "import pandas as pd\n",
    "import math\n",
    "from scipy.special import gamma as Gamma\n",
    "from scipy.stats import beta\n",
    "import matplotlib.pyplot as plt\n",
    "%matplotlib inline\n",
    "import math\n",
    "from scipy.special import gamma as Gamma\n",
    "from scipy.stats import beta"
   ]
  },
  {
   "cell_type": "code",
   "execution_count": 3,
   "metadata": {
    "collapsed": false
   },
   "outputs": [
    {
     "data": {
      "text/html": [
       "<div>\n",
       "<table border=\"1\" class=\"dataframe\">\n",
       "  <thead>\n",
       "    <tr style=\"text-align: right;\">\n",
       "      <th></th>\n",
       "      <th>year</th>\n",
       "      <th>survey</th>\n",
       "      <th>bush</th>\n",
       "      <th>state</th>\n",
       "      <th>edu</th>\n",
       "      <th>age</th>\n",
       "      <th>female</th>\n",
       "      <th>black</th>\n",
       "      <th>weight</th>\n",
       "    </tr>\n",
       "  </thead>\n",
       "  <tbody>\n",
       "    <tr>\n",
       "      <th>0</th>\n",
       "      <td>1</td>\n",
       "      <td>9152</td>\n",
       "      <td>1.0</td>\n",
       "      <td>7</td>\n",
       "      <td>2</td>\n",
       "      <td>2</td>\n",
       "      <td>1</td>\n",
       "      <td>0</td>\n",
       "      <td>1403</td>\n",
       "    </tr>\n",
       "    <tr>\n",
       "      <th>1</th>\n",
       "      <td>1</td>\n",
       "      <td>9152</td>\n",
       "      <td>1.0</td>\n",
       "      <td>33</td>\n",
       "      <td>4</td>\n",
       "      <td>3</td>\n",
       "      <td>0</td>\n",
       "      <td>0</td>\n",
       "      <td>778</td>\n",
       "    </tr>\n",
       "    <tr>\n",
       "      <th>2</th>\n",
       "      <td>1</td>\n",
       "      <td>9152</td>\n",
       "      <td>0.0</td>\n",
       "      <td>20</td>\n",
       "      <td>2</td>\n",
       "      <td>1</td>\n",
       "      <td>1</td>\n",
       "      <td>0</td>\n",
       "      <td>1564</td>\n",
       "    </tr>\n",
       "    <tr>\n",
       "      <th>3</th>\n",
       "      <td>1</td>\n",
       "      <td>9152</td>\n",
       "      <td>1.0</td>\n",
       "      <td>31</td>\n",
       "      <td>3</td>\n",
       "      <td>2</td>\n",
       "      <td>1</td>\n",
       "      <td>0</td>\n",
       "      <td>1055</td>\n",
       "    </tr>\n",
       "    <tr>\n",
       "      <th>4</th>\n",
       "      <td>1</td>\n",
       "      <td>9152</td>\n",
       "      <td>1.0</td>\n",
       "      <td>18</td>\n",
       "      <td>3</td>\n",
       "      <td>1</td>\n",
       "      <td>1</td>\n",
       "      <td>0</td>\n",
       "      <td>1213</td>\n",
       "    </tr>\n",
       "  </tbody>\n",
       "</table>\n",
       "</div>"
      ],
      "text/plain": [
       "   year survey  bush  state  edu  age  female  black  weight\n",
       "0     1   9152   1.0      7    2    2       1      0    1403\n",
       "1     1   9152   1.0     33    4    3       0      0     778\n",
       "2     1   9152   0.0     20    2    1       1      0    1564\n",
       "3     1   9152   1.0     31    3    2       1      0    1055\n",
       "4     1   9152   1.0     18    3    1       1      0    1213"
      ]
     },
     "execution_count": 3,
     "metadata": {},
     "output_type": "execute_result"
    }
   ],
   "source": [
    "# Reading in the csv file\n",
    "pre_poll = pd.read_csv('polls.csv')\n",
    "\n",
    "# The first column \"Unnamed\" is clearly just a row-identifer machine generated. We can ignore that column or drop it all together\n",
    "del pre_poll['Unnamed: 0']\n",
    "del pre_poll['org']\n",
    "pre_poll.head()"
   ]
  },
  {
   "cell_type": "code",
   "execution_count": 4,
   "metadata": {
    "collapsed": true
   },
   "outputs": [],
   "source": [
    "# Let's also produce a dictionary with the general poll percentages for state (no age)\n",
    "\n",
    "container2 ={}\n",
    "for state in pre_poll['state'].unique(): \n",
    "    c1 = pre_poll['state'] == state\n",
    "    subset_interest = pre_poll[c1]  # Subsetting the data \n",
    "    contain = subset_interest['bush'].unique()  \n",
    "    contain = contain[~np.isnan(contain)]   # Remove the NaNs - Think why can't we use dropna()?\n",
    "        \n",
    "    if len(contain) == 2:\n",
    "        bush_quotient = float(subset_interest['bush'].value_counts()[1])/(float(subset_interest['bush'].value_counts()[1])+float(subset_interest['bush'].value_counts()[0]))\n",
    "        temp_name = str(state)\n",
    "        container2[temp_name] = bush_quotient"
   ]
  },
  {
   "cell_type": "code",
   "execution_count": 9,
   "metadata": {
    "collapsed": false
   },
   "outputs": [
    {
     "data": {
      "text/html": [
       "<div>\n",
       "<table border=\"1\" class=\"dataframe\">\n",
       "  <thead>\n",
       "    <tr style=\"text-align: right;\">\n",
       "      <th></th>\n",
       "      <th>stnum</th>\n",
       "      <th>st</th>\n",
       "      <th>electionresult</th>\n",
       "      <th>samplesize</th>\n",
       "      <th>raking</th>\n",
       "      <th>_merge</th>\n",
       "    </tr>\n",
       "  </thead>\n",
       "  <tbody>\n",
       "    <tr>\n",
       "      <th>0</th>\n",
       "      <td>1</td>\n",
       "      <td>AL</td>\n",
       "      <td>0.59</td>\n",
       "      <td>203</td>\n",
       "      <td>0.673067</td>\n",
       "      <td>3</td>\n",
       "    </tr>\n",
       "    <tr>\n",
       "      <th>1</th>\n",
       "      <td>2</td>\n",
       "      <td>AK</td>\n",
       "      <td>0.60</td>\n",
       "      <td>0</td>\n",
       "      <td>NaN</td>\n",
       "      <td>1</td>\n",
       "    </tr>\n",
       "    <tr>\n",
       "      <th>2</th>\n",
       "      <td>3</td>\n",
       "      <td>AZ</td>\n",
       "      <td>0.60</td>\n",
       "      <td>194</td>\n",
       "      <td>0.568980</td>\n",
       "      <td>3</td>\n",
       "    </tr>\n",
       "    <tr>\n",
       "      <th>3</th>\n",
       "      <td>4</td>\n",
       "      <td>AR</td>\n",
       "      <td>0.56</td>\n",
       "      <td>121</td>\n",
       "      <td>0.563672</td>\n",
       "      <td>3</td>\n",
       "    </tr>\n",
       "    <tr>\n",
       "      <th>4</th>\n",
       "      <td>5</td>\n",
       "      <td>CA</td>\n",
       "      <td>0.51</td>\n",
       "      <td>1493</td>\n",
       "      <td>0.531725</td>\n",
       "      <td>3</td>\n",
       "    </tr>\n",
       "    <tr>\n",
       "      <th>5</th>\n",
       "      <td>6</td>\n",
       "      <td>CO</td>\n",
       "      <td>0.53</td>\n",
       "      <td>181</td>\n",
       "      <td>0.599325</td>\n",
       "      <td>3</td>\n",
       "    </tr>\n",
       "    <tr>\n",
       "      <th>6</th>\n",
       "      <td>7</td>\n",
       "      <td>CT</td>\n",
       "      <td>0.52</td>\n",
       "      <td>171</td>\n",
       "      <td>0.519580</td>\n",
       "      <td>3</td>\n",
       "    </tr>\n",
       "    <tr>\n",
       "      <th>7</th>\n",
       "      <td>8</td>\n",
       "      <td>DE</td>\n",
       "      <td>0.56</td>\n",
       "      <td>39</td>\n",
       "      <td>0.444178</td>\n",
       "      <td>3</td>\n",
       "    </tr>\n",
       "    <tr>\n",
       "      <th>8</th>\n",
       "      <td>9</td>\n",
       "      <td>DC</td>\n",
       "      <td>0.14</td>\n",
       "      <td>19</td>\n",
       "      <td>NaN</td>\n",
       "      <td>1</td>\n",
       "    </tr>\n",
       "    <tr>\n",
       "      <th>9</th>\n",
       "      <td>10</td>\n",
       "      <td>FL</td>\n",
       "      <td>0.61</td>\n",
       "      <td>750</td>\n",
       "      <td>0.623274</td>\n",
       "      <td>3</td>\n",
       "    </tr>\n",
       "  </tbody>\n",
       "</table>\n",
       "</div>"
      ],
      "text/plain": [
       "   stnum  st  electionresult  samplesize    raking  _merge\n",
       "0      1  AL            0.59         203  0.673067       3\n",
       "1      2  AK            0.60           0       NaN       1\n",
       "2      3  AZ            0.60         194  0.568980       3\n",
       "3      4  AR            0.56         121  0.563672       3\n",
       "4      5  CA            0.51        1493  0.531725       3\n",
       "5      6  CO            0.53         181  0.599325       3\n",
       "6      7  CT            0.52         171  0.519580       3\n",
       "7      8  DE            0.56          39  0.444178       3\n",
       "8      9  DC            0.14          19       NaN       1\n",
       "9     10  FL            0.61         750  0.623274       3"
      ]
     },
     "execution_count": 9,
     "metadata": {},
     "output_type": "execute_result"
    }
   ],
   "source": [
    "election88_dat = pd.read_csv('election88.csv')\n",
    "del election88_dat[\"Unnamed: 0\"]\n",
    "election88_dat.head(10)"
   ]
  },
  {
   "cell_type": "code",
   "execution_count": 8,
   "metadata": {
    "collapsed": false
   },
   "outputs": [
    {
     "data": {
      "text/plain": [
       "{'1': 0.710691823899371,\n",
       " '10': 0.6380655226209049,\n",
       " '11': 0.5871212121212122,\n",
       " '13': 0.5,\n",
       " '14': 0.5323590814196242,\n",
       " '15': 0.6743295019157088,\n",
       " '16': 0.3893805309734513,\n",
       " '17': 0.6929133858267716,\n",
       " '18': 0.5956284153005464,\n",
       " '19': 0.6449704142011834,\n",
       " '20': 0.5102040816326531,\n",
       " '21': 0.4959349593495935,\n",
       " '22': 0.4646153846153846,\n",
       " '23': 0.5548098434004475,\n",
       " '24': 0.5166666666666667,\n",
       " '25': 0.6984126984126984,\n",
       " '26': 0.467680608365019,\n",
       " '27': 0.4,\n",
       " '28': 0.5882352941176471,\n",
       " '29': 0.625,\n",
       " '3': 0.5892857142857143,\n",
       " '30': 0.6666666666666666,\n",
       " '31': 0.5564738292011019,\n",
       " '32': 0.5416666666666666,\n",
       " '33': 0.43114543114543114,\n",
       " '34': 0.6061643835616438,\n",
       " '35': 0.5555555555555556,\n",
       " '36': 0.6257197696737045,\n",
       " '37': 0.5304347826086957,\n",
       " '38': 0.5161290322580645,\n",
       " '39': 0.528046421663443,\n",
       " '4': 0.5841584158415841,\n",
       " '40': 0.3333333333333333,\n",
       " '41': 0.6721311475409836,\n",
       " '42': 0.5714285714285714,\n",
       " '43': 0.6758620689655173,\n",
       " '44': 0.5659025787965616,\n",
       " '45': 0.782608695652174,\n",
       " '46': 0.5833333333333334,\n",
       " '47': 0.6721854304635762,\n",
       " '48': 0.47058823529411764,\n",
       " '49': 0.4954128440366973,\n",
       " '5': 0.5703125,\n",
       " '50': 0.4984520123839009,\n",
       " '51': 0.6,\n",
       " '6': 0.593103448275862,\n",
       " '7': 0.5298507462686567,\n",
       " '8': 0.3783783783783784}"
      ]
     },
     "execution_count": 8,
     "metadata": {},
     "output_type": "execute_result"
    }
   ],
   "source": [
    "container2"
   ]
  },
  {
   "cell_type": "markdown",
   "metadata": {},
   "source": [
    "### Arizona\n",
    "Prior probability = 0.59\n",
    "\n",
    "Likelihood = 0.60\n",
    "\n",
    "Sample size = 194"
   ]
  },
  {
   "cell_type": "markdown",
   "metadata": {},
   "source": [
    "In the election results 194 persons participated, i.e.  n=194 . Our likelihood function given by a binomial distribution is based on the election results, where 60% voted for Bush, i.e.  k=116 persons, and 40% against Bush, i.e.  n−k=78 persons. The prior is given by a Beta distribution based on the previous poll with 59 % pro Bush. That corresponds to  α=194  persons pro and  β=78  against Bush."
   ]
  },
  {
   "cell_type": "markdown",
   "metadata": {},
   "source": [
    "Posterior probability distribution\n",
    "$$\\pi(\\theta| k=116)= \\frac{\\theta^{116+116-1}(1-\\theta)^{78+78-1}}{B(116+116,78+78)}\n",
    "= \\frac{1}{B(232,156)} \\theta^{231}(1-\\theta)^{155}\n",
    "= f_{Beta}(\\theta;232,156)\\ .$$"
   ]
  },
  {
   "cell_type": "code",
   "execution_count": 18,
   "metadata": {
    "collapsed": false
   },
   "outputs": [
    {
     "data": {
      "image/png": "[encoded data removed]",
      "text/plain": [
       "<matplotlib.figure.Figure at 0xceb9470>"
      ]
     },
     "metadata": {},
     "output_type": "display_data"
    }
   ],
   "source": [
    "fig, ax = plt.subplots(1, 1)\n",
    "a = 232\n",
    "b = 156\n",
    "mean, var, skew, kurt = beta.stats(a, b, moments='mvsk')\n",
    "x = np.linspace(0, 1, 100)\n",
    "ax.plot(x, beta.cdf(x, a, b),'r-', lw=2,alpha=0.6, label='beta pdf')\n",
    "plt.axvline(.595)\n",
    "plt.axvline(.54)\n",
    "plt.axvline(.65)\n",
    "plt.xlim(.5,.7)\n",
    "plt.xlabel(\"Event: not more than x% voting for Bush\")\n",
    "plt.ylabel(\"Probability that event occurs\")\n",
    "plt.title(\"Cumulative probability that not more than x% of voters will choose Bush\")\n",
    "plt.show()"
   ]
  },
  {
   "cell_type": "markdown",
   "metadata": {},
   "source": [
    "### California\n",
    "Prior probability = 0,57\n",
    "\n",
    "Likelihood = 0.51\n",
    "\n",
    "Sample size = 1493"
   ]
  },
  {
   "cell_type": "markdown",
   "metadata": {},
   "source": [
    "In the election results 1493 persons participated, i.e.  n=1493 . Our likelihood function given by a binomial distribution is based on the election results, where 51% voted for Bush, i.e. k=761 persons, and 49% against Bush, i.e.  n−k=732 persons. The prior is given by a Beta distribution based on the previous poll with 57 % pro Bush. That corresponds to  α=851  persons pro and  β=642  against Bush."
   ]
  },
  {
   "cell_type": "markdown",
   "metadata": {},
   "source": [
    "Posterior probability distribution\n",
    "$$\\pi(\\theta| k=761)= \\frac{\\theta^{761+851-1}(1-\\theta)^{732+642-1}}{B(761+851,732+642)}\n",
    "= \\frac{1}{B(1612,1374)} \\theta^{1611}(1-\\theta)^{1373}\n",
    "= f_{Beta}(\\theta;1612,1374)\\ .$$"
   ]
  },
  {
   "cell_type": "code",
   "execution_count": 22,
   "metadata": {
    "collapsed": false
   },
   "outputs": [
    {
     "data": {
      "image/png": "[encoded data removed]",
      "text/plain": [
       "<matplotlib.figure.Figure at 0xcf8b780>"
      ]
     },
     "metadata": {},
     "output_type": "display_data"
    }
   ],
   "source": [
    "fig, ax = plt.subplots(1, 1)\n",
    "a = 1612\n",
    "b = 1374\n",
    "mean, var, skew, kurt = beta.stats(a, b, moments='mvsk')\n",
    "x = np.linspace(0, 1, 100)\n",
    "ax.plot(x, beta.cdf(x, a, b),'r-', lw=2,alpha=0.6, label='beta pdf')\n",
    "plt.axvline(.54)\n",
    "plt.axvline(.52)\n",
    "plt.axvline(.56)\n",
    "plt.xlim(.5,.58)\n",
    "plt.xlabel(\"Event: not more than x% voting for Bush\")\n",
    "plt.ylabel(\"Probability that event occurs\")\n",
    "plt.title(\"Cumulative probability that not more than x% of voters will choose Bush\")\n",
    "plt.show()"
   ]
  },
  {
   "cell_type": "markdown",
   "metadata": {},
   "source": [
    "### Delaware\n",
    "Prior probability = 0,37\n",
    "\n",
    "Likelihood = 0.56\n",
    "\n",
    "Sample size = 39"
   ]
  },
  {
   "cell_type": "markdown",
   "metadata": {},
   "source": [
    "In the election results 39 persons participated, i.e.  n=39. Our likelihood function given by a binomial distribution is based on the election results, where 56% voted for Bush, i.e. k=22 persons, and 44% against Bush, i.e.  n−k=17 persons. The prior is given by a Beta distribution based on the previous poll with 37% pro Bush. That corresponds to  α=14 persons pro and  β=25  against Bush."
   ]
  },
  {
   "cell_type": "markdown",
   "metadata": {},
   "source": [
    "Posterior probability distribution\n",
    "$$\\pi(\\theta| k=22)= \\frac{\\theta^{22+14-1}(1-\\theta)^{17+25-1}}{B(22+14,17+25)}\n",
    "= \\frac{1}{B(36,36)} \\theta^{35}(1-\\theta)^{35}\n",
    "= f_{Beta}(\\theta;36,36)\\ .$$\n"
   ]
  },
  {
   "cell_type": "code",
   "execution_count": 27,
   "metadata": {
    "collapsed": false
   },
   "outputs": [
    {
     "data": {
      "image/png": "[encoded data removed]",
      "text/plain": [
       "<matplotlib.figure.Figure at 0xdb55a90>"
      ]
     },
     "metadata": {},
     "output_type": "display_data"
    }
   ],
   "source": [
    "fig, ax = plt.subplots(1, 1)\n",
    "a = 36\n",
    "b = 36\n",
    "mean, var, skew, kurt = beta.stats(a, b, moments='mvsk')\n",
    "x = np.linspace(0, 1, 100)\n",
    "ax.plot(x, beta.cdf(x, a, b),'r-', lw=2,alpha=0.6, label='beta pdf')\n",
    "plt.axvline(.5)\n",
    "plt.axvline(.35)\n",
    "plt.axvline(.65)\n",
    "plt.xlim(.3,.7)\n",
    "plt.xlabel(\"Event: not more than x% voting for Bush\")\n",
    "plt.ylabel(\"Probability that event occurs\")\n",
    "plt.title(\"Cumulative probability that not more than x% of voters will choose Bush\")\n",
    "plt.show()"
   ]
  },
  {
   "cell_type": "code",
   "execution_count": null,
   "metadata": {
    "collapsed": true
   },
   "outputs": [],
   "source": []
  }
 ],
 "metadata": {
  "anaconda-cloud": {},
  "kernelspec": {
   "display_name": "Python [Root]",
   "language": "python",
   "name": "Python [Root]"
  },
  "language_info": {
   "codemirror_mode": {
    "name": "ipython",
    "version": 2
   },
   "file_extension": ".py",
   "mimetype": "text/x-python",
   "name": "python",
   "nbconvert_exporter": "python",
   "pygments_lexer": "ipython2",
   "version": "2.7.12"
  }
 },
 "nbformat": 4,
 "nbformat_minor": 1
}
