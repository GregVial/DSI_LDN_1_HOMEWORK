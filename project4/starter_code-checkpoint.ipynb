{
 "cells": [
  {
   "cell_type": "markdown",
   "metadata": {
    "collapsed": false
   },
   "source": [
    "### Project aim\n",
    "How much is worth a data scientist?\n",
    "\n",
    "There is no one who can tell you better... than a data scientist! That is probably what makes it the \"sexiest job of the XXIst century\" :)\n",
    "\n",
    "In this project we explore the data science job market in the US. The idea is to scrap the website <a href=\"indeed.com\">indeed.com</a> that contains US job ads, store the data locally and explore it to identify if there are caracteristics that impact salaries.\n",
    "\n",
    "Our initial goal will be to predict whether salaries are high or low using logistic regression. We will consider as high salaries higher than the median value (to be dertmined as part of the project), and low salaries below te median. \n",
    "\n",
    "Based on the requirement of our employer, we prefer to predict low rather than high.\n",
    "\n",
    "### Success criteria\n",
    "Since we will be basing our study on a relatively low number of predictors, our goal will simply be to have a better accuracy than random guessing, i.e. have an accuracy greater than 50%, with 50% being the baseline for random guessing.\n",
    "\n",
    "\n",
    "### Approach\n",
    "A quick look at the web site shows that many adds to no display the salaries. However indeed.com allows you to sort by salaries threshold, i.e. select all jobs with a salary higher than a value you defined.\n",
    "\n",
    "In order to collect as much data as possible, and to avoid duplication, I have chosen to define 6 salaries categories:\n",
    "* A: Above 200,000 yearly\n",
    "* B: Between 150,000 and 200,000\n",
    "* C: Between 100,000 and 150,000\n",
    "* D: Between 75,000 and 100,000\n",
    "* E: Between 50,000 and 75,000\n",
    "* F: Below 50,000\n",
    "\n",
    "Since the web site only rarely returns precise salary information, and tends to return them more often for high salaries, I have decided to filter my requests by category, starting with the best paid category, store the results in a table.\n",
    "Then run the query on the next best paid but ensure all duplicates are removed etc. Duplicates are managed thanks to a dictionary of job unique IDs. If a job has already been scrapped, it will be ignored.\n",
    "\n",
    "Therefore, in the data collected below, on top of salary information, I am collecting category for each add. This gives us precious additional information that can be used to further improve our model."
   ]
  },
  {
   "cell_type": "code",
   "execution_count": 1,
   "metadata": {
    "collapsed": true
   },
   "outputs": [],
   "source": [
    "# Initialise environment\n",
    "from bs4 import BeautifulSoup\n",
    "import re\n",
    "import urllib\n",
    "import pandas as pd\n",
    "import numpy as np\n",
    "import re\n",
    "from __future__ import division\n",
    "from __future__ import print_function"
   ]
  },
  {
   "cell_type": "code",
   "execution_count": 2,
   "metadata": {
    "collapsed": true
   },
   "outputs": [],
   "source": [
    "# Define salary ranges (for the second part of the assignment)\n",
    "salaries = {\"A\":\"200000\",\n",
    "           \"B\": \"150000\",\n",
    "           \"C\": \"100000\",\n",
    "           \"D\": \"75000\",\n",
    "           \"E\": \"50000\",\n",
    "           \"F\": \"0\"}"
   ]
  },
  {
   "cell_type": "code",
   "execution_count": 3,
   "metadata": {
    "collapsed": false
   },
   "outputs": [
    {
     "name": "stdout",
     "output_type": "stream",
     "text": [
      "http://www.indeed.com/jobs?q=data+scientist+%24200000&l=New+York&start=00\n"
     ]
    }
   ],
   "source": [
    "# Generate URLs\n",
    "def city_url_convert(city):\n",
    "    return(re.sub(r'\\s',r'+',city))\n",
    "\n",
    "def city_range_convert(range):\n",
    "    return(salaries[range])\n",
    "\n",
    "def url_generate(range,city,page=0):\n",
    "    url_base = \"http://www.indeed.com/jobs?q=data+scientist+\"\n",
    "    url_range = \"%24\" + city_range_convert(range)\n",
    "    url_city = \"&l=\" + city_url_convert(city)\n",
    "    url_page = \"&start=\" + str(page) + \"0\"\n",
    "    url_filter = \"\" #&filter=0\"\n",
    "    return (url_base+url_range+url_city+url_page+url_filter)\n",
    "\n",
    "# Test data\n",
    "url = url_generate('A','New York',0)\n",
    "print(url)"
   ]
  },
  {
   "cell_type": "code",
   "execution_count": 4,
   "metadata": {
    "collapsed": false
   },
   "outputs": [],
   "source": [
    "# Extract useful information from salaries ranges\n",
    "\n",
    "working_hours = (365 - (52*2 + 4*5)) * 8 # Estimated number of working days per year\n",
    "working_days = 365 - (52*2 + 4*5) # Estimated number of working days per year\n",
    "working_months = 11\n",
    "\n",
    "# Convert yearly range into average\n",
    "def extract_average_salary_year(sal):\n",
    "    temp = re.findall(r'([0-9]+[,]*[0-9]*)[^0-9]*',sal)\n",
    "    #print(temp)\n",
    "    low = re.sub(r'[,]',r'',temp[0])\n",
    "    #print(\"low %s\" % low)\n",
    "    low = int(low)\n",
    "    if len(temp) == 1:\n",
    "        return(low)\n",
    "    else:\n",
    "        high = re.sub(r'[,]',r'',temp[1])\n",
    "        #print(\"high %s\" % high)\n",
    "        high = int(high)\n",
    "        avg = (low+high)/2\n",
    "    return(avg)\n",
    "\n",
    "# Convert hourly range into yearly average\n",
    "def extract_average_salary_hour(sal):\n",
    "    temp = re.findall(r'([0-9]+[.]*[0-9]*)[^0-9]*',sal)\n",
    "    #print(temp)\n",
    "    low = float(temp[0])\n",
    "    if len(temp) == 1:\n",
    "        return(low* working_hours)\n",
    "    else:\n",
    "        high = float(temp[1])\n",
    "       \n",
    "        avg = (low+high)/2 * working_hours\n",
    "    return(avg)\n",
    "\n",
    "# Convert daily range into yearly average\n",
    "def extract_average_salary_day(sal):\n",
    "    temp = re.findall(r'([0-9]+[,]*[0-9]*)[^0-9]*',sal)\n",
    "    #print(temp)\n",
    "    low = re.sub(r'[,]',r'',temp[0])\n",
    "    #print(\"low %s\" % low)\n",
    "    low = int(low)\n",
    "    if len(temp) == 1:\n",
    "        return(low * working_days)\n",
    "    else:\n",
    "        high = re.sub(r'[,]',r'',temp[1])\n",
    "        #print(\"high %s\" % high)\n",
    "        high = int(high)\n",
    "        avg = (low+high)/2\n",
    "    return(avg*working_days)\n",
    "\n",
    "# Convert monthly range into yearly average\n",
    "def extract_average_salary_month(sal):\n",
    "    temp = re.findall(r'([0-9]+[,]*[0-9]*)[^0-9]*',sal)\n",
    "    #print(temp)\n",
    "    low = re.sub(r'[,]',r'',temp[0])\n",
    "    #print(\"low %s\" % low)\n",
    "    low = int(low)\n",
    "    if len(temp) == 1:\n",
    "        return(low * working_months)\n",
    "    else:\n",
    "        high = re.sub(r'[,]',r'',temp[1])\n",
    "        #print(\"high %s\" % high)\n",
    "        high = int(high)\n",
    "        avg = (low+high)/2\n",
    "    return(avg*working_months)\n",
    "\n",
    "#print(extract_average_salary_year(\"$200,000 a year\"))\n",
    "#print(extract_average_salary_year(\"$150,000- $250,000 a year\"))\n",
    "#print(extract_average_salary_year(\"180,000− 230,000 a year\"))\n",
    "#print(extract_average_salary_hour(\"$85 an hour\"))\n",
    "#print(extract_average_salary_day(\"$700 a day\"))\n",
    "#print(extract_average_salary_month(\"$10,000 - 12,000 a month\"))"
   ]
  },
  {
   "cell_type": "code",
   "execution_count": 5,
   "metadata": {
    "collapsed": false
   },
   "outputs": [],
   "source": [
    "# The location is set in a span with class='location'.\n",
    "def extract_location_from_result(result):\n",
    "    loc = result.find(\"span\", class_=\"location\").text\n",
    "    #print(\"extract_location_from_result:\", loc)\n",
    "    return loc\n",
    "\n",
    "# The salary is available in a nobr element inside of a td element with class='snip.\n",
    "def extract_salary_from_result(result):\n",
    "    try:\n",
    "        sal = result.nobr.text\n",
    "        if 'year' in sal:\n",
    "            sal = extract_average_salary_year(sal)\n",
    "        elif 'hour' in sal:\n",
    "            sal = extract_average_salary_hour(sal)\n",
    "        elif 'month' in sal:\n",
    "            sal = extract_average_salary_month(sal)\n",
    "        elif 'day' in sal:\n",
    "            sal = extract_average_salary_day(sal)\n",
    "        else:\n",
    "            print(\"Exception: %s\" % sal)\n",
    "            sal = np.NaN\n",
    "    except:\n",
    "        sal = np.NaN\n",
    "    #print(\"extract_salary_from_result:\", sal)\n",
    "    return sal\n",
    "\n",
    "# The title of a job is in a link with class set to jobtitle and a data-tn-element=\"jobTitle.\n",
    "def extract_job_title_from_result(result):\n",
    "    job = result.h2.a.get(\"title\")\n",
    "    #print(\"extract_job_title_from_result:\", job)\n",
    "    return job\n",
    "\n",
    "# The company is set in a span with class='company'.\n",
    "def extract_company_from_result(result):\n",
    "    comp = result.find(\"span\", class_=\"company\").contents[1].text.strip()\n",
    "    #print(\"extract_company_from_result:\", comp)\n",
    "    return comp\n",
    "\n",
    "# The unique id is set in an h2 in element 'id'.\n",
    "def extract_uid_from_result(result):\n",
    "    id = result.h2.get(\"id\")\n",
    "    return id\n",
    "\n",
    "def process_results(results):\n",
    "    processed = []\n",
    "    for res in results[:]:\n",
    "        loc = extract_location_from_result(res)\n",
    "        job = extract_job_title_from_result(res)\n",
    "        comp = extract_company_from_result(res)\n",
    "        sal = extract_salary_from_result(res)\n",
    "        uid = extract_uid_from_result(res)\n",
    "        processed.append([loc, job, comp, sal,uid])\n",
    "    return processed\n",
    "    \n",
    "def get_results_from_soup(soup):\n",
    "    return soup.findAll(\"div\", class_=\" row result\")"
   ]
  },
  {
   "cell_type": "code",
   "execution_count": 6,
   "metadata": {
    "collapsed": true
   },
   "outputs": [],
   "source": [
    "# Compute the number of pages to scrap for a given location/salary range\n",
    "def get_number_pages_from_url(url):\n",
    "    #print(url)\n",
    "    r = urllib.urlopen(url).read()\n",
    "    soup = BeautifulSoup(r)\n",
    "    try:\n",
    "        pages = soup.find(\"div\",attrs={\"id\":\"searchCount\"}).contents[0]\n",
    "        nb_results = re.sub(r'Jobs [0-9]+ to [0-9]+ of ([0-9]+)',r'\\1',pages)\n",
    "        nb_results = int(re.sub(r',',r'',nb_results))\n",
    "        nb_pages = 1+ nb_results // 10\n",
    "    except:\n",
    "        nb_pages=0\n",
    "    return(nb_pages)"
   ]
  },
  {
   "cell_type": "code",
   "execution_count": 7,
   "metadata": {
    "collapsed": false
   },
   "outputs": [
    {
     "name": "stderr",
     "output_type": "stream",
     "text": [
      "C:\\Anaconda2\\lib\\site-packages\\bs4\\__init__.py:166: UserWarning: No parser was explicitly specified, so I'm using the best available HTML parser for this system (\"lxml\"). This usually isn't a problem, but if you run this code on another system, or in a different virtual environment, it may use a different parser and behave differently.\n",
      "\n",
      "To get rid of this warning, change this:\n",
      "\n",
      " BeautifulSoup([your markup])\n",
      "\n",
      "to this:\n",
      "\n",
      " BeautifulSoup([your markup], \"lxml\")\n",
      "\n",
      "  markup_type=markup_type))\n"
     ]
    },
    {
     "name": "stdout",
     "output_type": "stream",
     "text": [
      "Number of pages to be read for location CA and range A: 1\n",
      "http://www.indeed.com/jobs?q=data+scientist+%24200000&l=CA&start=00\n"
     ]
    },
    {
     "data": {
      "text/html": [
       "<div>\n",
       "<table border=\"1\" class=\"dataframe\">\n",
       "  <thead>\n",
       "    <tr style=\"text-align: right;\">\n",
       "      <th></th>\n",
       "      <th>location</th>\n",
       "      <th>job</th>\n",
       "      <th>comp</th>\n",
       "      <th>salary</th>\n",
       "      <th>uid</th>\n",
       "    </tr>\n",
       "  </thead>\n",
       "  <tbody>\n",
       "    <tr>\n",
       "      <th>0</th>\n",
       "      <td>Santa Clara, CA</td>\n",
       "      <td>Telco Data Scientist</td>\n",
       "      <td>K&amp;M Systems, Inc.</td>\n",
       "      <td>214490.0</td>\n",
       "      <td>jl_c32c46c96985c0c1</td>\n",
       "    </tr>\n",
       "    <tr>\n",
       "      <th>1</th>\n",
       "      <td>Santa Clara, CA</td>\n",
       "      <td>Senior Machine Learning Scientist</td>\n",
       "      <td>Tandem Recruiting Group</td>\n",
       "      <td>200000.0</td>\n",
       "      <td>jl_4583a12ce4062b18</td>\n",
       "    </tr>\n",
       "    <tr>\n",
       "      <th>2</th>\n",
       "      <td>Palo Alto, CA</td>\n",
       "      <td>VP of Data Science</td>\n",
       "      <td>Harnham</td>\n",
       "      <td>200000.0</td>\n",
       "      <td>jl_10ae1c8311d9042a</td>\n",
       "    </tr>\n",
       "    <tr>\n",
       "      <th>3</th>\n",
       "      <td>San Jose, CA 95113 (Downtown area)</td>\n",
       "      <td>Senior Data Scientist</td>\n",
       "      <td>Workbridge Associates</td>\n",
       "      <td>200000.0</td>\n",
       "      <td>jl_16cc975f13da290a</td>\n",
       "    </tr>\n",
       "    <tr>\n",
       "      <th>4</th>\n",
       "      <td>San Francisco, CA</td>\n",
       "      <td>Executive Director of Data Engineering</td>\n",
       "      <td>Averity</td>\n",
       "      <td>205000.0</td>\n",
       "      <td>jl_f4efe427cad19396</td>\n",
       "    </tr>\n",
       "    <tr>\n",
       "      <th>5</th>\n",
       "      <td>San Jose, CA 95113 (Downtown area)</td>\n",
       "      <td>Head of Data Science</td>\n",
       "      <td>Jobspring Partners</td>\n",
       "      <td>205000.0</td>\n",
       "      <td>jl_02907b4e715c4b94</td>\n",
       "    </tr>\n",
       "  </tbody>\n",
       "</table>\n",
       "</div>"
      ],
      "text/plain": [
       "                             location                                     job  \\\n",
       "0                     Santa Clara, CA                    Telco Data Scientist   \n",
       "1                     Santa Clara, CA       Senior Machine Learning Scientist   \n",
       "2                       Palo Alto, CA                      VP of Data Science   \n",
       "3  San Jose, CA 95113 (Downtown area)                   Senior Data Scientist   \n",
       "4                   San Francisco, CA  Executive Director of Data Engineering   \n",
       "5  San Jose, CA 95113 (Downtown area)                    Head of Data Science   \n",
       "\n",
       "                      comp    salary                  uid  \n",
       "0        K&M Systems, Inc.  214490.0  jl_c32c46c96985c0c1  \n",
       "1  Tandem Recruiting Group  200000.0  jl_4583a12ce4062b18  \n",
       "2                  Harnham  200000.0  jl_10ae1c8311d9042a  \n",
       "3    Workbridge Associates  200000.0  jl_16cc975f13da290a  \n",
       "4                  Averity  205000.0  jl_f4efe427cad19396  \n",
       "5       Jobspring Partners  205000.0  jl_02907b4e715c4b94  "
      ]
     },
     "execution_count": 7,
     "metadata": {},
     "output_type": "execute_result"
    }
   ],
   "source": [
    "# Scrap the website for a given location and salary range\n",
    "def screen_ranges(state,range_='A',maximum=5):\n",
    "    dict_uid = {}\n",
    "    url = url_generate(range_,state)\n",
    "    max = get_number_pages_from_url(url)\n",
    "    if max > maximum:\n",
    "        max = maximum\n",
    "    print(\"Number of pages to be read for location %s and range %s: %d\" % (state,range_,max))\n",
    "    main_df = pd.DataFrame(columns=[\"location\", \"job\", \"comp\", \"salary\",\"uid\"])\n",
    "    for i in range(max):\n",
    "        url = url_generate(range_,state,i)\n",
    "        print(url)\n",
    "        try:\n",
    "            r = urllib.urlopen(url).read()\n",
    "            soup = BeautifulSoup(r)\n",
    "            df = pd.DataFrame(process_results(get_results_from_soup(soup)),\n",
    "                  columns=[\"location\", \"job\", \"comp\", \"salary\",\"uid\"])\n",
    "            temp_df = pd.DataFrame(columns=[\"location\", \"job\", \"comp\", \"salary\",\"uid\"])\n",
    "            # Ensure we remove duplicates by storing/cheking uid in a dictionary\n",
    "            for i in range(len(df)):\n",
    "                #print(i,df['id'][i])\n",
    "                current_uid = df['uid'][i]\n",
    "                #print(current_uid)\n",
    "                if current_uid in dict_uid.keys():\n",
    "                    dict_uid[current_uid] += 1\n",
    "                    #pass\n",
    "                    #print(df['id'][i],\" is in df\")\n",
    "                else:\n",
    "                    dict_uid[current_uid] = 1\n",
    "                    temp_df = pd.concat([temp_df,pd.DataFrame(df.loc[i:i])])\n",
    "                    #print(df.ix[i]['id'],\"is not in df\")\n",
    "        except:\n",
    "            print(\"Could not open URL %s\" % url)\n",
    "            temp_df = pd.DataFrame(columns=[\"location\", \"job\", \"comp\", \"salary\",\"uid\"])\n",
    "        main_df = pd.concat([main_df,temp_df])\n",
    "    main_df.reset_index(drop=True,inplace=True)\n",
    "    return(main_df)\n",
    "\n",
    "# Test function\n",
    "screen_ranges('CA',range_='A')"
   ]
  },
  {
   "cell_type": "code",
   "execution_count": 8,
   "metadata": {
    "collapsed": false,
    "scrolled": true
   },
   "outputs": [
    {
     "name": "stdout",
     "output_type": "stream",
     "text": [
      "Number of pages to be read for location New York and range A: 1\n",
      "http://www.indeed.com/jobs?q=data+scientist+%24200000&l=New+York&start=00\n",
      "Number of pages to be read for location New York and range B: 1\n",
      "http://www.indeed.com/jobs?q=data+scientist+%24150000&l=New+York&start=00\n",
      "Number of pages to be read for location New York and range C: 1\n",
      "http://www.indeed.com/jobs?q=data+scientist+%24100000&l=New+York&start=00\n",
      "Number of pages to be read for location New York and range D: 1\n",
      "http://www.indeed.com/jobs?q=data+scientist+%2475000&l=New+York&start=00\n",
      "Number of pages to be read for location New York and range E: 1\n",
      "http://www.indeed.com/jobs?q=data+scientist+%2450000&l=New+York&start=00\n",
      "Number of pages to be read for location New York and range F: 1\n",
      "http://www.indeed.com/jobs?q=data+scientist+%240&l=New+York&start=00\n"
     ]
    }
   ],
   "source": [
    "# Scrap the website for a given location and all salary ranges\n",
    "def screen_state(state,maximum=5):\n",
    "    dict_uid = {}\n",
    "    main_df = pd.DataFrame(columns=[\"location\", \"job\", \"comp\", \"salary\",\"uid\",\"range\",\"req_location\"])\n",
    "    for salary in ['A','B','C','D','E','F']: #salaries.keys():\n",
    "        df = screen_ranges(state,salary,maximum)\n",
    "        if df.shape[0] != 0:\n",
    "            temp_df = pd.DataFrame(columns=[\"location\", \"job\", \"comp\", \"salary\",\"uid\",\"range\",\"req_location\"])\n",
    "            # Ensure we remove duplicates by storing/cheking uid in a dictionary\n",
    "            for i in range(len(df)):\n",
    "                current_uid = df['uid'][i]\n",
    "                #print(current_uid)\n",
    "                if current_uid in dict_uid.keys():\n",
    "                    dict_uid[current_uid] += 1\n",
    "                    #print(current_uid,\" is in df\")\n",
    "                else:\n",
    "                    dict_uid[current_uid] = 1\n",
    "                    temp_df = pd.concat([temp_df,pd.DataFrame(df.loc[i:i])])\n",
    "                    #print(current_uid,\"is not in df\")\n",
    "            temp_df[\"range\"] = [salary for _ in range(temp_df.shape[0])]    \n",
    "            main_df = pd.concat([main_df,temp_df])\n",
    "    main_df[\"req_location\"] = [re.sub(r'[\\+-, ]',r'',state) for _ in range(main_df.shape[0])]\n",
    "    main_df.reset_index(drop=True,inplace=True)\n",
    "    return(main_df)\n",
    "\n",
    "# Test function\n",
    "df = screen_state(\"New York\",maximum = 1)"
   ]
  },
  {
   "cell_type": "code",
   "execution_count": 9,
   "metadata": {
    "collapsed": false
   },
   "outputs": [
    {
     "data": {
      "text/html": [
       "<div>\n",
       "<table border=\"1\" class=\"dataframe\">\n",
       "  <thead>\n",
       "    <tr style=\"text-align: right;\">\n",
       "      <th></th>\n",
       "      <th>comp</th>\n",
       "      <th>job</th>\n",
       "      <th>location</th>\n",
       "      <th>range</th>\n",
       "      <th>req_location</th>\n",
       "      <th>salary</th>\n",
       "      <th>uid</th>\n",
       "    </tr>\n",
       "  </thead>\n",
       "  <tbody>\n",
       "    <tr>\n",
       "      <th>0</th>\n",
       "      <td>IDS,Harvard i-Lab Partner!</td>\n",
       "      <td>Deep Learning Tensorflow</td>\n",
       "      <td>New York, NY 10001 (Chelsea area)</td>\n",
       "      <td>A</td>\n",
       "      <td>NewYork</td>\n",
       "      <td>241000.0</td>\n",
       "      <td>jl_91b2ef87892ca855</td>\n",
       "    </tr>\n",
       "    <tr>\n",
       "      <th>1</th>\n",
       "      <td>Averity</td>\n",
       "      <td>Senior Systematic Quantitative Analyst - Multi...</td>\n",
       "      <td>New York, NY</td>\n",
       "      <td>A</td>\n",
       "      <td>NewYork</td>\n",
       "      <td>200000.0</td>\n",
       "      <td>jl_49a0c20b39a6cd18</td>\n",
       "    </tr>\n",
       "    <tr>\n",
       "      <th>2</th>\n",
       "      <td>Harnham</td>\n",
       "      <td>Chief Data Scientist - Consulting</td>\n",
       "      <td>New York, NY</td>\n",
       "      <td>A</td>\n",
       "      <td>NewYork</td>\n",
       "      <td>220000.0</td>\n",
       "      <td>jl_01f61bd4db15bf2e</td>\n",
       "    </tr>\n",
       "    <tr>\n",
       "      <th>3</th>\n",
       "      <td>The Hagan-Ricci Group, Inc.</td>\n",
       "      <td>Data Scientist / Python Developer</td>\n",
       "      <td>New York, NY</td>\n",
       "      <td>A</td>\n",
       "      <td>NewYork</td>\n",
       "      <td>250000.0</td>\n",
       "      <td>jl_1fb426c9c0ce2437</td>\n",
       "    </tr>\n",
       "    <tr>\n",
       "      <th>4</th>\n",
       "      <td>Datacom Technology Group</td>\n",
       "      <td>Quantitative Analyst (Fundamental Quant Equiti...</td>\n",
       "      <td>New York, NY 10022 (Midtown area)</td>\n",
       "      <td>A</td>\n",
       "      <td>NewYork</td>\n",
       "      <td>200000.0</td>\n",
       "      <td>jl_1399b83140ea54f7</td>\n",
       "    </tr>\n",
       "  </tbody>\n",
       "</table>\n",
       "</div>"
      ],
      "text/plain": [
       "                          comp  \\\n",
       "0   IDS,Harvard i-Lab Partner!   \n",
       "1                      Averity   \n",
       "2                      Harnham   \n",
       "3  The Hagan-Ricci Group, Inc.   \n",
       "4     Datacom Technology Group   \n",
       "\n",
       "                                                 job  \\\n",
       "0                           Deep Learning Tensorflow   \n",
       "1  Senior Systematic Quantitative Analyst - Multi...   \n",
       "2                  Chief Data Scientist - Consulting   \n",
       "3                  Data Scientist / Python Developer   \n",
       "4  Quantitative Analyst (Fundamental Quant Equiti...   \n",
       "\n",
       "                            location range req_location    salary  \\\n",
       "0  New York, NY 10001 (Chelsea area)     A      NewYork  241000.0   \n",
       "1                       New York, NY     A      NewYork  200000.0   \n",
       "2                       New York, NY     A      NewYork  220000.0   \n",
       "3                       New York, NY     A      NewYork  250000.0   \n",
       "4  New York, NY 10022 (Midtown area)     A      NewYork  200000.0   \n",
       "\n",
       "                   uid  \n",
       "0  jl_91b2ef87892ca855  \n",
       "1  jl_49a0c20b39a6cd18  \n",
       "2  jl_01f61bd4db15bf2e  \n",
       "3  jl_1fb426c9c0ce2437  \n",
       "4  jl_1399b83140ea54f7  "
      ]
     },
     "execution_count": 9,
     "metadata": {},
     "output_type": "execute_result"
    }
   ],
   "source": [
    "df.head()"
   ]
  },
  {
   "cell_type": "code",
   "execution_count": 10,
   "metadata": {
    "collapsed": false
   },
   "outputs": [],
   "source": [
    "# Calculate mean, median and 75th percentile salaries\n",
    "def salaries_mean(df):\n",
    "    mean = np.mean(df['salary'])\n",
    "    return(mean)\n",
    "\n",
    "def salaries_median(df):\n",
    "    median = np.median(df['salary'])\n",
    "    return median\n",
    "\n",
    "def salaries_75_percentile(df):\n",
    "    p75 = np.percentile(df['salary'],75)\n",
    "    return p75"
   ]
  },
  {
   "cell_type": "markdown",
   "metadata": {},
   "source": [
    "### Warning, the next steps takes approximately one hour to process\n",
    "You can skip it and move to the next step direclty if happy with data extracted on 9th November 2016"
   ]
  },
  {
   "cell_type": "code",
   "execution_count": 1,
   "metadata": {
    "collapsed": false
   },
   "outputs": [],
   "source": [
    "## Scrap the website \n",
    "## Warning, this steps \n",
    "us_cities_df = pd.DataFrame(columns=[\"location\", \"job\", \"comp\", \"salary\",\"uid\",\"range\"])\n",
    "for city in set(['New+York', 'Chicago', 'San+Francisco', 'Austin', 'Seattle', \n",
    "    'Los+Angeles', 'Philadelphia', 'Atlanta', 'Dallas', 'Pittsburgh', \n",
    "    'Portland', 'Phoenix', 'Denver', 'Houston', 'Miami']):\n",
    "    temp_df = screen_state(city,maximum = 150)\n",
    "    us_cities_df = pd.concat([us_cities_df,temp_df])\n",
    "    \n",
    "# Clean up and save the data\n",
    "us_cities_df.drop('uid',axis=1,inplace=True)\n",
    "us_cities_df.reset_index(drop=True,inplace=True)\n",
    "# Save result to file\n",
    "us_cities_df.to_csv(\"salary_data.csv\", encoding=\"utf-8\",index=False)"
   ]
  },
  {
   "cell_type": "markdown",
   "metadata": {
    "collapsed": false
   },
   "source": [
    "### Resume execution here"
   ]
  },
  {
   "cell_type": "code",
   "execution_count": 11,
   "metadata": {
    "collapsed": false
   },
   "outputs": [
    {
     "name": "stdout",
     "output_type": "stream",
     "text": [
      "<class 'pandas.core.frame.DataFrame'>\n",
      "RangeIndex: 5197 entries, 0 to 5196\n",
      "Data columns (total 6 columns):\n",
      "comp            5197 non-null object\n",
      "job             5197 non-null object\n",
      "location        5197 non-null object\n",
      "range           5197 non-null object\n",
      "req_location    5197 non-null object\n",
      "salary          339 non-null float64\n",
      "dtypes: float64(1), object(5)\n",
      "memory usage: 243.7+ KB\n"
     ]
    }
   ],
   "source": [
    "df = pd.read_csv('salary_data.csv')\n",
    "df.info()"
   ]
  },
  {
   "cell_type": "code",
   "execution_count": 12,
   "metadata": {
    "collapsed": false
   },
   "outputs": [
    {
     "data": {
      "text/html": [
       "<div>\n",
       "<table border=\"1\" class=\"dataframe\">\n",
       "  <thead>\n",
       "    <tr style=\"text-align: right;\">\n",
       "      <th></th>\n",
       "      <th>comp</th>\n",
       "      <th>job</th>\n",
       "      <th>location</th>\n",
       "      <th>range</th>\n",
       "      <th>req_location</th>\n",
       "      <th>salary</th>\n",
       "    </tr>\n",
       "  </thead>\n",
       "  <tbody>\n",
       "    <tr>\n",
       "      <th>0</th>\n",
       "      <td>SearchAccountingJobs</td>\n",
       "      <td>Quantitative Risk Analyst</td>\n",
       "      <td>Houston, TX</td>\n",
       "      <td>B</td>\n",
       "      <td>Houston</td>\n",
       "      <td>177500.0</td>\n",
       "    </tr>\n",
       "    <tr>\n",
       "      <th>1</th>\n",
       "      <td>Rekruiters</td>\n",
       "      <td>C++ Software Engineer</td>\n",
       "      <td>Houston, TX 77006 (Montrose area)</td>\n",
       "      <td>B</td>\n",
       "      <td>Houston</td>\n",
       "      <td>250000.0</td>\n",
       "    </tr>\n",
       "    <tr>\n",
       "      <th>16</th>\n",
       "      <td>Selby Jennings</td>\n",
       "      <td>Senior Predictive Modeling Actuary</td>\n",
       "      <td>Houston, TX</td>\n",
       "      <td>C</td>\n",
       "      <td>Houston</td>\n",
       "      <td>100000.0</td>\n",
       "    </tr>\n",
       "  </tbody>\n",
       "</table>\n",
       "</div>"
      ],
      "text/plain": [
       "                    comp                                 job  \\\n",
       "0   SearchAccountingJobs           Quantitative Risk Analyst   \n",
       "1             Rekruiters               C++ Software Engineer   \n",
       "16        Selby Jennings  Senior Predictive Modeling Actuary   \n",
       "\n",
       "                             location range req_location    salary  \n",
       "0                         Houston, TX     B      Houston  177500.0  \n",
       "1   Houston, TX 77006 (Montrose area)     B      Houston  250000.0  \n",
       "16                        Houston, TX     C      Houston  100000.0  "
      ]
     },
     "execution_count": 12,
     "metadata": {},
     "output_type": "execute_result"
    }
   ],
   "source": [
    "df.dropna(subset=['salary'],axis=0,inplace=True)\n",
    "df.head(3)"
   ]
  },
  {
   "cell_type": "code",
   "execution_count": 13,
   "metadata": {
    "collapsed": false
   },
   "outputs": [
    {
     "name": "stdout",
     "output_type": "stream",
     "text": [
      "75th percentile 140000.000000\n",
      "Median salary 100000.000000\n"
     ]
    },
    {
     "data": {
      "text/html": [
       "<div>\n",
       "<table border=\"1\" class=\"dataframe\">\n",
       "  <thead>\n",
       "    <tr style=\"text-align: right;\">\n",
       "      <th></th>\n",
       "      <th>comp</th>\n",
       "      <th>job</th>\n",
       "      <th>location</th>\n",
       "      <th>range</th>\n",
       "      <th>req_location</th>\n",
       "      <th>salary</th>\n",
       "      <th>High</th>\n",
       "    </tr>\n",
       "  </thead>\n",
       "  <tbody>\n",
       "    <tr>\n",
       "      <th>0</th>\n",
       "      <td>SearchAccountingJobs</td>\n",
       "      <td>Quantitative Risk Analyst</td>\n",
       "      <td>Houston, TX</td>\n",
       "      <td>B</td>\n",
       "      <td>Houston</td>\n",
       "      <td>177500.0</td>\n",
       "      <td>1</td>\n",
       "    </tr>\n",
       "    <tr>\n",
       "      <th>1</th>\n",
       "      <td>Rekruiters</td>\n",
       "      <td>C++ Software Engineer</td>\n",
       "      <td>Houston, TX 77006 (Montrose area)</td>\n",
       "      <td>B</td>\n",
       "      <td>Houston</td>\n",
       "      <td>250000.0</td>\n",
       "      <td>1</td>\n",
       "    </tr>\n",
       "    <tr>\n",
       "      <th>100</th>\n",
       "      <td>Career Evolutions</td>\n",
       "      <td>Data Services Engineer</td>\n",
       "      <td>Phoenix, AZ</td>\n",
       "      <td>B</td>\n",
       "      <td>Phoenix</td>\n",
       "      <td>150000.0</td>\n",
       "      <td>1</td>\n",
       "    </tr>\n",
       "  </tbody>\n",
       "</table>\n",
       "</div>"
      ],
      "text/plain": [
       "                     comp                        job  \\\n",
       "0    SearchAccountingJobs  Quantitative Risk Analyst   \n",
       "1              Rekruiters      C++ Software Engineer   \n",
       "100     Career Evolutions     Data Services Engineer   \n",
       "\n",
       "                              location range req_location    salary  High  \n",
       "0                          Houston, TX     B      Houston  177500.0     1  \n",
       "1    Houston, TX 77006 (Montrose area)     B      Houston  250000.0     1  \n",
       "100                        Phoenix, AZ     B      Phoenix  150000.0     1  "
      ]
     },
     "execution_count": 13,
     "metadata": {},
     "output_type": "execute_result"
    }
   ],
   "source": [
    "# Out of curiosity, check the 75th percentile\n",
    "p75 = salaries_75_percentile(df)\n",
    "print(\"75th percentile %f\" % p75)\n",
    "\n",
    "# Add a new column to flag high salaries based on median salary\n",
    "med = salaries_median(df)\n",
    "print(\"Median salary %f\" % med)\n",
    "df['High'] = [1 if sal > med else 0 for sal in df['salary']]\n",
    "df[df['High'] == 1].head(3)\n",
    "\n"
   ]
  },
  {
   "cell_type": "markdown",
   "metadata": {},
   "source": [
    "### What is the baseline accurary for this model?\n",
    "If we predict all jobs to be low salaries, since we defined high as the median value, we will have 50% of correct answers."
   ]
  },
  {
   "cell_type": "code",
   "execution_count": 14,
   "metadata": {
    "collapsed": false
   },
   "outputs": [],
   "source": [
    "# Create dummy variables for the requested location\n",
    "dummies = pd.get_dummies(df['req_location'])\n",
    "df = pd.concat([df,dummies],axis=1)"
   ]
  },
  {
   "cell_type": "code",
   "execution_count": 15,
   "metadata": {
    "collapsed": false
   },
   "outputs": [
    {
     "data": {
      "text/html": [
       "<div>\n",
       "<table border=\"1\" class=\"dataframe\">\n",
       "  <thead>\n",
       "    <tr style=\"text-align: right;\">\n",
       "      <th></th>\n",
       "      <th>comp</th>\n",
       "      <th>job</th>\n",
       "      <th>location</th>\n",
       "      <th>range</th>\n",
       "      <th>req_location</th>\n",
       "      <th>salary</th>\n",
       "      <th>High</th>\n",
       "      <th>Atlanta</th>\n",
       "      <th>Austin</th>\n",
       "      <th>Chicago</th>\n",
       "      <th>...</th>\n",
       "      <th>Houston</th>\n",
       "      <th>LosAngeles</th>\n",
       "      <th>Miami</th>\n",
       "      <th>NewYork</th>\n",
       "      <th>Philadelphia</th>\n",
       "      <th>Phoenix</th>\n",
       "      <th>Pittsburgh</th>\n",
       "      <th>Portland</th>\n",
       "      <th>SanFrancisco</th>\n",
       "      <th>Seattle</th>\n",
       "    </tr>\n",
       "  </thead>\n",
       "  <tbody>\n",
       "    <tr>\n",
       "      <th>0</th>\n",
       "      <td>SearchAccountingJobs</td>\n",
       "      <td>Quantitative Risk Analyst</td>\n",
       "      <td>Houston, TX</td>\n",
       "      <td>B</td>\n",
       "      <td>Houston</td>\n",
       "      <td>177500.0</td>\n",
       "      <td>1</td>\n",
       "      <td>0.0</td>\n",
       "      <td>0.0</td>\n",
       "      <td>0.0</td>\n",
       "      <td>...</td>\n",
       "      <td>1.0</td>\n",
       "      <td>0.0</td>\n",
       "      <td>0.0</td>\n",
       "      <td>0.0</td>\n",
       "      <td>0.0</td>\n",
       "      <td>0.0</td>\n",
       "      <td>0.0</td>\n",
       "      <td>0.0</td>\n",
       "      <td>0.0</td>\n",
       "      <td>0.0</td>\n",
       "    </tr>\n",
       "    <tr>\n",
       "      <th>1</th>\n",
       "      <td>Rekruiters</td>\n",
       "      <td>C++ Software Engineer</td>\n",
       "      <td>Houston, TX 77006 (Montrose area)</td>\n",
       "      <td>B</td>\n",
       "      <td>Houston</td>\n",
       "      <td>250000.0</td>\n",
       "      <td>1</td>\n",
       "      <td>0.0</td>\n",
       "      <td>0.0</td>\n",
       "      <td>0.0</td>\n",
       "      <td>...</td>\n",
       "      <td>1.0</td>\n",
       "      <td>0.0</td>\n",
       "      <td>0.0</td>\n",
       "      <td>0.0</td>\n",
       "      <td>0.0</td>\n",
       "      <td>0.0</td>\n",
       "      <td>0.0</td>\n",
       "      <td>0.0</td>\n",
       "      <td>0.0</td>\n",
       "      <td>0.0</td>\n",
       "    </tr>\n",
       "    <tr>\n",
       "      <th>100</th>\n",
       "      <td>Career Evolutions</td>\n",
       "      <td>Data Services Engineer</td>\n",
       "      <td>Phoenix, AZ</td>\n",
       "      <td>B</td>\n",
       "      <td>Phoenix</td>\n",
       "      <td>150000.0</td>\n",
       "      <td>1</td>\n",
       "      <td>0.0</td>\n",
       "      <td>0.0</td>\n",
       "      <td>0.0</td>\n",
       "      <td>...</td>\n",
       "      <td>0.0</td>\n",
       "      <td>0.0</td>\n",
       "      <td>0.0</td>\n",
       "      <td>0.0</td>\n",
       "      <td>0.0</td>\n",
       "      <td>1.0</td>\n",
       "      <td>0.0</td>\n",
       "      <td>0.0</td>\n",
       "      <td>0.0</td>\n",
       "      <td>0.0</td>\n",
       "    </tr>\n",
       "  </tbody>\n",
       "</table>\n",
       "<p>3 rows × 22 columns</p>\n",
       "</div>"
      ],
      "text/plain": [
       "                     comp                        job  \\\n",
       "0    SearchAccountingJobs  Quantitative Risk Analyst   \n",
       "1              Rekruiters      C++ Software Engineer   \n",
       "100     Career Evolutions     Data Services Engineer   \n",
       "\n",
       "                              location range req_location    salary  High  \\\n",
       "0                          Houston, TX     B      Houston  177500.0     1   \n",
       "1    Houston, TX 77006 (Montrose area)     B      Houston  250000.0     1   \n",
       "100                        Phoenix, AZ     B      Phoenix  150000.0     1   \n",
       "\n",
       "     Atlanta  Austin  Chicago   ...     Houston  LosAngeles  Miami  NewYork  \\\n",
       "0        0.0     0.0      0.0   ...         1.0         0.0    0.0      0.0   \n",
       "1        0.0     0.0      0.0   ...         1.0         0.0    0.0      0.0   \n",
       "100      0.0     0.0      0.0   ...         0.0         0.0    0.0      0.0   \n",
       "\n",
       "     Philadelphia  Phoenix  Pittsburgh  Portland  SanFrancisco  Seattle  \n",
       "0             0.0      0.0         0.0       0.0           0.0      0.0  \n",
       "1             0.0      0.0         0.0       0.0           0.0      0.0  \n",
       "100           0.0      1.0         0.0       0.0           0.0      0.0  \n",
       "\n",
       "[3 rows x 22 columns]"
      ]
     },
     "execution_count": 15,
     "metadata": {},
     "output_type": "execute_result"
    }
   ],
   "source": [
    "df[df[\"High\"]==1].head(3)"
   ]
  },
  {
   "cell_type": "markdown",
   "metadata": {},
   "source": [
    "### Build logistic regression model with statsmodel "
   ]
  },
  {
   "cell_type": "code",
   "execution_count": 16,
   "metadata": {
    "collapsed": false
   },
   "outputs": [
    {
     "data": {
      "text/plain": [
       "'High ~ NewYork + Chicago + SanFrancisco + Austin + Seattle + LosAngeles + Philadelphia + Atlanta + Dallas + Pittsburgh + Portland + Phoenix + Denver + Houston + Miami'"
      ]
     },
     "execution_count": 16,
     "metadata": {},
     "output_type": "execute_result"
    }
   ],
   "source": [
    "# Create the formula\n",
    "cities = ['New+York', 'Chicago', 'San+Francisco', 'Austin', 'Seattle', 'Los+Angeles', 'Philadelphia', 'Atlanta', 'Dallas', 'Pittsburgh', \n",
    "    'Portland', 'Phoenix', 'Denver', 'Houston', 'Miami']\n",
    "cities = [re.sub(r'[\\+-, ]',r'',cit) for cit in cities]\n",
    "form_right = \" + \".join(cities)\n",
    "form1 = \"High ~ \" + form_right\n",
    "form1"
   ]
  },
  {
   "cell_type": "code",
   "execution_count": 17,
   "metadata": {
    "collapsed": false
   },
   "outputs": [
    {
     "name": "stdout",
     "output_type": "stream",
     "text": [
      "Warning: Maximum number of iterations has been exceeded.\n",
      "         Current function value: 0.598168\n",
      "         Iterations: 10000\n"
     ]
    },
    {
     "name": "stderr",
     "output_type": "stream",
     "text": [
      "C:\\Anaconda2\\lib\\site-packages\\statsmodels\\base\\model.py:466: ConvergenceWarning: Maximum Likelihood optimization failed to converge. Check mle_retvals\n",
      "  \"Check mle_retvals\", ConvergenceWarning)\n"
     ]
    },
    {
     "data": {
      "text/html": [
       "<table class=\"simpletable\">\n",
       "<caption>Logit Regression Results</caption>\n",
       "<tr>\n",
       "  <th>Dep. Variable:</th>       <td>High</td>       <th>  No. Observations:  </th>  <td>   339</td>  \n",
       "</tr>\n",
       "<tr>\n",
       "  <th>Model:</th>               <td>Logit</td>      <th>  Df Residuals:      </th>  <td>   324</td>  \n",
       "</tr>\n",
       "<tr>\n",
       "  <th>Method:</th>               <td>MLE</td>       <th>  Df Model:          </th>  <td>    14</td>  \n",
       "</tr>\n",
       "<tr>\n",
       "  <th>Date:</th>          <td>Wed, 09 Nov 2016</td> <th>  Pseudo R-squ.:     </th>  <td>0.1351</td>  \n",
       "</tr>\n",
       "<tr>\n",
       "  <th>Time:</th>              <td>21:13:57</td>     <th>  Log-Likelihood:    </th> <td> -202.78</td> \n",
       "</tr>\n",
       "<tr>\n",
       "  <th>converged:</th>           <td>False</td>      <th>  LL-Null:           </th> <td> -234.44</td> \n",
       "</tr>\n",
       "<tr>\n",
       "  <th> </th>                      <td> </td>        <th>  LLR p-value:       </th> <td>3.032e-08</td>\n",
       "</tr>\n",
       "</table>\n",
       "<table class=\"simpletable\">\n",
       "<tr>\n",
       "        <td></td>          <th>coef</th>     <th>std err</th>      <th>z</th>      <th>P>|z|</th> <th>[95.0% Conf. Int.]</th> \n",
       "</tr>\n",
       "<tr>\n",
       "  <th>Intercept</th>    <td>   -7.2459</td> <td>      nan</td> <td>      nan</td> <td>   nan</td> <td>      nan       nan</td>\n",
       "</tr>\n",
       "<tr>\n",
       "  <th>NewYork</th>      <td>    7.5713</td> <td>      nan</td> <td>      nan</td> <td>   nan</td> <td>      nan       nan</td>\n",
       "</tr>\n",
       "<tr>\n",
       "  <th>Chicago</th>      <td>    7.5142</td> <td>      nan</td> <td>      nan</td> <td>   nan</td> <td>      nan       nan</td>\n",
       "</tr>\n",
       "<tr>\n",
       "  <th>SanFrancisco</th> <td>    8.6322</td> <td>      nan</td> <td>      nan</td> <td>   nan</td> <td>      nan       nan</td>\n",
       "</tr>\n",
       "<tr>\n",
       "  <th>Austin</th>       <td>    5.2310</td> <td>      nan</td> <td>      nan</td> <td>   nan</td> <td>      nan       nan</td>\n",
       "</tr>\n",
       "<tr>\n",
       "  <th>Seattle</th>      <td>    6.5528</td> <td>      nan</td> <td>      nan</td> <td>   nan</td> <td>      nan       nan</td>\n",
       "</tr>\n",
       "<tr>\n",
       "  <th>LosAngeles</th>   <td>    6.3521</td> <td>      nan</td> <td>      nan</td> <td>   nan</td> <td>      nan       nan</td>\n",
       "</tr>\n",
       "<tr>\n",
       "  <th>Philadelphia</th> <td>    7.5336</td> <td>      nan</td> <td>      nan</td> <td>   nan</td> <td>      nan       nan</td>\n",
       "</tr>\n",
       "<tr>\n",
       "  <th>Atlanta</th>      <td>    6.9275</td> <td>      nan</td> <td>      nan</td> <td>   nan</td> <td>      nan       nan</td>\n",
       "</tr>\n",
       "<tr>\n",
       "  <th>Dallas</th>       <td>    6.3986</td> <td>      nan</td> <td>      nan</td> <td>   nan</td> <td>      nan       nan</td>\n",
       "</tr>\n",
       "<tr>\n",
       "  <th>Pittsburgh</th>   <td>  -26.4388</td> <td> 1.42e+07</td> <td>-1.86e-06</td> <td> 1.000</td> <td>-2.78e+07  2.78e+07</td>\n",
       "</tr>\n",
       "<tr>\n",
       "  <th>Portland</th>     <td>  -68.1097</td> <td> 1.03e+16</td> <td> -6.6e-15</td> <td> 1.000</td> <td>-2.02e+16  2.02e+16</td>\n",
       "</tr>\n",
       "<tr>\n",
       "  <th>Phoenix</th>      <td>    6.2651</td> <td>      nan</td> <td>      nan</td> <td>   nan</td> <td>      nan       nan</td>\n",
       "</tr>\n",
       "<tr>\n",
       "  <th>Denver</th>       <td>    6.4350</td> <td>      nan</td> <td>      nan</td> <td>   nan</td> <td>      nan       nan</td>\n",
       "</tr>\n",
       "<tr>\n",
       "  <th>Houston</th>      <td>    6.8404</td> <td>      nan</td> <td>      nan</td> <td>   nan</td> <td>      nan       nan</td>\n",
       "</tr>\n",
       "<tr>\n",
       "  <th>Miami</th>        <td>    5.0487</td> <td>      nan</td> <td>      nan</td> <td>   nan</td> <td>      nan       nan</td>\n",
       "</tr>\n",
       "</table>"
      ],
      "text/plain": [
       "<class 'statsmodels.iolib.summary.Summary'>\n",
       "\"\"\"\n",
       "                           Logit Regression Results                           \n",
       "==============================================================================\n",
       "Dep. Variable:                   High   No. Observations:                  339\n",
       "Model:                          Logit   Df Residuals:                      324\n",
       "Method:                           MLE   Df Model:                           14\n",
       "Date:                Wed, 09 Nov 2016   Pseudo R-squ.:                  0.1351\n",
       "Time:                        21:13:57   Log-Likelihood:                -202.78\n",
       "converged:                      False   LL-Null:                       -234.44\n",
       "                                        LLR p-value:                 3.032e-08\n",
       "================================================================================\n",
       "                   coef    std err          z      P>|z|      [95.0% Conf. Int.]\n",
       "--------------------------------------------------------------------------------\n",
       "Intercept       -7.2459        nan        nan        nan           nan       nan\n",
       "NewYork          7.5713        nan        nan        nan           nan       nan\n",
       "Chicago          7.5142        nan        nan        nan           nan       nan\n",
       "SanFrancisco     8.6322        nan        nan        nan           nan       nan\n",
       "Austin           5.2310        nan        nan        nan           nan       nan\n",
       "Seattle          6.5528        nan        nan        nan           nan       nan\n",
       "LosAngeles       6.3521        nan        nan        nan           nan       nan\n",
       "Philadelphia     7.5336        nan        nan        nan           nan       nan\n",
       "Atlanta          6.9275        nan        nan        nan           nan       nan\n",
       "Dallas           6.3986        nan        nan        nan           nan       nan\n",
       "Pittsburgh     -26.4388   1.42e+07  -1.86e-06      1.000     -2.78e+07  2.78e+07\n",
       "Portland       -68.1097   1.03e+16   -6.6e-15      1.000     -2.02e+16  2.02e+16\n",
       "Phoenix          6.2651        nan        nan        nan           nan       nan\n",
       "Denver           6.4350        nan        nan        nan           nan       nan\n",
       "Houston          6.8404        nan        nan        nan           nan       nan\n",
       "Miami            5.0487        nan        nan        nan           nan       nan\n",
       "================================================================================\n",
       "\"\"\""
      ]
     },
     "execution_count": 17,
     "metadata": {},
     "output_type": "execute_result"
    }
   ],
   "source": [
    "# Build the model\n",
    "import statsmodels.formula.api as smf\n",
    "model = smf.logit(formula=form1,data = df)\n",
    "fit = model.fit(maxiter=10000)\n",
    "fit.summary() "
   ]
  },
  {
   "cell_type": "markdown",
   "metadata": {},
   "source": [
    "Here we fail to obtain a meaningful result, we don't seem to have good enough predictors, unless it is an issue with the model."
   ]
  },
  {
   "cell_type": "markdown",
   "metadata": {},
   "source": [
    "Let's add an additional parameter, based on seniority of the job"
   ]
  },
  {
   "cell_type": "code",
   "execution_count": 18,
   "metadata": {
    "collapsed": false
   },
   "outputs": [],
   "source": [
    "bigBoss = [\"Chief\",\"Director\",\"Executive\",\"Senior\",\"Sr\",\"Sr.\",\"Lead\"]\n",
    "df['isBigBoss'] = [1 if any(x in title for x in bigBoss)else 0 for title in df['job']]"
   ]
  },
  {
   "cell_type": "code",
   "execution_count": 19,
   "metadata": {
    "collapsed": false
   },
   "outputs": [
    {
     "name": "stdout",
     "output_type": "stream",
     "text": [
      "Warning: Maximum number of iterations has been exceeded.\n",
      "         Current function value: 0.554188\n",
      "         Iterations: 10000\n"
     ]
    },
    {
     "name": "stderr",
     "output_type": "stream",
     "text": [
      "C:\\Anaconda2\\lib\\site-packages\\statsmodels\\base\\model.py:466: ConvergenceWarning: Maximum Likelihood optimization failed to converge. Check mle_retvals\n",
      "  \"Check mle_retvals\", ConvergenceWarning)\n"
     ]
    },
    {
     "data": {
      "text/html": [
       "<table class=\"simpletable\">\n",
       "<caption>Logit Regression Results</caption>\n",
       "<tr>\n",
       "  <th>Dep. Variable:</th>       <td>High</td>       <th>  No. Observations:  </th>  <td>   339</td>  \n",
       "</tr>\n",
       "<tr>\n",
       "  <th>Model:</th>               <td>Logit</td>      <th>  Df Residuals:      </th>  <td>   323</td>  \n",
       "</tr>\n",
       "<tr>\n",
       "  <th>Method:</th>               <td>MLE</td>       <th>  Df Model:          </th>  <td>    15</td>  \n",
       "</tr>\n",
       "<tr>\n",
       "  <th>Date:</th>          <td>Wed, 09 Nov 2016</td> <th>  Pseudo R-squ.:     </th>  <td>0.1987</td>  \n",
       "</tr>\n",
       "<tr>\n",
       "  <th>Time:</th>              <td>21:13:59</td>     <th>  Log-Likelihood:    </th> <td> -187.87</td> \n",
       "</tr>\n",
       "<tr>\n",
       "  <th>converged:</th>           <td>False</td>      <th>  LL-Null:           </th> <td> -234.44</td> \n",
       "</tr>\n",
       "<tr>\n",
       "  <th> </th>                      <td> </td>        <th>  LLR p-value:       </th> <td>2.556e-13</td>\n",
       "</tr>\n",
       "</table>\n",
       "<table class=\"simpletable\">\n",
       "<tr>\n",
       "        <td></td>          <th>coef</th>     <th>std err</th>      <th>z</th>      <th>P>|z|</th> <th>[95.0% Conf. Int.]</th> \n",
       "</tr>\n",
       "<tr>\n",
       "  <th>Intercept</th>    <td>   -4.5963</td> <td>      nan</td> <td>      nan</td> <td>   nan</td> <td>      nan       nan</td>\n",
       "</tr>\n",
       "<tr>\n",
       "  <th>NewYork</th>      <td>    4.4469</td> <td>      nan</td> <td>      nan</td> <td>   nan</td> <td>      nan       nan</td>\n",
       "</tr>\n",
       "<tr>\n",
       "  <th>Chicago</th>      <td>    4.4369</td> <td>      nan</td> <td>      nan</td> <td>   nan</td> <td>      nan       nan</td>\n",
       "</tr>\n",
       "<tr>\n",
       "  <th>SanFrancisco</th> <td>    5.5452</td> <td>      nan</td> <td>      nan</td> <td>   nan</td> <td>      nan       nan</td>\n",
       "</tr>\n",
       "<tr>\n",
       "  <th>Austin</th>       <td>    1.9913</td> <td>      nan</td> <td>      nan</td> <td>   nan</td> <td>      nan       nan</td>\n",
       "</tr>\n",
       "<tr>\n",
       "  <th>Seattle</th>      <td>    3.7017</td> <td>      nan</td> <td>      nan</td> <td>   nan</td> <td>      nan       nan</td>\n",
       "</tr>\n",
       "<tr>\n",
       "  <th>LosAngeles</th>   <td>    3.5148</td> <td>      nan</td> <td>      nan</td> <td>   nan</td> <td>      nan       nan</td>\n",
       "</tr>\n",
       "<tr>\n",
       "  <th>Philadelphia</th> <td>    4.6274</td> <td>      nan</td> <td>      nan</td> <td>   nan</td> <td>      nan       nan</td>\n",
       "</tr>\n",
       "<tr>\n",
       "  <th>Atlanta</th>      <td>    3.9312</td> <td>      nan</td> <td>      nan</td> <td>   nan</td> <td>      nan       nan</td>\n",
       "</tr>\n",
       "<tr>\n",
       "  <th>Dallas</th>       <td>    3.1606</td> <td>      nan</td> <td>      nan</td> <td>   nan</td> <td>      nan       nan</td>\n",
       "</tr>\n",
       "<tr>\n",
       "  <th>Pittsburgh</th>   <td>  -25.4646</td> <td>      nan</td> <td>      nan</td> <td>   nan</td> <td>      nan       nan</td>\n",
       "</tr>\n",
       "<tr>\n",
       "  <th>Portland</th>     <td>  -26.3487</td> <td>      nan</td> <td>      nan</td> <td>   nan</td> <td>      nan       nan</td>\n",
       "</tr>\n",
       "<tr>\n",
       "  <th>Phoenix</th>      <td>    3.4339</td> <td>      nan</td> <td>      nan</td> <td>   nan</td> <td>      nan       nan</td>\n",
       "</tr>\n",
       "<tr>\n",
       "  <th>Denver</th>       <td>    3.6414</td> <td>      nan</td> <td>      nan</td> <td>   nan</td> <td>      nan       nan</td>\n",
       "</tr>\n",
       "<tr>\n",
       "  <th>Houston</th>      <td>    3.1236</td> <td>      nan</td> <td>      nan</td> <td>   nan</td> <td>      nan       nan</td>\n",
       "</tr>\n",
       "<tr>\n",
       "  <th>Miami</th>        <td>    1.6620</td> <td>      nan</td> <td>      nan</td> <td>   nan</td> <td>      nan       nan</td>\n",
       "</tr>\n",
       "<tr>\n",
       "  <th>isBigBoss</th>    <td>    1.6425</td> <td>    0.324</td> <td>    5.077</td> <td> 0.000</td> <td>    1.008     2.277</td>\n",
       "</tr>\n",
       "</table>"
      ],
      "text/plain": [
       "<class 'statsmodels.iolib.summary.Summary'>\n",
       "\"\"\"\n",
       "                           Logit Regression Results                           \n",
       "==============================================================================\n",
       "Dep. Variable:                   High   No. Observations:                  339\n",
       "Model:                          Logit   Df Residuals:                      323\n",
       "Method:                           MLE   Df Model:                           15\n",
       "Date:                Wed, 09 Nov 2016   Pseudo R-squ.:                  0.1987\n",
       "Time:                        21:13:59   Log-Likelihood:                -187.87\n",
       "converged:                      False   LL-Null:                       -234.44\n",
       "                                        LLR p-value:                 2.556e-13\n",
       "================================================================================\n",
       "                   coef    std err          z      P>|z|      [95.0% Conf. Int.]\n",
       "--------------------------------------------------------------------------------\n",
       "Intercept       -4.5963        nan        nan        nan           nan       nan\n",
       "NewYork          4.4469        nan        nan        nan           nan       nan\n",
       "Chicago          4.4369        nan        nan        nan           nan       nan\n",
       "SanFrancisco     5.5452        nan        nan        nan           nan       nan\n",
       "Austin           1.9913        nan        nan        nan           nan       nan\n",
       "Seattle          3.7017        nan        nan        nan           nan       nan\n",
       "LosAngeles       3.5148        nan        nan        nan           nan       nan\n",
       "Philadelphia     4.6274        nan        nan        nan           nan       nan\n",
       "Atlanta          3.9312        nan        nan        nan           nan       nan\n",
       "Dallas           3.1606        nan        nan        nan           nan       nan\n",
       "Pittsburgh     -25.4646        nan        nan        nan           nan       nan\n",
       "Portland       -26.3487        nan        nan        nan           nan       nan\n",
       "Phoenix          3.4339        nan        nan        nan           nan       nan\n",
       "Denver           3.6414        nan        nan        nan           nan       nan\n",
       "Houston          3.1236        nan        nan        nan           nan       nan\n",
       "Miami            1.6620        nan        nan        nan           nan       nan\n",
       "isBigBoss        1.6425      0.324      5.077      0.000         1.008     2.277\n",
       "================================================================================\n",
       "\"\"\""
      ]
     },
     "execution_count": 19,
     "metadata": {},
     "output_type": "execute_result"
    }
   ],
   "source": [
    "form2 = form1 + \" + isBigBoss\"\n",
    "model = smf.logit(formula=form2,data = df)\n",
    "fit = model.fit(maxiter=10000)\n",
    "fit.summary() "
   ]
  },
  {
   "cell_type": "markdown",
   "metadata": {},
   "source": [
    "No we do have one significant predictor. The isBigBoss helps predict if a salarty is highly paid or not."
   ]
  },
  {
   "cell_type": "markdown",
   "metadata": {},
   "source": [
    "### Build logistic regression model with scikit"
   ]
  },
  {
   "cell_type": "code",
   "execution_count": 20,
   "metadata": {
    "collapsed": false
   },
   "outputs": [],
   "source": [
    "import patsy\n",
    "from patsy import dmatrix\n",
    "y, X = patsy.dmatrices(form2, data=df)"
   ]
  },
  {
   "cell_type": "code",
   "execution_count": 21,
   "metadata": {
    "collapsed": false
   },
   "outputs": [
    {
     "data": {
      "text/plain": [
       "LogisticRegression(C=1.0, class_weight=None, dual=False, fit_intercept=True,\n",
       "          intercept_scaling=1, max_iter=100, multi_class='ovr', n_jobs=1,\n",
       "          penalty='l2', random_state=None, solver='liblinear', tol=0.0001,\n",
       "          verbose=0, warm_start=False)"
      ]
     },
     "execution_count": 21,
     "metadata": {},
     "output_type": "execute_result"
    }
   ],
   "source": [
    "from sklearn.linear_model import LogisticRegression\n",
    "from sklearn.model_selection import cross_val_score\n",
    "from sklearn.preprocessing import scale\n",
    "logreg = LogisticRegression()\n",
    "logreg.fit(X, np.ravel(y))"
   ]
  },
  {
   "cell_type": "code",
   "execution_count": 22,
   "metadata": {
    "collapsed": false
   },
   "outputs": [
    {
     "name": "stdout",
     "output_type": "stream",
     "text": [
      "Mean accuracy 0.416155\n",
      "Mean precision 0.351840\n",
      "Mean recall 0.356250\n",
      "Mean area under the curve 0.280384\n"
     ]
    }
   ],
   "source": [
    "# Model estimation through cross validation\n",
    "scores = cross_val_score(logreg, X, np.ravel(y), cv=5)\n",
    "print(\"Mean accuracy %f\" % np.mean(scores))\n",
    "scores = cross_val_score(logreg, X, np.ravel(y), cv=5,scoring='precision')\n",
    "print(\"Mean precision %f\" % np.mean(scores))\n",
    "scores = cross_val_score(logreg, X, np.ravel(y), cv=5,scoring='recall')\n",
    "print(\"Mean recall %f\" % np.mean(scores))\n",
    "scores = cross_val_score(logreg, X, np.ravel(y), cv=5,scoring='roc_auc')\n",
    "print(\"Mean area under the curve %f\" % np.mean(scores))"
   ]
  },
  {
   "cell_type": "markdown",
   "metadata": {},
   "source": [
    "Accuracy is the proportion of jobs we properly classified as \"high\" pay or \"low\" pay. In this case our predictors allows a proper classification of 41% which is *lower* than our baseline of 50%! So our model is not doing a very good job here.\n",
    "\n",
    "Precision is the proportion of jobs we classified as hihgly paid that are indeed highly paid jobs. Here we were right in only 35% of cases when we identified a job as highly paid!\n",
    "\n",
    "Recall is the proportion of jobs we correctly classified as highly paid out of all the highly paid jobs. Here we managed to properly classify only 35% as highly paid jobs!\n",
    "\n",
    "Area under the curve measures discrimination, that is, our ability to correctly classify high and low paid jobs. On the curve itself we plot the evolution of specificity (true positive rates) as a variable of 1 minus sensitivity (false positive rate).\n",
    "In our case, based on the preferences from our boss, we prefer to misclassify jobs as low, which corresponds to a high specificity (low false positive rate). Again, the baseline is 0.5, so any value below that is not performing better than random guessing."
   ]
  },
  {
   "cell_type": "markdown",
   "metadata": {},
   "source": [
    "### Use regularization along with grid search to tune parameters"
   ]
  },
  {
   "cell_type": "code",
   "execution_count": 23,
   "metadata": {
    "collapsed": false
   },
   "outputs": [
    {
     "name": "stdout",
     "output_type": "stream",
     "text": [
      "Fitting 5 folds for each of 28 candidates, totalling 140 fits\n"
     ]
    },
    {
     "name": "stderr",
     "output_type": "stream",
     "text": [
      "[Parallel(n_jobs=1)]: Done 140 out of 140 | elapsed:    0.4s finished\n"
     ]
    },
    {
     "data": {
      "text/plain": [
       "{'C': 0.1, 'penalty': 'l1'}"
      ]
     },
     "execution_count": 23,
     "metadata": {},
     "output_type": "execute_result"
    }
   ],
   "source": [
    "from sklearn.model_selection import GridSearchCV\n",
    "#from sklearn.metrics import classification_report, confusion_matrix\n",
    "logreg_f = LogisticRegression()\n",
    "C_vals = [0.000001, 0.00001, 0.0001, 0.001, 0.01, 0.1, 0.5, 0.75, 1.0, 2.5, 5.0, 10.0, 100.0, 1000.0]\n",
    "penalties = ['l1','l2']\n",
    "gs = GridSearchCV(logreg_f, {'penalty':penalties, 'C':C_vals}, verbose=True, cv=5, scoring='accuracy')\n",
    "gs.fit(X, np.ravel(y))\n",
    "gs.best_params_"
   ]
  },
  {
   "cell_type": "code",
   "execution_count": 24,
   "metadata": {
    "collapsed": false
   },
   "outputs": [
    {
     "name": "stdout",
     "output_type": "stream",
     "text": [
      "Mean accuracy 0.563696\n",
      "Mean precision 0.652834\n",
      "Mean recall 0.456250\n",
      "Mean area under the curve 0.518621\n"
     ]
    }
   ],
   "source": [
    "from sklearn.metrics import classification_report\n",
    "gs_logreg = LogisticRegression(C=gs.best_params_[\"C\"], penalty=gs.best_params_[\"penalty\"], solver='liblinear')\n",
    "# Model estimation through cross validation\n",
    "scores = cross_val_score(gs_logreg, X, np.ravel(y), cv=5)\n",
    "print(\"Mean accuracy %f\" % np.mean(scores))\n",
    "scores = cross_val_score(gs_logreg, X, np.ravel(y), cv=5,scoring='precision')\n",
    "print(\"Mean precision %f\" % np.mean(scores))\n",
    "scores = cross_val_score(gs_logreg, X, np.ravel(y), cv=5,scoring='recall')\n",
    "print(\"Mean recall %f\" % np.mean(scores))\n",
    "scores = cross_val_score(gs_logreg, X, np.ravel(y), cv=5,scoring='roc_auc')\n",
    "print(\"Mean area under the curve %f\" % np.mean(scores))"
   ]
  },
  {
   "cell_type": "code",
   "execution_count": 25,
   "metadata": {
    "collapsed": false
   },
   "outputs": [
    {
     "name": "stderr",
     "output_type": "stream",
     "text": [
      "C:\\Anaconda2\\lib\\site-packages\\sklearn\\utils\\validation.py:526: DataConversionWarning: A column-vector y was passed when a 1d array was expected. Please change the shape of y to (n_samples, ), for example using ravel().\n",
      "  y = column_or_1d(y, warn=True)\n"
     ]
    },
    {
     "data": {
      "text/plain": [
       "array([[-0.16526542,  0.        ,  0.        ,  0.26585548,  0.        ,\n",
       "         0.        ,  0.        ,  0.        ,  0.        ,  0.        ,\n",
       "         0.        ,  0.        ,  0.        ,  0.        ,  0.        ,\n",
       "         0.        ,  0.69599033]])"
      ]
     },
     "execution_count": 25,
     "metadata": {},
     "output_type": "execute_result"
    }
   ],
   "source": [
    "# Look at the coefficients\n",
    "fit = gs_logreg.fit(X,y)\n",
    "fit.coef_"
   ]
  },
  {
   "cell_type": "markdown",
   "metadata": {},
   "source": [
    "Using regularization tends to set a high penalty (C=0.1) which drives most coefficients close to 0.\n",
    "\n",
    "Now we get better results than with random guessing. Our accuracy is 56%, precision 65% and recall 45%. Area under the curve is 52%"
   ]
  },
  {
   "cell_type": "markdown",
   "metadata": {},
   "source": [
    "### Enhancing the model"
   ]
  },
  {
   "cell_type": "code",
   "execution_count": 26,
   "metadata": {
    "collapsed": false
   },
   "outputs": [],
   "source": [
    "# Create the features matrix based on 250 most frequent words in job adds\n",
    "from sklearn.feature_extraction.text import CountVectorizer\n",
    "\n",
    "vectorizer = CountVectorizer(max_features = 250, ngram_range=(0,1), stop_words='english', binary=True)\n",
    "\n",
    "vectorizer.fit(df.job)\n",
    "X = vectorizer.transform(df.job).todense()\n",
    "X = pd.DataFrame(X)\n",
    "\n",
    "dummies = pd.get_dummies(df['req_location'])\n",
    "dummies.reset_index(inplace=True)\n",
    "\n",
    "X = pd.merge(X,dummies,left_index=True,right_index=True)"
   ]
  },
  {
   "cell_type": "code",
   "execution_count": 27,
   "metadata": {
    "collapsed": false
   },
   "outputs": [],
   "source": [
    "y = df.High"
   ]
  },
  {
   "cell_type": "code",
   "execution_count": 28,
   "metadata": {
    "collapsed": false
   },
   "outputs": [],
   "source": [
    "from sklearn.metrics import classification_report, confusion_matrix, accuracy_score\n",
    "from sklearn.model_selection import train_test_split\n",
    "from sklearn.linear_model import  LogisticRegressionCV\n",
    "\n",
    "# train test split with a stratify term on the outcome to keep datasets balanced on the three outcomes\n",
    "X_train, X_test, Y_train, Y_test = train_test_split(X, y, test_size=0.33, stratify=y, random_state=77)"
   ]
  },
  {
   "cell_type": "code",
   "execution_count": 29,
   "metadata": {
    "collapsed": false
   },
   "outputs": [
    {
     "name": "stdout",
     "output_type": "stream",
     "text": [
      "Fitting 5 folds for each of 24 candidates, totalling 120 fits\n"
     ]
    },
    {
     "name": "stderr",
     "output_type": "stream",
     "text": [
      "[Parallel(n_jobs=1)]: Done 120 out of 120 | elapsed:    0.7s finished\n"
     ]
    },
    {
     "data": {
      "text/plain": [
       "GridSearchCV(cv=5, error_score='raise',\n",
       "       estimator=LogisticRegression(C=1.0, class_weight=None, dual=False, fit_intercept=True,\n",
       "          intercept_scaling=1, max_iter=100, multi_class='ovr', n_jobs=1,\n",
       "          penalty='l2', random_state=None, solver='liblinear', tol=0.0001,\n",
       "          verbose=0, warm_start=False),\n",
       "       fit_params={}, iid=True, n_jobs=1,\n",
       "       param_grid={'penalty': ['l1', 'l2'], 'C': [0.0001, 0.001, 0.01, 0.1, 0.5, 0.75, 1.0, 2.5, 5.0, 10.0, 100.0, 1000.0]},\n",
       "       pre_dispatch='2*n_jobs', refit=True, return_train_score=True,\n",
       "       scoring='accuracy', verbose=True)"
      ]
     },
     "execution_count": 29,
     "metadata": {},
     "output_type": "execute_result"
    }
   ],
   "source": [
    "logreg_f = LogisticRegression()\n",
    "C_vals = [0.0001, 0.001, 0.01, 0.1, 0.5, 0.75, 1.0, 2.5, 5.0, 10.0, 100.0, 1000.0]\n",
    "penalties = ['l1','l2']\n",
    "\n",
    "gs = GridSearchCV(logreg_f, {'penalty':penalties, 'C':C_vals}, verbose=True, cv=5, scoring='accuracy')\n",
    "gs.fit(X_train, Y_train)"
   ]
  },
  {
   "cell_type": "code",
   "execution_count": 30,
   "metadata": {
    "collapsed": false
   },
   "outputs": [
    {
     "data": {
      "text/plain": [
       "{'C': 10.0, 'penalty': 'l2'}"
      ]
     },
     "execution_count": 30,
     "metadata": {},
     "output_type": "execute_result"
    }
   ],
   "source": [
    "gs.best_params_"
   ]
  },
  {
   "cell_type": "code",
   "execution_count": 31,
   "metadata": {
    "collapsed": true
   },
   "outputs": [],
   "source": [
    "# As we know, this output of a confusion matrix is a bit awkward and confusing\n",
    "# Here is some nice code to plot a confusion matrix in an easier to read way,\n",
    "# this is from sklearn's documentation\n",
    "import matplotlib.pyplot as plt\n",
    "%matplotlib inline\n",
    "import itertools\n",
    "\n",
    "def plot_confusion_matrix(cm, classes, title='Confusion matrix', cmap=plt.cm.Blues):\n",
    "    plt.imshow(cm, interpolation='nearest', cmap=cmap)\n",
    "    plt.title(title)\n",
    "    plt.colorbar()\n",
    "    tick_marks = np.arange(len(classes))\n",
    "    plt.xticks(tick_marks, classes, rotation=45)\n",
    "    plt.yticks(tick_marks, classes)\n",
    "    thresh = cm.max() / 2.\n",
    "    for i, j in itertools.product(np.arange(int(cm.shape[0])), np.arange(int(cm.shape[1]))):\n",
    "        plt.text(j, i, cm[i, j],\n",
    "                 horizontalalignment=\"center\",\n",
    "                 color=\"white\" if cm[i, j] > thresh else \"black\")\n",
    "    plt.ylabel('True label')\n",
    "    plt.xlabel('Predicted label')\n",
    "    plt.show()\n",
    "    return"
   ]
  },
  {
   "cell_type": "code",
   "execution_count": 32,
   "metadata": {
    "collapsed": false
   },
   "outputs": [
    {
     "data": {
      "image/png": "[encoded data removed]",
      "text/plain": [
       "<matplotlib.figure.Figure at 0x96c1e80>"
      ]
     },
     "metadata": {},
     "output_type": "display_data"
    }
   ],
   "source": [
    "gs_logreg = LogisticRegression(C=gs.best_params_[\"C\"], penalty=gs.best_params_[\"penalty\"], solver='liblinear')\n",
    "gs_logreg.fit(X_train, Y_train)\n",
    "Y_ = gs_logreg.predict(X_test)\n",
    "conmat_gs_logreg = confusion_matrix(Y_test, Y_, labels=gs_logreg.classes_)\n",
    "plot_confusion_matrix(conmat_gs_logreg, classes=gs_logreg.classes_)"
   ]
  },
  {
   "cell_type": "code",
   "execution_count": 33,
   "metadata": {
    "collapsed": false
   },
   "outputs": [
    {
     "name": "stdout",
     "output_type": "stream",
     "text": [
      "             precision    recall  f1-score   support\n",
      "\n",
      "          0       0.84      0.86      0.85        59\n",
      "          1       0.84      0.81      0.83        53\n",
      "\n",
      "avg / total       0.84      0.84      0.84       112\n",
      "\n"
     ]
    }
   ],
   "source": [
    "print(classification_report(Y_test, Y_))"
   ]
  },
  {
   "cell_type": "code",
   "execution_count": 34,
   "metadata": {
    "collapsed": false
   },
   "outputs": [
    {
     "data": {
      "text/plain": [
       "0.8392857142857143"
      ]
     },
     "execution_count": 34,
     "metadata": {},
     "output_type": "execute_result"
    }
   ],
   "source": [
    "# Accucary for our model\n",
    "gs_logreg.score(X_test, Y_test)"
   ]
  },
  {
   "cell_type": "markdown",
   "metadata": {},
   "source": [
    "By introducing both the location and a high level of predictors based on job title, we finally reach an accuracy of 84%!"
   ]
  },
  {
   "cell_type": "markdown",
   "metadata": {},
   "source": [
    "### Report\n",
    "Can be found in separate notebook called _DataScientistsSalaries.ipynb_"
   ]
  },
  {
   "cell_type": "markdown",
   "metadata": {},
   "source": [
    "# ------------------------------------------------\n",
    "# Additional data exploration\n",
    "# ------------------------------------------------\n",
    "\n",
    "\n",
    "In the following section we explore further the data made available to us by scrapping the website for every US state and making use of the categories as opposed to the provided salay values/ranges, which will allow us to work on a bigger data set since less than 10% of job adds have precise salary information, whereas we were able to identify the job category for all adds.\n"
   ]
  },
  {
   "cell_type": "markdown",
   "metadata": {},
   "source": [
    "### Collect states data"
   ]
  },
  {
   "cell_type": "markdown",
   "metadata": {},
   "source": [
    "### Warning, this step takes 2 hours+ to run\n",
    "Skip to the next step if you are happy to use data from 9th November 2016"
   ]
  },
  {
   "cell_type": "code",
   "execution_count": 2,
   "metadata": {
    "collapsed": false
   },
   "outputs": [],
   "source": [
    "## Scrape the website \n",
    "us_states_df = pd.DataFrame(columns=[\"location\", \"job\", \"comp\", \"salary\",\"uid\",\"range\"])\n",
    "    \n",
    "for city in states.StateCode:\n",
    "    temp_df = screen_state(city,maximum = 500)\n",
    "    us_states_df = pd.concat([us_states_df,temp_df])\n",
    "# Clean up and save the data\n",
    "us_states_df.drop('uid',axis=1,inplace=True)\n",
    "us_states_df.reset_index(drop=True,inplace=True)\n",
    "\n",
    "# Save result to file\n",
    "us_states_df.to_csv(\"salary_data_states.csv\", encoding=\"utf-8\",index=False)"
   ]
  },
  {
   "cell_type": "markdown",
   "metadata": {},
   "source": [
    "### Resume here"
   ]
  },
  {
   "cell_type": "code",
   "execution_count": 36,
   "metadata": {
    "collapsed": false
   },
   "outputs": [
    {
     "name": "stdout",
     "output_type": "stream",
     "text": [
      "<class 'pandas.core.frame.DataFrame'>\n",
      "RangeIndex: 12394 entries, 0 to 12393\n",
      "Data columns (total 6 columns):\n",
      "comp            12394 non-null object\n",
      "job             12394 non-null object\n",
      "location        12394 non-null object\n",
      "range           12394 non-null object\n",
      "req_location    12394 non-null object\n",
      "salary          816 non-null float64\n",
      "dtypes: float64(1), object(5)\n",
      "memory usage: 581.0+ KB\n"
     ]
    }
   ],
   "source": [
    "import vincent\n",
    "states = pd.read_csv(\"usa-states.csv\")[['StateCode','StateName']]\n",
    "df = pd.read_csv('salary_data_states.csv')\n",
    "df.info()"
   ]
  },
  {
   "cell_type": "code",
   "execution_count": 37,
   "metadata": {
    "collapsed": false
   },
   "outputs": [
    {
     "data": {
      "text/html": [
       "<div>\n",
       "<table border=\"1\" class=\"dataframe\">\n",
       "  <thead>\n",
       "    <tr style=\"text-align: right;\">\n",
       "      <th></th>\n",
       "      <th>comp</th>\n",
       "      <th>job</th>\n",
       "      <th>location</th>\n",
       "      <th>range</th>\n",
       "      <th>req_location</th>\n",
       "      <th>salary</th>\n",
       "    </tr>\n",
       "  </thead>\n",
       "  <tbody>\n",
       "    <tr>\n",
       "      <th>0</th>\n",
       "      <td>Workplace Alaska</td>\n",
       "      <td>Wildlife Scientist II</td>\n",
       "      <td>Juneau, AK</td>\n",
       "      <td>D</td>\n",
       "      <td>AK</td>\n",
       "      <td>85976.0</td>\n",
       "    </tr>\n",
       "    <tr>\n",
       "      <th>1</th>\n",
       "      <td>Workplace Alaska</td>\n",
       "      <td>Research Analyst II</td>\n",
       "      <td>Juneau, AK</td>\n",
       "      <td>E</td>\n",
       "      <td>AK</td>\n",
       "      <td>47905.0</td>\n",
       "    </tr>\n",
       "    <tr>\n",
       "      <th>2</th>\n",
       "      <td>Workplace Alaska</td>\n",
       "      <td>Health Facilities Surveyor I</td>\n",
       "      <td>Anchorage, AK</td>\n",
       "      <td>E</td>\n",
       "      <td>AK</td>\n",
       "      <td>60148.0</td>\n",
       "    </tr>\n",
       "    <tr>\n",
       "      <th>3</th>\n",
       "      <td>North Wind Site Services</td>\n",
       "      <td>Environmental Scientist</td>\n",
       "      <td>Anchorage, AK</td>\n",
       "      <td>E</td>\n",
       "      <td>AK</td>\n",
       "      <td>NaN</td>\n",
       "    </tr>\n",
       "    <tr>\n",
       "      <th>4</th>\n",
       "      <td>San Jose/Evergreen Community College District</td>\n",
       "      <td>RESEARCH ANALYST</td>\n",
       "      <td>College, AK</td>\n",
       "      <td>E</td>\n",
       "      <td>AK</td>\n",
       "      <td>NaN</td>\n",
       "    </tr>\n",
       "  </tbody>\n",
       "</table>\n",
       "</div>"
      ],
      "text/plain": [
       "                                            comp  \\\n",
       "0                               Workplace Alaska   \n",
       "1                               Workplace Alaska   \n",
       "2                               Workplace Alaska   \n",
       "3                       North Wind Site Services   \n",
       "4  San Jose/Evergreen Community College District   \n",
       "\n",
       "                            job       location range req_location   salary  \n",
       "0         Wildlife Scientist II     Juneau, AK     D           AK  85976.0  \n",
       "1           Research Analyst II     Juneau, AK     E           AK  47905.0  \n",
       "2  Health Facilities Surveyor I  Anchorage, AK     E           AK  60148.0  \n",
       "3       Environmental Scientist  Anchorage, AK     E           AK      NaN  \n",
       "4              RESEARCH ANALYST    College, AK     E           AK      NaN  "
      ]
     },
     "execution_count": 37,
     "metadata": {},
     "output_type": "execute_result"
    }
   ],
   "source": [
    "df.head(5)"
   ]
  },
  {
   "cell_type": "code",
   "execution_count": 38,
   "metadata": {
    "collapsed": true
   },
   "outputs": [],
   "source": [
    "df.fillna(value=\"0\",inplace=True)"
   ]
  },
  {
   "cell_type": "markdown",
   "metadata": {},
   "source": [
    "### Which are the top 20 companies currently hiring the most number of data scientists?"
   ]
  },
  {
   "cell_type": "code",
   "execution_count": 39,
   "metadata": {
    "collapsed": false
   },
   "outputs": [
    {
     "data": {
      "text/plain": [
       "Amazon Corporate LLC          253\n",
       "Ball Aerospace                164\n",
       "ADP                           104\n",
       "Booz Allen Hamilton            94\n",
       "ICF                            90\n",
       "Capital One                    85\n",
       "HDR                            76\n",
       "Leidos                         71\n",
       "BOEING                         71\n",
       "CDK Global                     70\n",
       "AstraZeneca                    65\n",
       "Beckman Coulter, Inc.          65\n",
       "Vencore                        62\n",
       "Microsoft                      61\n",
       "GlaxoSmithKline                57\n",
       "NYU Langone Medical Center     54\n",
       "The Aerospace Corporation      52\n",
       "Google                         51\n",
       "MONSANTO                       48\n",
       "Engility Corporation           48\n",
       "Name: comp, dtype: int64"
      ]
     },
     "execution_count": 39,
     "metadata": {},
     "output_type": "execute_result"
    }
   ],
   "source": [
    "df.comp.value_counts()[:20]"
   ]
  },
  {
   "cell_type": "markdown",
   "metadata": {},
   "source": [
    "### Which are the top 10 cities where the highest number of data scientists are sought?"
   ]
  },
  {
   "cell_type": "code",
   "execution_count": 40,
   "metadata": {
    "collapsed": false
   },
   "outputs": [
    {
     "data": {
      "text/plain": [
       "New York, NY         564\n",
       "Seattle, WA          496\n",
       "Cambridge, MA        234\n",
       "Boston, MA           233\n",
       "Chicago, IL          203\n",
       "San Francisco, CA    187\n",
       "Washington, DC       166\n",
       "Los Angeles, CA      163\n",
       "St. Louis, MO        147\n",
       "Atlanta, GA          132\n",
       "Name: location, dtype: int64"
      ]
     },
     "execution_count": 40,
     "metadata": {},
     "output_type": "execute_result"
    }
   ],
   "source": [
    "df.location.value_counts()[:10]"
   ]
  },
  {
   "cell_type": "markdown",
   "metadata": {},
   "source": [
    "### Proportion of very high, high and low data scientist jobs per state\n",
    "Very high = > 200,000$\n",
    "High = > 100,000$\n",
    "Low = < 50,000$\n"
   ]
  },
  {
   "cell_type": "code",
   "execution_count": 41,
   "metadata": {
    "collapsed": false
   },
   "outputs": [
    {
     "data": {
      "text/html": [
       "<div>\n",
       "<table border=\"1\" class=\"dataframe\">\n",
       "  <thead>\n",
       "    <tr>\n",
       "      <th></th>\n",
       "      <th>req_location</th>\n",
       "      <th colspan=\"6\" halign=\"left\">salary</th>\n",
       "      <th>very_high</th>\n",
       "      <th>high</th>\n",
       "      <th>low</th>\n",
       "    </tr>\n",
       "    <tr>\n",
       "      <th>range</th>\n",
       "      <th></th>\n",
       "      <th>A</th>\n",
       "      <th>B</th>\n",
       "      <th>C</th>\n",
       "      <th>D</th>\n",
       "      <th>E</th>\n",
       "      <th>F</th>\n",
       "      <th></th>\n",
       "      <th></th>\n",
       "      <th></th>\n",
       "    </tr>\n",
       "  </thead>\n",
       "  <tbody>\n",
       "    <tr>\n",
       "      <th>0</th>\n",
       "      <td>Alaska</td>\n",
       "      <td>0</td>\n",
       "      <td>0</td>\n",
       "      <td>0</td>\n",
       "      <td>1.0</td>\n",
       "      <td>8</td>\n",
       "      <td>0</td>\n",
       "      <td>0.000000</td>\n",
       "      <td>0.000000</td>\n",
       "      <td>0.000000</td>\n",
       "    </tr>\n",
       "    <tr>\n",
       "      <th>1</th>\n",
       "      <td>Alabama</td>\n",
       "      <td>0</td>\n",
       "      <td>0</td>\n",
       "      <td>18</td>\n",
       "      <td>18.0</td>\n",
       "      <td>25</td>\n",
       "      <td>20</td>\n",
       "      <td>0.000000</td>\n",
       "      <td>22.222222</td>\n",
       "      <td>24.691358</td>\n",
       "    </tr>\n",
       "    <tr>\n",
       "      <th>2</th>\n",
       "      <td>Arkansas</td>\n",
       "      <td>0</td>\n",
       "      <td>0</td>\n",
       "      <td>2</td>\n",
       "      <td>9.0</td>\n",
       "      <td>1</td>\n",
       "      <td>6</td>\n",
       "      <td>0.000000</td>\n",
       "      <td>11.111111</td>\n",
       "      <td>33.333333</td>\n",
       "    </tr>\n",
       "    <tr>\n",
       "      <th>3</th>\n",
       "      <td>Arizona</td>\n",
       "      <td>0</td>\n",
       "      <td>3</td>\n",
       "      <td>24</td>\n",
       "      <td>11.0</td>\n",
       "      <td>44</td>\n",
       "      <td>26</td>\n",
       "      <td>0.000000</td>\n",
       "      <td>25.000000</td>\n",
       "      <td>24.074074</td>\n",
       "    </tr>\n",
       "    <tr>\n",
       "      <th>4</th>\n",
       "      <td>California</td>\n",
       "      <td>7</td>\n",
       "      <td>69</td>\n",
       "      <td>430</td>\n",
       "      <td>308.0</td>\n",
       "      <td>202</td>\n",
       "      <td>112</td>\n",
       "      <td>0.620567</td>\n",
       "      <td>44.858156</td>\n",
       "      <td>9.929078</td>\n",
       "    </tr>\n",
       "  </tbody>\n",
       "</table>\n",
       "</div>"
      ],
      "text/plain": [
       "      req_location salary                           very_high       high  \\\n",
       "range                   A   B    C      D    E    F                        \n",
       "0           Alaska      0   0    0    1.0    8    0  0.000000   0.000000   \n",
       "1          Alabama      0   0   18   18.0   25   20  0.000000  22.222222   \n",
       "2         Arkansas      0   0    2    9.0    1    6  0.000000  11.111111   \n",
       "3          Arizona      0   3   24   11.0   44   26  0.000000  25.000000   \n",
       "4       California      7  69  430  308.0  202  112  0.620567  44.858156   \n",
       "\n",
       "             low  \n",
       "range             \n",
       "0       0.000000  \n",
       "1      24.691358  \n",
       "2      33.333333  \n",
       "3      24.074074  \n",
       "4       9.929078  "
      ]
     },
     "execution_count": 41,
     "metadata": {},
     "output_type": "execute_result"
    }
   ],
   "source": [
    "tot_jobs = df.pivot_table(index=[\"req_location\"],values=['salary'],aggfunc=len)\n",
    "tot_jobs.reset_index(level=0,inplace=True)\n",
    "\n",
    "res = df.pivot_table(index=[\"req_location\"],columns=[\"range\"],values=['salary'],aggfunc=len)\n",
    "res.fillna('0',inplace=True)\n",
    "res.reset_index(level=0,inplace=True)\n",
    "\n",
    "\n",
    "\n",
    "res['very_high']=[(int(res.salary.A[i]))/tot_jobs.salary[i]*100 for i in range(res.shape[0])]\n",
    "res['high']= [(int(res.salary.A[i])+int(res.salary.B[i])+int(res.salary.C[i]))/tot_jobs.salary[i]*100 for i in range(res.shape[0])]\n",
    "res['low']= [int(res.salary.F[i])/tot_jobs.salary[i]*100 for i in range(res.shape[0])]\n",
    "\n",
    "res['req_location'] = [states['StateName'][states[\"StateCode\"].tolist().index(x)] for x in res['req_location']]\n",
    "\n",
    "res.head(5)"
   ]
  },
  {
   "cell_type": "markdown",
   "metadata": {},
   "source": [
    "### ----------------------\n",
    "#### Very high salaries > $200,000 per year"
   ]
  },
  {
   "cell_type": "code",
   "execution_count": 42,
   "metadata": {
    "collapsed": false
   },
   "outputs": [
    {
     "data": {
      "text/html": [
       "\n",
       "           <script>\n",
       "               \n",
       "                function vct_load_lib(url, callback){\n",
       "                      if(typeof d3 !== 'undefined' &&\n",
       "                         url === 'http://d3js.org/d3.v3.min.js'){\n",
       "                        callback()\n",
       "                      }\n",
       "                      var s = document.createElement('script');\n",
       "                      s.src = url;\n",
       "                      s.async = true;\n",
       "                      s.onreadystatechange = s.onload = callback;\n",
       "                      s.onerror = function(){\n",
       "                        console.warn(\"failed to load library \" + url);\n",
       "                        };\n",
       "                      document.getElementsByTagName(\"head\")[0].appendChild(s);\n",
       "                };\n",
       "                var vincent_event = new CustomEvent(\n",
       "                  \"vincent_libs_loaded\",\n",
       "                  {bubbles: true, cancelable: true}\n",
       "                );\n",
       "                \n",
       "               function load_all_libs(){\n",
       "                  console.log('Loading Vincent libs...')\n",
       "                  vct_load_lib('http://d3js.org/d3.v3.min.js', function(){\n",
       "                  vct_load_lib('http://d3js.org/d3.geo.projection.v0.min.js', function(){\n",
       "                  vct_load_lib('http://wrobstory.github.io/d3-cloud/d3.layout.cloud.js', function(){\n",
       "                  vct_load_lib('http://wrobstory.github.io/vega/vega.v1.3.3.js', function(){\n",
       "                  window.dispatchEvent(vincent_event);\n",
       "                  });\n",
       "                  });\n",
       "                  });\n",
       "                  });\n",
       "               };\n",
       "               if(typeof define === \"function\" && define.amd){\n",
       "                    if (window['d3'] === undefined ||\n",
       "                        window['topojson'] === undefined){\n",
       "                        require.config(\n",
       "                            {paths: {\n",
       "                              d3: 'http://d3js.org/d3.v3.min',\n",
       "                              topojson: 'http://d3js.org/topojson.v1.min'\n",
       "                              }\n",
       "                            }\n",
       "                          );\n",
       "                        require([\"d3\"], function(d3){\n",
       "                            console.log('Loading Vincent from require.js...')\n",
       "                            window.d3 = d3;\n",
       "                            require([\"topojson\"], function(topojson){\n",
       "                                window.topojson = topojson;\n",
       "                                load_all_libs();\n",
       "                            });\n",
       "                        });\n",
       "                    } else {\n",
       "                        load_all_libs();\n",
       "                    };\n",
       "               }else{\n",
       "                    console.log('Require.js not found, loading manually...')\n",
       "                    load_all_libs();\n",
       "               };\n",
       "\n",
       "           </script>"
      ],
      "text/plain": [
       "<IPython.core.display.HTML object>"
      ]
     },
     "metadata": {},
     "output_type": "display_data"
    },
    {
     "data": {
      "text/html": [
       "<div id=\"visd2252f74a408440a919be9d978ce400e\"></div>\n",
       "<script>\n",
       "   ( function() {\n",
       "     var _do_plot = function() {\n",
       "       if (typeof vg === 'undefined') {\n",
       "         window.addEventListener('vincent_libs_loaded', _do_plot)\n",
       "         return;\n",
       "       }\n",
       "       vg.parse.spec({\"axes\": [], \"data\": [{\"name\": \"table\", \"values\": [{\"x\": \"Alaska\", \"y\": 0.0}, {\"x\": \"Alabama\", \"y\": 0.0}, {\"x\": \"Arkansas\", \"y\": 0.0}, {\"x\": \"Arizona\", \"y\": 0.0}, {\"x\": \"California\", \"y\": 0.6205673758865249}, {\"x\": \"Colorado\", \"y\": 0.0}, {\"x\": \"Connecticut\", \"y\": 0.0}, {\"x\": \"District of Columbia\", \"y\": 0.0}, {\"x\": \"Delaware\", \"y\": 0.0}, {\"x\": \"Florida\", \"y\": 0.0}, {\"x\": \"Georgia\", \"y\": 0.0}, {\"x\": \"Hawaii\", \"y\": 0.0}, {\"x\": \"Iowa\", \"y\": 0.0}, {\"x\": \"Idaho\", \"y\": 0.0}, {\"x\": \"Illinois\", \"y\": 0.0}, {\"x\": \"Indiana\", \"y\": 0.0}, {\"x\": \"Kansas\", \"y\": 0.0}, {\"x\": \"Kentucky\", \"y\": 0.0}, {\"x\": \"Louisiana\", \"y\": 0.0}, {\"x\": \"Massachusetts\", \"y\": 0.18214936247723132}, {\"x\": \"Maryland\", \"y\": 0.0}, {\"x\": \"Maine\", \"y\": 0.0}, {\"x\": \"Michigan\", \"y\": 0.0}, {\"x\": \"Minnesota\", \"y\": 0.0}, {\"x\": \"Missouri\", \"y\": 0.0}, {\"x\": \"Mississippi\", \"y\": 0.0}, {\"x\": \"Montana\", \"y\": 0.0}, {\"x\": \"North Carolina\", \"y\": 0.0}, {\"x\": \"North Dakota\", \"y\": 0.0}, {\"x\": \"Nebraska\", \"y\": 0.0}, {\"x\": \"New Hampshire\", \"y\": 0.0}, {\"x\": \"New Jersey\", \"y\": 0.14513788098693758}, {\"x\": \"New Mexico\", \"y\": 0.0}, {\"x\": \"Nevada\", \"y\": 0.0}, {\"x\": \"New York\", \"y\": 0.9442870632672332}, {\"x\": \"Ohio\", \"y\": 0.0}, {\"x\": \"Oklahoma\", \"y\": 0.0}, {\"x\": \"Oregon\", \"y\": 0.0}, {\"x\": \"Pennsylvania\", \"y\": 0.211864406779661}, {\"x\": \"Rhode Island\", \"y\": 0.0}, {\"x\": \"South Carolina\", \"y\": 0.0}, {\"x\": \"South Dakota\", \"y\": 0.0}, {\"x\": \"Tennessee\", \"y\": 0.0}, {\"x\": \"Texas\", \"y\": 0.0}, {\"x\": \"Utah\", \"y\": 0.0}, {\"x\": \"Virginia\", \"y\": 0.0}, {\"x\": \"Vermont\", \"y\": 0.0}, {\"x\": \"Washington\", \"y\": 0.0}, {\"x\": \"Wisconsin\", \"y\": 0.0}, {\"x\": \"West Virginia\", \"y\": 0.0}, {\"x\": \"Wyoming\", \"y\": 0.0}]}, {\"format\": {\"feature\": \"us_states.geo\", \"type\": \"topojson\"}, \"name\": \"states\", \"transform\": [{\"as\": \"value\", \"default\": \"noval\", \"key\": \"data.properties.NAME\", \"type\": \"zip\", \"with\": \"table\", \"withKey\": \"data.x\"}, {\"test\": \"d.path!='noval' && d.value!='noval'\", \"type\": \"filter\"}, {\"projection\": \"albersUsa\", \"scale\": 1100, \"translate\": [480, 250], \"type\": \"geopath\", \"value\": \"data\"}], \"url\": \"us_states.topo.json\"}], \"height\": 500, \"legends\": [], \"marks\": [{\"from\": {\"data\": \"states\"}, \"properties\": {\"enter\": {\"path\": {\"field\": \"path\"}, \"stroke\": {\"value\": \"#000000\"}}, \"update\": {\"fill\": {\"field\": \"value.data.y\", \"scale\": \"color\"}}}, \"type\": \"path\"}], \"padding\": \"auto\", \"scales\": [{\"domain\": [0.0, 0.19700688462844618], \"name\": \"color\", \"range\": [\"#fff7f3\", \"#fde0dd\", \"#fcc5c0\", \"#fa9fb5\", \"#f768a1\", \"#dd3497\", \"#ae017e\", \"#7a0177\", \"#49006a\"], \"type\": \"quantize\"}], \"width\": 960}, function(chart) {\n",
       "         chart({el: \"#visd2252f74a408440a919be9d978ce400e\"}).update();\n",
       "       });\n",
       "     };\n",
       "     _do_plot();\n",
       "   })();\n",
       "</script>\n",
       "<style>.vega canvas {width: 100%;}</style>\n",
       "        "
      ],
      "text/plain": [
       "<IPython.core.display.HTML object>"
      ]
     },
     "metadata": {},
     "output_type": "display_data"
    }
   ],
   "source": [
    "vincent.initialize_notebook()\n",
    "state_topo=\"us_states.topo.json\"\n",
    "geo_data = [{'name': 'states','url': state_topo,'feature': 'us_states.geo'}]\n",
    "\n",
    "vis = vincent.Map(data=res, geo_data=geo_data, scale=1100, data_bind='very_high', data_key='req_location', \n",
    "                  map_key={'states': 'properties.NAME'}, projection='albersUsa')\n",
    "#vis.scales['color'].type = 'threshold'\n",
    "#vis.scales['color'].domain=[0,1]\n",
    "vis.rebind(column='very_high', brew='RdPu')\n",
    "vis.display()"
   ]
  },
  {
   "cell_type": "markdown",
   "metadata": {},
   "source": [
    "### ----------------------\n",
    "#### High salaries > $100,000 per year"
   ]
  },
  {
   "cell_type": "code",
   "execution_count": 43,
   "metadata": {
    "collapsed": false
   },
   "outputs": [
    {
     "data": {
      "text/html": [
       "\n",
       "           <script>\n",
       "               \n",
       "                function vct_load_lib(url, callback){\n",
       "                      if(typeof d3 !== 'undefined' &&\n",
       "                         url === 'http://d3js.org/d3.v3.min.js'){\n",
       "                        callback()\n",
       "                      }\n",
       "                      var s = document.createElement('script');\n",
       "                      s.src = url;\n",
       "                      s.async = true;\n",
       "                      s.onreadystatechange = s.onload = callback;\n",
       "                      s.onerror = function(){\n",
       "                        console.warn(\"failed to load library \" + url);\n",
       "                        };\n",
       "                      document.getElementsByTagName(\"head\")[0].appendChild(s);\n",
       "                };\n",
       "                var vincent_event = new CustomEvent(\n",
       "                  \"vincent_libs_loaded\",\n",
       "                  {bubbles: true, cancelable: true}\n",
       "                );\n",
       "                \n",
       "               function load_all_libs(){\n",
       "                  console.log('Loading Vincent libs...')\n",
       "                  vct_load_lib('http://d3js.org/d3.v3.min.js', function(){\n",
       "                  vct_load_lib('http://d3js.org/d3.geo.projection.v0.min.js', function(){\n",
       "                  vct_load_lib('http://wrobstory.github.io/d3-cloud/d3.layout.cloud.js', function(){\n",
       "                  vct_load_lib('http://wrobstory.github.io/vega/vega.v1.3.3.js', function(){\n",
       "                  window.dispatchEvent(vincent_event);\n",
       "                  });\n",
       "                  });\n",
       "                  });\n",
       "                  });\n",
       "               };\n",
       "               if(typeof define === \"function\" && define.amd){\n",
       "                    if (window['d3'] === undefined ||\n",
       "                        window['topojson'] === undefined){\n",
       "                        require.config(\n",
       "                            {paths: {\n",
       "                              d3: 'http://d3js.org/d3.v3.min',\n",
       "                              topojson: 'http://d3js.org/topojson.v1.min'\n",
       "                              }\n",
       "                            }\n",
       "                          );\n",
       "                        require([\"d3\"], function(d3){\n",
       "                            console.log('Loading Vincent from require.js...')\n",
       "                            window.d3 = d3;\n",
       "                            require([\"topojson\"], function(topojson){\n",
       "                                window.topojson = topojson;\n",
       "                                load_all_libs();\n",
       "                            });\n",
       "                        });\n",
       "                    } else {\n",
       "                        load_all_libs();\n",
       "                    };\n",
       "               }else{\n",
       "                    console.log('Require.js not found, loading manually...')\n",
       "                    load_all_libs();\n",
       "               };\n",
       "\n",
       "           </script>"
      ],
      "text/plain": [
       "<IPython.core.display.HTML object>"
      ]
     },
     "metadata": {},
     "output_type": "display_data"
    },
    {
     "data": {
      "text/html": [
       "<div id=\"visec2de0a712474b74b0f3bfec98278437\"></div>\n",
       "<script>\n",
       "   ( function() {\n",
       "     var _do_plot = function() {\n",
       "       if (typeof vg === 'undefined') {\n",
       "         window.addEventListener('vincent_libs_loaded', _do_plot)\n",
       "         return;\n",
       "       }\n",
       "       vg.parse.spec({\"axes\": [], \"data\": [{\"name\": \"table\", \"values\": [{\"x\": \"Alaska\", \"y\": 0.0}, {\"x\": \"Alabama\", \"y\": 22.22222222222222}, {\"x\": \"Arkansas\", \"y\": 11.11111111111111}, {\"x\": \"Arizona\", \"y\": 25.0}, {\"x\": \"California\", \"y\": 44.858156028368796}, {\"x\": \"Colorado\", \"y\": 17.58957654723127}, {\"x\": \"Connecticut\", \"y\": 23.008849557522122}, {\"x\": \"District of Columbia\", \"y\": 20.735785953177256}, {\"x\": \"Delaware\", \"y\": 23.684210526315788}, {\"x\": \"Florida\", \"y\": 14.164305949008499}, {\"x\": \"Georgia\", \"y\": 31.03448275862069}, {\"x\": \"Hawaii\", \"y\": 4.3478260869565215}, {\"x\": \"Iowa\", \"y\": 13.20754716981132}, {\"x\": \"Idaho\", \"y\": 4.3478260869565215}, {\"x\": \"Illinois\", \"y\": 24.151696606786427}, {\"x\": \"Indiana\", \"y\": 19.587628865979383}, {\"x\": \"Kansas\", \"y\": 12.195121951219512}, {\"x\": \"Kentucky\", \"y\": 21.428571428571427}, {\"x\": \"Louisiana\", \"y\": 24.20212765957447}, {\"x\": \"Massachusetts\", \"y\": 31.876138433515482}, {\"x\": \"Maryland\", \"y\": 13.610586011342155}, {\"x\": \"Maine\", \"y\": 5.88235294117647}, {\"x\": \"Michigan\", \"y\": 14.215686274509803}, {\"x\": \"Minnesota\", \"y\": 12.244897959183673}, {\"x\": \"Missouri\", \"y\": 20.37037037037037}, {\"x\": \"Mississippi\", \"y\": 17.647058823529413}, {\"x\": \"Montana\", \"y\": 5.555555555555555}, {\"x\": \"North Carolina\", \"y\": 18.885448916408667}, {\"x\": \"North Dakota\", \"y\": 0.0}, {\"x\": \"Nebraska\", \"y\": 12.903225806451612}, {\"x\": \"New Hampshire\", \"y\": 26.08695652173913}, {\"x\": \"New Jersey\", \"y\": 17.126269956458636}, {\"x\": \"New Mexico\", \"y\": 17.272727272727273}, {\"x\": \"Nevada\", \"y\": 6.0606060606060606}, {\"x\": \"New York\", \"y\": 32.10576015108593}, {\"x\": \"Ohio\", \"y\": 19.413919413919416}, {\"x\": \"Oklahoma\", \"y\": 11.11111111111111}, {\"x\": \"Oregon\", \"y\": 19.565217391304348}, {\"x\": \"Pennsylvania\", \"y\": 20.97457627118644}, {\"x\": \"Rhode Island\", \"y\": 10.526315789473683}, {\"x\": \"South Carolina\", \"y\": 40.909090909090914}, {\"x\": \"South Dakota\", \"y\": 66.66666666666666}, {\"x\": \"Tennessee\", \"y\": 14.285714285714285}, {\"x\": \"Texas\", \"y\": 20.419847328244277}, {\"x\": \"Utah\", \"y\": 32.926829268292686}, {\"x\": \"Virginia\", \"y\": 24.53416149068323}, {\"x\": \"Vermont\", \"y\": 7.6923076923076925}, {\"x\": \"Washington\", \"y\": 31.823599523241953}, {\"x\": \"Wisconsin\", \"y\": 17.6056338028169}, {\"x\": \"West Virginia\", \"y\": 0.0}, {\"x\": \"Wyoming\", \"y\": 0.0}]}, {\"format\": {\"feature\": \"us_states.geo\", \"type\": \"topojson\"}, \"name\": \"states\", \"transform\": [{\"as\": \"value\", \"default\": \"noval\", \"key\": \"data.properties.NAME\", \"type\": \"zip\", \"with\": \"table\", \"withKey\": \"data.x\"}, {\"test\": \"d.path!='noval' && d.value!='noval'\", \"type\": \"filter\"}, {\"projection\": \"albersUsa\", \"scale\": 1100, \"translate\": [480, 250], \"type\": \"geopath\", \"value\": \"data\"}], \"url\": \"us_states.topo.json\"}], \"height\": 500, \"legends\": [], \"marks\": [{\"from\": {\"data\": \"states\"}, \"properties\": {\"enter\": {\"path\": {\"field\": \"path\"}, \"stroke\": {\"value\": \"#000000\"}}, \"update\": {\"fill\": {\"field\": \"value.data.y\", \"scale\": \"color\"}}}, \"type\": \"path\"}], \"padding\": \"auto\", \"scales\": [{\"domain\": [0.0, 36.9179600886918], \"name\": \"color\", \"range\": [\"#fff7f3\", \"#fde0dd\", \"#fcc5c0\", \"#fa9fb5\", \"#f768a1\", \"#dd3497\", \"#ae017e\", \"#7a0177\", \"#49006a\"], \"type\": \"quantize\"}], \"width\": 960}, function(chart) {\n",
       "         chart({el: \"#visec2de0a712474b74b0f3bfec98278437\"}).update();\n",
       "       });\n",
       "     };\n",
       "     _do_plot();\n",
       "   })();\n",
       "</script>\n",
       "<style>.vega canvas {width: 100%;}</style>\n",
       "        "
      ],
      "text/plain": [
       "<IPython.core.display.HTML object>"
      ]
     },
     "metadata": {},
     "output_type": "display_data"
    }
   ],
   "source": [
    "vincent.initialize_notebook()\n",
    "state_topo=\"us_states.topo.json\"\n",
    "geo_data = [{'name': 'states','url': state_topo,'feature': 'us_states.geo'}]\n",
    "\n",
    "vis = vincent.Map(data=res, geo_data=geo_data, scale=1100, data_bind='high', data_key='req_location', \n",
    "                  map_key={'states': 'properties.NAME'}, projection='albersUsa')\n",
    "#vis.scales['color'].type = 'threshold'\n",
    "#vis.scales['color'].domain=[0,1]\n",
    "vis.rebind(column='high', brew='RdPu')\n",
    "vis.display()"
   ]
  },
  {
   "cell_type": "markdown",
   "metadata": {},
   "source": [
    "### ----------------------\n",
    "#### Low salaries <  $50,000 per year"
   ]
  },
  {
   "cell_type": "code",
   "execution_count": 44,
   "metadata": {
    "collapsed": false
   },
   "outputs": [
    {
     "data": {
      "text/html": [
       "\n",
       "           <script>\n",
       "               \n",
       "                function vct_load_lib(url, callback){\n",
       "                      if(typeof d3 !== 'undefined' &&\n",
       "                         url === 'http://d3js.org/d3.v3.min.js'){\n",
       "                        callback()\n",
       "                      }\n",
       "                      var s = document.createElement('script');\n",
       "                      s.src = url;\n",
       "                      s.async = true;\n",
       "                      s.onreadystatechange = s.onload = callback;\n",
       "                      s.onerror = function(){\n",
       "                        console.warn(\"failed to load library \" + url);\n",
       "                        };\n",
       "                      document.getElementsByTagName(\"head\")[0].appendChild(s);\n",
       "                };\n",
       "                var vincent_event = new CustomEvent(\n",
       "                  \"vincent_libs_loaded\",\n",
       "                  {bubbles: true, cancelable: true}\n",
       "                );\n",
       "                \n",
       "               function load_all_libs(){\n",
       "                  console.log('Loading Vincent libs...')\n",
       "                  vct_load_lib('http://d3js.org/d3.v3.min.js', function(){\n",
       "                  vct_load_lib('http://d3js.org/d3.geo.projection.v0.min.js', function(){\n",
       "                  vct_load_lib('http://wrobstory.github.io/d3-cloud/d3.layout.cloud.js', function(){\n",
       "                  vct_load_lib('http://wrobstory.github.io/vega/vega.v1.3.3.js', function(){\n",
       "                  window.dispatchEvent(vincent_event);\n",
       "                  });\n",
       "                  });\n",
       "                  });\n",
       "                  });\n",
       "               };\n",
       "               if(typeof define === \"function\" && define.amd){\n",
       "                    if (window['d3'] === undefined ||\n",
       "                        window['topojson'] === undefined){\n",
       "                        require.config(\n",
       "                            {paths: {\n",
       "                              d3: 'http://d3js.org/d3.v3.min',\n",
       "                              topojson: 'http://d3js.org/topojson.v1.min'\n",
       "                              }\n",
       "                            }\n",
       "                          );\n",
       "                        require([\"d3\"], function(d3){\n",
       "                            console.log('Loading Vincent from require.js...')\n",
       "                            window.d3 = d3;\n",
       "                            require([\"topojson\"], function(topojson){\n",
       "                                window.topojson = topojson;\n",
       "                                load_all_libs();\n",
       "                            });\n",
       "                        });\n",
       "                    } else {\n",
       "                        load_all_libs();\n",
       "                    };\n",
       "               }else{\n",
       "                    console.log('Require.js not found, loading manually...')\n",
       "                    load_all_libs();\n",
       "               };\n",
       "\n",
       "           </script>"
      ],
      "text/plain": [
       "<IPython.core.display.HTML object>"
      ]
     },
     "metadata": {},
     "output_type": "display_data"
    },
    {
     "data": {
      "text/html": [
       "<div id=\"vis15aad24c58eb4d39a4bd4207533c1c15\"></div>\n",
       "<script>\n",
       "   ( function() {\n",
       "     var _do_plot = function() {\n",
       "       if (typeof vg === 'undefined') {\n",
       "         window.addEventListener('vincent_libs_loaded', _do_plot)\n",
       "         return;\n",
       "       }\n",
       "       vg.parse.spec({\"axes\": [], \"data\": [{\"name\": \"table\", \"values\": [{\"x\": \"Alaska\", \"y\": 0.0}, {\"x\": \"Alabama\", \"y\": 24.691358024691358}, {\"x\": \"Arkansas\", \"y\": 33.33333333333333}, {\"x\": \"Arizona\", \"y\": 24.074074074074073}, {\"x\": \"California\", \"y\": 9.929078014184398}, {\"x\": \"Colorado\", \"y\": 14.983713355048861}, {\"x\": \"Connecticut\", \"y\": 16.8141592920354}, {\"x\": \"District of Columbia\", \"y\": 22.519509476031217}, {\"x\": \"Delaware\", \"y\": 26.31578947368421}, {\"x\": \"Florida\", \"y\": 25.495750708215297}, {\"x\": \"Georgia\", \"y\": 20.689655172413794}, {\"x\": \"Hawaii\", \"y\": 47.82608695652174}, {\"x\": \"Iowa\", \"y\": 24.528301886792452}, {\"x\": \"Idaho\", \"y\": 39.130434782608695}, {\"x\": \"Illinois\", \"y\": 17.365269461077844}, {\"x\": \"Indiana\", \"y\": 17.525773195876287}, {\"x\": \"Kansas\", \"y\": 21.951219512195124}, {\"x\": \"Kentucky\", \"y\": 40.476190476190474}, {\"x\": \"Louisiana\", \"y\": 14.095744680851062}, {\"x\": \"Massachusetts\", \"y\": 14.663023679417122}, {\"x\": \"Maryland\", \"y\": 31.001890359168243}, {\"x\": \"Maine\", \"y\": 29.411764705882355}, {\"x\": \"Michigan\", \"y\": 32.35294117647059}, {\"x\": \"Minnesota\", \"y\": 43.53741496598639}, {\"x\": \"Missouri\", \"y\": 31.851851851851855}, {\"x\": \"Mississippi\", \"y\": 23.52941176470588}, {\"x\": \"Montana\", \"y\": 44.44444444444444}, {\"x\": \"North Carolina\", \"y\": 29.721362229102166}, {\"x\": \"North Dakota\", \"y\": 9.090909090909092}, {\"x\": \"Nebraska\", \"y\": 19.35483870967742}, {\"x\": \"New Hampshire\", \"y\": 34.78260869565217}, {\"x\": \"New Jersey\", \"y\": 14.658925979680696}, {\"x\": \"New Mexico\", \"y\": 13.636363636363635}, {\"x\": \"Nevada\", \"y\": 9.090909090909092}, {\"x\": \"New York\", \"y\": 12.747875354107649}, {\"x\": \"Ohio\", \"y\": 24.54212454212454}, {\"x\": \"Oklahoma\", \"y\": 29.629629629629626}, {\"x\": \"Oregon\", \"y\": 25.0}, {\"x\": \"Pennsylvania\", \"y\": 20.33898305084746}, {\"x\": \"Rhode Island\", \"y\": 15.789473684210526}, {\"x\": \"South Carolina\", \"y\": 2.272727272727273}, {\"x\": \"South Dakota\", \"y\": 0.0}, {\"x\": \"Tennessee\", \"y\": 21.84873949579832}, {\"x\": \"Texas\", \"y\": 25.38167938931298}, {\"x\": \"Utah\", \"y\": 18.29268292682927}, {\"x\": \"Virginia\", \"y\": 21.428571428571427}, {\"x\": \"Vermont\", \"y\": 38.46153846153847}, {\"x\": \"Washington\", \"y\": 20.500595947556615}, {\"x\": \"Wisconsin\", \"y\": 33.098591549295776}, {\"x\": \"West Virginia\", \"y\": 40.0}, {\"x\": \"Wyoming\", \"y\": 22.22222222222222}]}, {\"format\": {\"feature\": \"us_states.geo\", \"type\": \"topojson\"}, \"name\": \"states\", \"transform\": [{\"as\": \"value\", \"default\": \"noval\", \"key\": \"data.properties.NAME\", \"type\": \"zip\", \"with\": \"table\", \"withKey\": \"data.x\"}, {\"test\": \"d.path!='noval' && d.value!='noval'\", \"type\": \"filter\"}, {\"projection\": \"albersUsa\", \"scale\": 1100, \"translate\": [480, 250], \"type\": \"geopath\", \"value\": \"data\"}], \"url\": \"us_states.topo.json\"}], \"height\": 500, \"legends\": [], \"marks\": [{\"from\": {\"data\": \"states\"}, \"properties\": {\"enter\": {\"path\": {\"field\": \"path\"}, \"stroke\": {\"value\": \"#000000\"}}, \"update\": {\"fill\": {\"field\": \"value.data.y\", \"scale\": \"color\"}}}, \"type\": \"path\"}], \"padding\": \"auto\", \"scales\": [{\"domain\": [0.0, 42.006802721088434], \"name\": \"color\", \"range\": [\"#fff7f3\", \"#fde0dd\", \"#fcc5c0\", \"#fa9fb5\", \"#f768a1\", \"#dd3497\", \"#ae017e\", \"#7a0177\", \"#49006a\"], \"type\": \"quantize\"}], \"width\": 960}, function(chart) {\n",
       "         chart({el: \"#vis15aad24c58eb4d39a4bd4207533c1c15\"}).update();\n",
       "       });\n",
       "     };\n",
       "     _do_plot();\n",
       "   })();\n",
       "</script>\n",
       "<style>.vega canvas {width: 100%;}</style>\n",
       "        "
      ],
      "text/plain": [
       "<IPython.core.display.HTML object>"
      ]
     },
     "metadata": {},
     "output_type": "display_data"
    }
   ],
   "source": [
    "vincent.initialize_notebook()\n",
    "state_topo=\"us_states.topo.json\"\n",
    "geo_data = [{'name': 'states','url': state_topo,'feature': 'us_states.geo'}]\n",
    "\n",
    "vis = vincent.Map(data=res, geo_data=geo_data, scale=1100, data_bind='low', data_key='req_location', \n",
    "                  map_key={'states': 'properties.NAME'}, projection='albersUsa')\n",
    "#vis.scales['color'].type = 'threshold'\n",
    "#vis.scales['color'].domain=[0,1]\n",
    "vis.rebind(column='low', brew='RdPu')\n",
    "vis.display()"
   ]
  },
  {
   "cell_type": "markdown",
   "metadata": {},
   "source": [
    "### Repartition of data scientists jobs throughout the US\n",
    "Darker means higher proportion of data scientists sought, lighter means lower proportion"
   ]
  },
  {
   "cell_type": "code",
   "execution_count": 45,
   "metadata": {
    "collapsed": false
   },
   "outputs": [],
   "source": [
    "tot_job = df.shape[0]\n",
    "\n",
    "res2 = df.pivot_table(index=['req_location'],values=['salary'],aggfunc=len)\n",
    "res2.reset_index(inplace=True)\n",
    "res2['req_location'] = [states['StateName'][states[\"StateCode\"].tolist().index(x)] for x in res2['req_location']]\n",
    "res2['salary'] =  res2['salary']/tot_job * 100"
   ]
  },
  {
   "cell_type": "code",
   "execution_count": 46,
   "metadata": {
    "collapsed": false
   },
   "outputs": [
    {
     "data": {
      "text/html": [
       "<div>\n",
       "<table border=\"1\" class=\"dataframe\">\n",
       "  <thead>\n",
       "    <tr style=\"text-align: right;\">\n",
       "      <th></th>\n",
       "      <th>req_location</th>\n",
       "      <th>salary</th>\n",
       "    </tr>\n",
       "  </thead>\n",
       "  <tbody>\n",
       "    <tr>\n",
       "      <th>4</th>\n",
       "      <td>California</td>\n",
       "      <td>9.101178</td>\n",
       "    </tr>\n",
       "    <tr>\n",
       "      <th>19</th>\n",
       "      <td>Massachusetts</td>\n",
       "      <td>8.859125</td>\n",
       "    </tr>\n",
       "    <tr>\n",
       "      <th>34</th>\n",
       "      <td>New York</td>\n",
       "      <td>8.544457</td>\n",
       "    </tr>\n",
       "    <tr>\n",
       "      <th>7</th>\n",
       "      <td>District of Columbia</td>\n",
       "      <td>7.237373</td>\n",
       "    </tr>\n",
       "    <tr>\n",
       "      <th>47</th>\n",
       "      <td>Washington</td>\n",
       "      <td>6.769405</td>\n",
       "    </tr>\n",
       "  </tbody>\n",
       "</table>\n",
       "</div>"
      ],
      "text/plain": [
       "            req_location    salary\n",
       "4             California  9.101178\n",
       "19         Massachusetts  8.859125\n",
       "34              New York  8.544457\n",
       "7   District of Columbia  7.237373\n",
       "47            Washington  6.769405"
      ]
     },
     "execution_count": 46,
     "metadata": {},
     "output_type": "execute_result"
    }
   ],
   "source": [
    "# Top 5 states hiring most data scientists\n",
    "res2.sort_values(by='salary',ascending=False).head()"
   ]
  },
  {
   "cell_type": "code",
   "execution_count": 47,
   "metadata": {
    "collapsed": false
   },
   "outputs": [
    {
     "data": {
      "text/html": [
       "<div>\n",
       "<table border=\"1\" class=\"dataframe\">\n",
       "  <thead>\n",
       "    <tr style=\"text-align: right;\">\n",
       "      <th></th>\n",
       "      <th>req_location</th>\n",
       "      <th>salary</th>\n",
       "    </tr>\n",
       "  </thead>\n",
       "  <tbody>\n",
       "    <tr>\n",
       "      <th>41</th>\n",
       "      <td>South Dakota</td>\n",
       "      <td>0.024205</td>\n",
       "    </tr>\n",
       "    <tr>\n",
       "      <th>0</th>\n",
       "      <td>Alaska</td>\n",
       "      <td>0.072616</td>\n",
       "    </tr>\n",
       "    <tr>\n",
       "      <th>50</th>\n",
       "      <td>Wyoming</td>\n",
       "      <td>0.072616</td>\n",
       "    </tr>\n",
       "    <tr>\n",
       "      <th>28</th>\n",
       "      <td>North Dakota</td>\n",
       "      <td>0.088753</td>\n",
       "    </tr>\n",
       "    <tr>\n",
       "      <th>46</th>\n",
       "      <td>Vermont</td>\n",
       "      <td>0.104889</td>\n",
       "    </tr>\n",
       "  </tbody>\n",
       "</table>\n",
       "</div>"
      ],
      "text/plain": [
       "    req_location    salary\n",
       "41  South Dakota  0.024205\n",
       "0         Alaska  0.072616\n",
       "50       Wyoming  0.072616\n",
       "28  North Dakota  0.088753\n",
       "46       Vermont  0.104889"
      ]
     },
     "execution_count": 47,
     "metadata": {},
     "output_type": "execute_result"
    }
   ],
   "source": [
    "# Bottom 5 states hiring least data scientists\n",
    "res2.sort_values(by='salary',ascending=True).head()"
   ]
  },
  {
   "cell_type": "code",
   "execution_count": 48,
   "metadata": {
    "collapsed": false
   },
   "outputs": [
    {
     "data": {
      "text/html": [
       "\n",
       "           <script>\n",
       "               \n",
       "                function vct_load_lib(url, callback){\n",
       "                      if(typeof d3 !== 'undefined' &&\n",
       "                         url === 'http://d3js.org/d3.v3.min.js'){\n",
       "                        callback()\n",
       "                      }\n",
       "                      var s = document.createElement('script');\n",
       "                      s.src = url;\n",
       "                      s.async = true;\n",
       "                      s.onreadystatechange = s.onload = callback;\n",
       "                      s.onerror = function(){\n",
       "                        console.warn(\"failed to load library \" + url);\n",
       "                        };\n",
       "                      document.getElementsByTagName(\"head\")[0].appendChild(s);\n",
       "                };\n",
       "                var vincent_event = new CustomEvent(\n",
       "                  \"vincent_libs_loaded\",\n",
       "                  {bubbles: true, cancelable: true}\n",
       "                );\n",
       "                \n",
       "               function load_all_libs(){\n",
       "                  console.log('Loading Vincent libs...')\n",
       "                  vct_load_lib('http://d3js.org/d3.v3.min.js', function(){\n",
       "                  vct_load_lib('http://d3js.org/d3.geo.projection.v0.min.js', function(){\n",
       "                  vct_load_lib('http://wrobstory.github.io/d3-cloud/d3.layout.cloud.js', function(){\n",
       "                  vct_load_lib('http://wrobstory.github.io/vega/vega.v1.3.3.js', function(){\n",
       "                  window.dispatchEvent(vincent_event);\n",
       "                  });\n",
       "                  });\n",
       "                  });\n",
       "                  });\n",
       "               };\n",
       "               if(typeof define === \"function\" && define.amd){\n",
       "                    if (window['d3'] === undefined ||\n",
       "                        window['topojson'] === undefined){\n",
       "                        require.config(\n",
       "                            {paths: {\n",
       "                              d3: 'http://d3js.org/d3.v3.min',\n",
       "                              topojson: 'http://d3js.org/topojson.v1.min'\n",
       "                              }\n",
       "                            }\n",
       "                          );\n",
       "                        require([\"d3\"], function(d3){\n",
       "                            console.log('Loading Vincent from require.js...')\n",
       "                            window.d3 = d3;\n",
       "                            require([\"topojson\"], function(topojson){\n",
       "                                window.topojson = topojson;\n",
       "                                load_all_libs();\n",
       "                            });\n",
       "                        });\n",
       "                    } else {\n",
       "                        load_all_libs();\n",
       "                    };\n",
       "               }else{\n",
       "                    console.log('Require.js not found, loading manually...')\n",
       "                    load_all_libs();\n",
       "               };\n",
       "\n",
       "           </script>"
      ],
      "text/plain": [
       "<IPython.core.display.HTML object>"
      ]
     },
     "metadata": {},
     "output_type": "display_data"
    },
    {
     "data": {
      "text/html": [
       "<div id=\"vis130166df579c48cf909249948d5a9a2c\"></div>\n",
       "<script>\n",
       "   ( function() {\n",
       "     var _do_plot = function() {\n",
       "       if (typeof vg === 'undefined') {\n",
       "         window.addEventListener('vincent_libs_loaded', _do_plot)\n",
       "         return;\n",
       "       }\n",
       "       vg.parse.spec({\"axes\": [], \"data\": [{\"name\": \"table\", \"values\": [{\"x\": \"Alaska\", \"y\": 0.07261578182991771}, {\"x\": \"Alabama\", \"y\": 0.6535420364692593}, {\"x\": \"Arkansas\", \"y\": 0.14523156365983542}, {\"x\": \"Arizona\", \"y\": 0.8713893819590124}, {\"x\": \"California\", \"y\": 9.101177989349685}, {\"x\": \"Colorado\", \"y\": 2.477005002420526}, {\"x\": \"Connecticut\", \"y\": 0.9117314829756334}, {\"x\": \"District of Columbia\", \"y\": 7.237372922381797}, {\"x\": \"Delaware\", \"y\": 0.3065999677263192}, {\"x\": \"Florida\", \"y\": 2.8481523317734387}, {\"x\": \"Georgia\", \"y\": 2.339841858964015}, {\"x\": \"Hawaii\", \"y\": 0.18557366467645636}, {\"x\": \"Iowa\", \"y\": 0.427626270776182}, {\"x\": \"Idaho\", \"y\": 0.18557366467645636}, {\"x\": \"Illinois\", \"y\": 4.042278521865419}, {\"x\": \"Indiana\", \"y\": 0.7826367597224463}, {\"x\": \"Kansas\", \"y\": 0.3308052283362917}, {\"x\": \"Kentucky\", \"y\": 0.33887364853961593}, {\"x\": \"Louisiana\", \"y\": 3.033725996449895}, {\"x\": \"Massachusetts\", \"y\": 8.859125383249959}, {\"x\": \"Maryland\", \"y\": 4.2681942875584955}, {\"x\": \"Maine\", \"y\": 0.1371631434565112}, {\"x\": \"Michigan\", \"y\": 1.6459577214781345}, {\"x\": \"Minnesota\", \"y\": 1.1860577698886559}, {\"x\": \"Missouri\", \"y\": 2.178473454897531}, {\"x\": \"Mississippi\", \"y\": 0.1371631434565112}, {\"x\": \"Montana\", \"y\": 0.14523156365983542}, {\"x\": \"North Carolina\", \"y\": 2.606099725673713}, {\"x\": \"North Dakota\", \"y\": 0.08875262223656609}, {\"x\": \"Nebraska\", \"y\": 0.2501210263030499}, {\"x\": \"New Hampshire\", \"y\": 0.18557366467645636}, {\"x\": \"New Jersey\", \"y\": 5.559141520090366}, {\"x\": \"New Mexico\", \"y\": 0.8875262223656607}, {\"x\": \"Nevada\", \"y\": 0.26625786670969825}, {\"x\": \"New York\", \"y\": 8.544456995320317}, {\"x\": \"Ohio\", \"y\": 2.2026787155075036}, {\"x\": \"Oklahoma\", \"y\": 0.2178473454897531}, {\"x\": \"Oregon\", \"y\": 0.7422946587058254}, {\"x\": \"Pennsylvania\", \"y\": 3.8082943359690176}, {\"x\": \"Rhode Island\", \"y\": 0.1532999838631596}, {\"x\": \"South Carolina\", \"y\": 0.35501048894626436}, {\"x\": \"South Dakota\", \"y\": 0.024205260609972568}, {\"x\": \"Tennessee\", \"y\": 0.9601420041955786}, {\"x\": \"Texas\", \"y\": 4.227852186541875}, {\"x\": \"Utah\", \"y\": 0.6616104566725834}, {\"x\": \"Virginia\", \"y\": 5.1960626109407775}, {\"x\": \"Vermont\", \"y\": 0.10488946264321446}, {\"x\": \"Washington\", \"y\": 6.769404550588995}, {\"x\": \"Wisconsin\", \"y\": 1.1457156688720347}, {\"x\": \"West Virginia\", \"y\": 0.12102630304986284}, {\"x\": \"Wyoming\", \"y\": 0.07261578182991771}]}, {\"format\": {\"feature\": \"us_states.geo\", \"type\": \"topojson\"}, \"name\": \"states\", \"transform\": [{\"as\": \"value\", \"default\": \"noval\", \"key\": \"data.properties.NAME\", \"type\": \"zip\", \"with\": \"table\", \"withKey\": \"data.x\"}, {\"test\": \"d.path!='noval' && d.value!='noval'\", \"type\": \"filter\"}, {\"projection\": \"albersUsa\", \"scale\": 1100, \"translate\": [480, 250], \"type\": \"geopath\", \"value\": \"data\"}], \"url\": \"us_states.topo.json\"}], \"height\": 500, \"legends\": [], \"marks\": [{\"from\": {\"data\": \"states\"}, \"properties\": {\"enter\": {\"path\": {\"field\": \"path\"}, \"stroke\": {\"value\": \"#000000\"}}, \"update\": {\"fill\": {\"field\": \"value.data.y\", \"scale\": \"color\"}}}, \"type\": \"path\"}], \"padding\": \"auto\", \"scales\": [{\"domain\": [0.024205260609972568, 7.890914958851058], \"name\": \"color\", \"range\": [\"#fff7f3\", \"#fde0dd\", \"#fcc5c0\", \"#fa9fb5\", \"#f768a1\", \"#dd3497\", \"#ae017e\", \"#7a0177\", \"#49006a\"], \"type\": \"quantize\"}], \"width\": 960}, function(chart) {\n",
       "         chart({el: \"#vis130166df579c48cf909249948d5a9a2c\"}).update();\n",
       "       });\n",
       "     };\n",
       "     _do_plot();\n",
       "   })();\n",
       "</script>\n",
       "<style>.vega canvas {width: 100%;}</style>\n",
       "        "
      ],
      "text/plain": [
       "<IPython.core.display.HTML object>"
      ]
     },
     "metadata": {},
     "output_type": "display_data"
    }
   ],
   "source": [
    "vincent.initialize_notebook()\n",
    "state_topo=\"us_states.topo.json\"\n",
    "geo_data = [{'name': 'states','url': state_topo,'feature': 'us_states.geo'}]\n",
    "\n",
    "vis = vincent.Map(data=res2, geo_data=geo_data, scale=1100, data_bind='salary', data_key='req_location', \n",
    "                  map_key={'states': 'properties.NAME'}, projection='albersUsa')\n",
    "#vis.scales['color'].type = 'threshold'\n",
    "#vis.scales['color'].domain=[0,1]\n",
    "vis.rebind(column='salary', brew='RdPu')\n",
    "vis.display()\n"
   ]
  },
  {
   "cell_type": "markdown",
   "metadata": {},
   "source": [
    "### Enhancing the model"
   ]
  },
  {
   "cell_type": "code",
   "execution_count": 49,
   "metadata": {
    "collapsed": false
   },
   "outputs": [],
   "source": [
    "# Create the features matrix based on 250 most frequent words in job adds\n",
    "from sklearn.feature_extraction.text import CountVectorizer\n",
    "\n",
    "vectorizer = CountVectorizer(max_features = 250, ngram_range=(0,1), stop_words='english', binary=True)\n",
    "\n",
    "vectorizer.fit(df.job)\n",
    "vectorizer.get_feature_names()[100:120]\n",
    "X = vectorizer.transform(df.job).todense()"
   ]
  },
  {
   "cell_type": "code",
   "execution_count": 50,
   "metadata": {
    "collapsed": false
   },
   "outputs": [],
   "source": [
    "# Create outcome list\n",
    "y = df.range"
   ]
  },
  {
   "cell_type": "code",
   "execution_count": 51,
   "metadata": {
    "collapsed": false
   },
   "outputs": [],
   "source": [
    "from sklearn.metrics import classification_report, confusion_matrix, accuracy_score\n",
    "from sklearn.model_selection import train_test_split\n",
    "from sklearn.linear_model import  LogisticRegressionCV\n",
    "\n",
    "# train test split with a stratify term on the outcome to keep datasets balanced on the three outcomes\n",
    "X_train, X_test, Y_train, Y_test = train_test_split(X, y, test_size=0.33, stratify=y, random_state=77)"
   ]
  },
  {
   "cell_type": "code",
   "execution_count": 52,
   "metadata": {
    "collapsed": false
   },
   "outputs": [
    {
     "data": {
      "text/plain": [
       "LogisticRegressionCV(Cs=15, class_weight=None, cv=5, dual=False,\n",
       "           fit_intercept=True, intercept_scaling=1.0, max_iter=100,\n",
       "           multi_class='ovr', n_jobs=1, penalty='l2', random_state=None,\n",
       "           refit=True, scoring='accuracy', solver='liblinear', tol=0.0001,\n",
       "           verbose=0)"
      ]
     },
     "execution_count": 52,
     "metadata": {},
     "output_type": "execute_result"
    }
   ],
   "source": [
    "logreg_cv = LogisticRegressionCV(Cs=15, cv=5, solver='liblinear', scoring='accuracy',penalty='l2')\n",
    "logreg_cv.fit(X_train, Y_train)"
   ]
  },
  {
   "cell_type": "code",
   "execution_count": 53,
   "metadata": {
    "collapsed": false
   },
   "outputs": [
    {
     "name": "stdout",
     "output_type": "stream",
     "text": [
      "best C for class:\n",
      "{'A': 0.0001, 'C': 0.071968567300115138, 'B': 0.0001, 'E': 0.019306977288832496, 'D': 0.071968567300115138, 'F': 0.26826957952797248}\n"
     ]
    }
   ],
   "source": [
    "# find best C per range\n",
    "print('best C for class:')\n",
    "best_C = {logreg_cv.classes_[i]:x for i, (x, c) in enumerate(zip(logreg_cv.C_, logreg_cv.classes_))}\n",
    "print(best_C)"
   ]
  },
  {
   "cell_type": "code",
   "execution_count": 54,
   "metadata": {
    "collapsed": false
   },
   "outputs": [
    {
     "data": {
      "text/plain": [
       "LogisticRegression(C=0.26826957952797248, class_weight=None, dual=False,\n",
       "          fit_intercept=True, intercept_scaling=1, max_iter=100,\n",
       "          multi_class='ovr', n_jobs=1, penalty='l2', random_state=None,\n",
       "          solver='liblinear', tol=0.0001, verbose=0, warm_start=False)"
      ]
     },
     "execution_count": 54,
     "metadata": {},
     "output_type": "execute_result"
    }
   ],
   "source": [
    "# fit regular logit model each ranges\n",
    "# use ridge penalty\n",
    "logreg_1 = LogisticRegression(C=best_C['A'], solver='liblinear',penalty='l2')\n",
    "logreg_2 = LogisticRegression(C=best_C['B'], solver='liblinear',penalty='l2')\n",
    "logreg_3 = LogisticRegression(C=best_C['C'], solver='liblinear',penalty='l2')\n",
    "logreg_4 = LogisticRegression(C=best_C['D'], solver='liblinear',penalty='l2')\n",
    "logreg_5 = LogisticRegression(C=best_C['E'], solver='liblinear',penalty='l2')\n",
    "logreg_6 = LogisticRegression(C=best_C['F'], solver='liblinear',penalty='l2')\n",
    "logreg_1.fit(X_train, Y_train)\n",
    "logreg_2.fit(X_train, Y_train)\n",
    "logreg_3.fit(X_train, Y_train)\n",
    "logreg_4.fit(X_train, Y_train)\n",
    "logreg_5.fit(X_train, Y_train)\n",
    "logreg_6.fit(X_train, Y_train)"
   ]
  },
  {
   "cell_type": "code",
   "execution_count": 55,
   "metadata": {
    "collapsed": false
   },
   "outputs": [
    {
     "name": "stdout",
     "output_type": "stream",
     "text": [
      "             precision    recall  f1-score   support\n",
      "\n",
      "          A       0.00      0.00      0.00         7\n",
      "          B       0.00      0.00      0.00        64\n",
      "          C       0.58      0.04      0.07       952\n",
      "          D       0.30      0.66      0.41      1122\n",
      "          E       0.37      0.51      0.43      1130\n",
      "          F       0.00      0.00      0.00       816\n",
      "\n",
      "avg / total       0.32      0.33      0.25      4091\n",
      "\n",
      "             precision    recall  f1-score   support\n",
      "\n",
      "          A       0.00      0.00      0.00         7\n",
      "          B       0.00      0.00      0.00        64\n",
      "          C       0.58      0.04      0.07       952\n",
      "          D       0.30      0.66      0.41      1122\n",
      "          E       0.37      0.51      0.43      1130\n",
      "          F       0.00      0.00      0.00       816\n",
      "\n",
      "avg / total       0.32      0.33      0.25      4091\n",
      "\n",
      "             precision    recall  f1-score   support\n",
      "\n",
      "          A       0.00      0.00      0.00         7\n",
      "          B       0.00      0.00      0.00        64\n",
      "          C       0.42      0.61      0.50       952\n",
      "          D       0.32      0.26      0.29      1122\n",
      "          E       0.38      0.49      0.43      1130\n",
      "          F       0.50      0.21      0.30       816\n",
      "\n",
      "avg / total       0.39      0.39      0.37      4091\n",
      "\n",
      "             precision    recall  f1-score   support\n",
      "\n",
      "          A       0.00      0.00      0.00         7\n",
      "          B       0.00      0.00      0.00        64\n",
      "          C       0.42      0.61      0.50       952\n",
      "          D       0.32      0.26      0.29      1122\n",
      "          E       0.38      0.49      0.43      1130\n",
      "          F       0.50      0.21      0.30       816\n",
      "\n",
      "avg / total       0.39      0.39      0.37      4091\n",
      "\n",
      "             precision    recall  f1-score   support\n",
      "\n",
      "          A       0.00      0.00      0.00         7\n",
      "          B       0.00      0.00      0.00        64\n",
      "          C       0.42      0.57      0.48       952\n",
      "          D       0.32      0.30      0.31      1122\n",
      "          E       0.37      0.51      0.43      1130\n",
      "          F       0.59      0.14      0.23       816\n",
      "\n",
      "avg / total       0.41      0.38      0.36      4091\n",
      "\n",
      "             precision    recall  f1-score   support\n",
      "\n",
      "          A       0.00      0.00      0.00         7\n",
      "          B       0.00      0.00      0.00        64\n",
      "          C       0.42      0.62      0.50       952\n",
      "          D       0.32      0.26      0.29      1122\n",
      "          E       0.38      0.46      0.42      1130\n",
      "          F       0.46      0.24      0.32       816\n",
      "\n",
      "avg / total       0.38      0.39      0.37      4091\n",
      "\n"
     ]
    },
    {
     "name": "stderr",
     "output_type": "stream",
     "text": [
      "C:\\Anaconda2\\lib\\site-packages\\sklearn\\metrics\\classification.py:1113: UndefinedMetricWarning: Precision and F-score are ill-defined and being set to 0.0 in labels with no predicted samples.\n",
      "  'precision', 'predicted', average, warn_for)\n"
     ]
    }
   ],
   "source": [
    "# predict and build confusion matrices for the models above\n",
    "Y_1_pred = logreg_1.predict(X_test)\n",
    "Y_2_pred = logreg_2.predict(X_test)\n",
    "Y_3_pred = logreg_3.predict(X_test)\n",
    "Y_4_pred = logreg_4.predict(X_test)\n",
    "Y_5_pred = logreg_5.predict(X_test)\n",
    "Y_6_pred = logreg_6.predict(X_test)\n",
    "\n",
    "# print classification reports\n",
    "\n",
    "print(classification_report(Y_test, Y_1_pred))\n",
    "print(classification_report(Y_test, Y_2_pred))\n",
    "print(classification_report(Y_test, Y_3_pred))\n",
    "print(classification_report(Y_test, Y_4_pred))\n",
    "print(classification_report(Y_test, Y_5_pred))\n",
    "print(classification_report(Y_test, Y_6_pred))"
   ]
  },
  {
   "cell_type": "code",
   "execution_count": 56,
   "metadata": {
    "collapsed": false
   },
   "outputs": [
    {
     "name": "stdout",
     "output_type": "stream",
     "text": [
      "[[  0   0   6   0   1   0]\n",
      " [  0   0  46  13   5   0]\n",
      " [  0   0 580 236 128   8]\n",
      " [  0   0 419 295 357  51]\n",
      " [  0   0 215 253 550 112]\n",
      " [  0   0 110 134 400 172]]\n"
     ]
    }
   ],
   "source": [
    "conmat = confusion_matrix(Y_test, Y_3_pred, labels=logreg_3.classes_)\n",
    "print(conmat)"
   ]
  },
  {
   "cell_type": "code",
   "execution_count": 57,
   "metadata": {
    "collapsed": false
   },
   "outputs": [
    {
     "name": "stdout",
     "output_type": "stream",
     "text": [
      "Fitting 5 folds for each of 24 candidates, totalling 120 fits\n"
     ]
    },
    {
     "name": "stderr",
     "output_type": "stream",
     "text": [
      "[Parallel(n_jobs=1)]: Done 120 out of 120 | elapsed:   17.0s finished\n"
     ]
    },
    {
     "data": {
      "text/plain": [
       "GridSearchCV(cv=5, error_score='raise',\n",
       "       estimator=LogisticRegression(C=1.0, class_weight=None, dual=False, fit_intercept=True,\n",
       "          intercept_scaling=1, max_iter=100, multi_class='ovr', n_jobs=1,\n",
       "          penalty='l2', random_state=None, solver='liblinear', tol=0.0001,\n",
       "          verbose=0, warm_start=False),\n",
       "       fit_params={}, iid=True, n_jobs=1,\n",
       "       param_grid={'penalty': ['l1', 'l2'], 'C': [0.0001, 0.001, 0.01, 0.1, 0.5, 0.75, 1.0, 2.5, 5.0, 10.0, 100.0, 1000.0]},\n",
       "       pre_dispatch='2*n_jobs', refit=True, return_train_score=True,\n",
       "       scoring='accuracy', verbose=True)"
      ]
     },
     "execution_count": 57,
     "metadata": {},
     "output_type": "execute_result"
    }
   ],
   "source": [
    "logreg_f = LogisticRegression()\n",
    "C_vals = [0.0001, 0.001, 0.01, 0.1, 0.5, 0.75, 1.0, 2.5, 5.0, 10.0, 100.0, 1000.0]\n",
    "penalties = ['l1','l2']\n",
    "\n",
    "gs = GridSearchCV(logreg_f, {'penalty':penalties, 'C':C_vals}, verbose=True, cv=5, scoring='accuracy')\n",
    "gs.fit(X_train, Y_train)"
   ]
  },
  {
   "cell_type": "code",
   "execution_count": 58,
   "metadata": {
    "collapsed": false
   },
   "outputs": [
    {
     "data": {
      "text/plain": [
       "{'C': 0.75, 'penalty': 'l1'}"
      ]
     },
     "execution_count": 58,
     "metadata": {},
     "output_type": "execute_result"
    }
   ],
   "source": [
    "gs.best_params_"
   ]
  },
  {
   "cell_type": "code",
   "execution_count": 59,
   "metadata": {
    "collapsed": false
   },
   "outputs": [],
   "source": [
    "# As we know, this output of a confusion matrix is a bit awkward and confusing\n",
    "# Here is some nice code to plot a confusion matrix in an easier to read way,\n",
    "# this is from sklearn's documentation\n",
    "import matplotlib.pyplot as plt\n",
    "%matplotlib inline\n",
    "import itertools\n",
    "\n",
    "def plot_confusion_matrix(cm, classes, title='Confusion matrix', cmap=plt.cm.Blues):\n",
    "    plt.imshow(cm, interpolation='nearest', cmap=cmap)\n",
    "    plt.title(title)\n",
    "    plt.colorbar()\n",
    "    tick_marks = np.arange(len(classes))\n",
    "    plt.xticks(tick_marks, classes, rotation=45)\n",
    "    plt.yticks(tick_marks, classes)\n",
    "    thresh = cm.max() / 2.\n",
    "    for i, j in itertools.product(np.arange(int(cm.shape[0])), np.arange(int(cm.shape[1]))):\n",
    "        plt.text(j, i, cm[i, j],\n",
    "                 horizontalalignment=\"center\",\n",
    "                 color=\"white\" if cm[i, j] > thresh else \"black\")\n",
    "    plt.ylabel('True label')\n",
    "    plt.xlabel('Predicted label')\n",
    "    plt.show()\n",
    "    return"
   ]
  },
  {
   "cell_type": "code",
   "execution_count": 60,
   "metadata": {
    "collapsed": false
   },
   "outputs": [
    {
     "data": {
      "image/png": "[encoded data removed]",
      "text/plain": [
       "<matplotlib.figure.Figure at 0x9157940>"
      ]
     },
     "metadata": {},
     "output_type": "display_data"
    }
   ],
   "source": [
    "gs_logreg = LogisticRegression(C=gs.best_params_[\"C\"], penalty=gs.best_params_[\"penalty\"], solver='liblinear')\n",
    "gs_logreg.fit(X_train, Y_train)\n",
    "Y_ = gs_logreg.predict(X_test)\n",
    "conmat_gs_logreg = confusion_matrix(Y_test, Y_, labels=gs_logreg.classes_)\n",
    "plot_confusion_matrix(conmat_gs_logreg, classes=gs_logreg.classes_)\n",
    "#print(classification_report(Y_test, Y_))"
   ]
  },
  {
   "cell_type": "code",
   "execution_count": 61,
   "metadata": {
    "collapsed": false
   },
   "outputs": [
    {
     "data": {
      "text/plain": [
       "0.39232461500855537"
      ]
     },
     "execution_count": 61,
     "metadata": {},
     "output_type": "execute_result"
    }
   ],
   "source": [
    "# Accucary for our model\n",
    "gs_logreg.score(X_test, Y_test)"
   ]
  },
  {
   "cell_type": "markdown",
   "metadata": {},
   "source": [
    "Our model has an accuracy of nearly 40%. Whilst this may seem low, this is probably not too bad given the limited number of predictors used (elements of the job title) and the level of granularity we are trying to achieve through classification. In this case our baseline is 16,7% accuracy if we randomly assign the jobs to ranges."
   ]
  }
 ],
 "metadata": {
  "anaconda-cloud": {},
  "kernelspec": {
   "display_name": "Python [Root]",
   "language": "python",
   "name": "Python [Root]"
  },
  "language_info": {
   "codemirror_mode": {
    "name": "ipython",
    "version": 2
   },
   "file_extension": ".py",
   "mimetype": "text/x-python",
   "name": "python",
   "nbconvert_exporter": "python",
   "pygments_lexer": "ipython2",
   "version": "2.7.12"
  }
 },
 "nbformat": 4,
 "nbformat_minor": 0
}
