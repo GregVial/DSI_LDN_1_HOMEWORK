{
 "cells": [
  {
   "cell_type": "markdown",
   "metadata": {},
   "source": [
    "# Homework w08d01 - Bayesian Statistics"
   ]
  },
  {
   "cell_type": "markdown",
   "metadata": {},
   "source": [
    "In these exercises, we are going to make use of Bayes rule\n",
    "$$\\pi(\\theta| x)=\\frac{\\pi(x |\\theta)\\pi(\\theta)}{\\sum_\\theta \\pi(x |\\theta)\\pi(\\theta)}\\ .$$"
   ]
  },
  {
   "cell_type": "code",
   "execution_count": 92,
   "metadata": {
    "collapsed": true
   },
   "outputs": [],
   "source": [
    "import numpy as np\n",
    "from scipy import misc, special"
   ]
  },
  {
   "cell_type": "markdown",
   "metadata": {},
   "source": [
    "#### 1. Imagine you have a box containing three coins. Two of these coins are fair (equal probability for head and tail), but one is biased (probability for head is 0.2). Now you draw a coin from the box and toss it three times. If two heads and one tail are obtained (in no particular order), what is the probability that the coin was fair, and what is the probability that the coin was biased?"
   ]
  },
  {
   "cell_type": "code",
   "execution_count": 93,
   "metadata": {
    "collapsed": false
   },
   "outputs": [
    {
     "name": "stdout",
     "output_type": "stream",
     "text": [
      "Probability that the coin in biased: 0.113475\n"
     ]
    }
   ],
   "source": [
    "from __future__ import division\n",
    "from scipy.stats import binom\n",
    "hypothesis_fair = 2/3\n",
    "prior_proba = binom.pmf(2,3,.5)\n",
    "marginal_proba = (prior_proba *2 + binom.pmf(2,3,.2))/3\n",
    "\n",
    "proba_fair = (hypothesis_fair)*prior_proba/marginal_proba\n",
    "proba_biased = 1 - proba_fair\n",
    "\n",
    "print(\"Probability that the coin in biased: %f\" % proba_biased)"
   ]
  },
  {
   "cell_type": "markdown",
   "metadata": {},
   "source": [
    "#### 2. The random variable X has a Poisson distribution with an unknown parameter $\\lambda$ with the subjective prior probility function given in the table. A random sample of size 3 yields the X-values 2, 0, and 3. Find the posterior distribution of $\\lambda$.\n",
    "\n",
    "|$\\lambda$|0.5|1.0|1.5|\n",
    "|:---------:|---|---|---|\n",
    "|$\\pi\\left(\\lambda\\right)$|1/2|1/3|1/6|\n",
    "\n",
    "Hints: \n",
    "\n",
    "The Poisson distribution of a discrete random variable X is given by $P(X=x)=\\frac{\\lambda^x}{x!} \\exp(-\\lambda)$. The likelihood function is given by the product of the probabilities for the three observed x-values given a particular $\\lambda$.\n",
    "\n",
    "You can use the function misc.factorial from the scipy package to calculate the factorial.\n",
    "\n",
    "For more information on the Poisson distribution, see https://en.wikipedia.org/wiki/Poisson_distribution."
   ]
  },
  {
   "cell_type": "code",
   "execution_count": null,
   "metadata": {
    "collapsed": false
   },
   "outputs": [],
   "source": []
  },
  {
   "cell_type": "markdown",
   "metadata": {},
   "source": [
    "#### 3. In a lot of 100 lightbulbs produced by a machine, an unknown number $\\rho$ are defective. Assume that $\\rho$ can range between 0 and 100 and has a prior binomial distribution with parameter $p=0.1$. Find the posterior distribution of $\\rho$ if a light bulb chosen at random from the lot is a) defective; b) not defective.\n",
    "\n",
    "Hint: \n",
    "\n",
    "The binomial distribution for a discrete random variable X is given by $P(X=x)=\\binom{n}{x} p^x (1-p)^{n-x}$. \n",
    "\n",
    "For a lightbulb being defect, you can assume a uniform likelihood function of the form $\\frac{\\rho}{n}$.\n",
    "\n",
    "You can use the scipy function special.binom(n,k) to calculate the binomial coefficient.\n",
    "\n",
    "For more information on the binomial distribution, see https://en.wikipedia.org/wiki/Binomial_distribution."
   ]
  },
  {
   "cell_type": "code",
   "execution_count": 113,
   "metadata": {
    "collapsed": false
   },
   "outputs": [],
   "source": [
    "# Probability that p/100 light bulb is defectuous if 1 was found:\n",
    "# probability that 1 was found if p/100 is defectuous * proba 1 was found / (sum over all values of proba)\n",
    "\n",
    "p_list = list(range(0,101))\n",
    "\n",
    "marg_prob = []\n",
    "for p in p_list:\n",
    "    marg_prob.append(binom.pmf(p,100,10/100)*p/100)\n",
    "marginal_probability = sum(marg_prob)\n",
    "\n",
    "posterior_proba=[]\n",
    "for p in p_list:\n",
    "    likelihood = p/100\n",
    "    prior_proba = binom.pmf(p,100,10/100)\n",
    "    posterior_proba.append((likelihood*prior_proba)/marginal_probability)"
   ]
  },
  {
   "cell_type": "code",
   "execution_count": 114,
   "metadata": {
    "collapsed": false
   },
   "outputs": [],
   "source": [
    "marg_prob_non_def = []\n",
    "for p in p_list:\n",
    "    marg_prob_non_def.append(binom.pmf(p,100,10/100)*(1-p/100))\n",
    "marginal_probability_non_def = sum(marg_prob_non_def)\n",
    "\n",
    "posterior_proba_non_def=[]\n",
    "for p in p_list:\n",
    "    likelihood = 1-p/100\n",
    "    prior_proba_non_def = binom.pmf(p,100,10/100)\n",
    "    posterior_proba_non_def.append((likelihood*prior_proba_non_def)/marginal_probability_non_def)"
   ]
  },
  {
   "cell_type": "code",
   "execution_count": 115,
   "metadata": {
    "collapsed": false
   },
   "outputs": [
    {
     "data": {
      "image/png": "[encoded data removed]",
      "text/plain": [
       "<matplotlib.figure.Figure at 0xaca5470>"
      ]
     },
     "metadata": {},
     "output_type": "display_data"
    }
   ],
   "source": [
    "import matplotlib.pyplot as plt\n",
    "%matplotlib inline\n",
    "plt.plot(p_list,posterior_proba,'r',p_list,posterior_proba_non_def,'b--')\n",
    "#plt.plot(p_list,posterior_proba,'r')\n",
    "plt.title(\"probabilities if light bulb found is defective\")\n",
    "plt.xlabel(\"prior probability of defective bulb\")\n",
    "plt.ylabel(\"posterior probability of defective bulb\")\n",
    "plt.show()"
   ]
  }
 ],
 "metadata": {
  "kernelspec": {
   "display_name": "Python [Root]",
   "language": "python",
   "name": "Python [Root]"
  },
  "language_info": {
   "codemirror_mode": {
    "name": "ipython",
    "version": 2
   },
   "file_extension": ".py",
   "mimetype": "text/x-python",
   "name": "python",
   "nbconvert_exporter": "python",
   "pygments_lexer": "ipython2",
   "version": "2.7.12"
  }
 },
 "nbformat": 4,
 "nbformat_minor": 1
}
